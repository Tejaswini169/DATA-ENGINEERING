{
 "cells": [
  {
   "cell_type": "markdown",
   "id": "ad9d2acb-e3eb-4298-b429-7c695f0ffccb",
   "metadata": {},
   "source": [
    "Name : Tejaswini Gokanakonda\n",
    "\n",
    "Roll No : DE142\n",
    "\n",
    "Date : 16-11-2024"
   ]
  },
  {
   "cell_type": "markdown",
   "id": "19aebafc-4fef-4e93-b625-f5f63a321c81",
   "metadata": {},
   "source": [
    "**Loading and Preview the Dataset**"
   ]
  },
  {
   "cell_type": "code",
   "execution_count": 9,
   "id": "670408ab-b280-46de-9e68-303d43dbe464",
   "metadata": {},
   "outputs": [
    {
     "name": "stdout",
     "output_type": "stream",
     "text": [
      "             date   sex      age         ethnicity  population\n",
      "0      1970-01-01  both  overall           overall     10881.8\n",
      "1      1970-01-01  both      0-4           overall      1702.4\n",
      "2      1970-01-01  both      5-9           overall      1690.3\n",
      "3      1970-01-01  both    10-14           overall      1454.7\n",
      "4      1970-01-01  both    15-19           overall      1197.6\n",
      "...           ...   ...      ...               ...         ...\n",
      "17011  2024-01-01  male      85+        bumi_other        10.0\n",
      "17012  2024-01-01  male      85+           chinese        14.9\n",
      "17013  2024-01-01  male      85+            indian         4.4\n",
      "17014  2024-01-01  male      85+     other_citizen         0.6\n",
      "17015  2024-01-01  male      85+  other_noncitizen        11.7\n",
      "\n",
      "[17016 rows x 5 columns]\n"
     ]
    }
   ],
   "source": [
    "import pandas as pd\n",
    "df = pd.read_csv(\"Downloads/population_malaysia.csv\")\n",
    "df.head()\n",
    "print(df)"
   ]
  },
  {
   "cell_type": "markdown",
   "id": "5cf6213c-8172-489e-9d40-36c69bdd71ee",
   "metadata": {},
   "source": [
    "Explanation: This is a heading introducing the section for loading and previewing the dataset. It sets the context for the next steps.\n",
    "\n",
    "Output: Displays the first few rows of the dataset and prints the entire dataset (truncated for display).\n",
    "\n",
    "Explanation:\n",
    "\n",
    "**import pandas as pd**: Imports the Pandas library for data manipulation.\n",
    "\n",
    "**pd.read_csv**: Loads a CSV file located at Downloads/population_malaysia.csv into a DataFrame called df.\n",
    "\n",
    "**df.head()**: Displays the first 5 rows of the DataFrame for a quick preview.\n",
    "\n",
    "**print(df)**: Prints the entire DataFrame. Useful for confirming the dataset structure but may overwhelm the output if the dataset is large.\n"
   ]
  },
  {
   "cell_type": "markdown",
   "id": "842c31c7-4176-496b-a169-70ac1dc5447a",
   "metadata": {},
   "source": [
    "**Basic Dataset Information**"
   ]
  },
  {
   "cell_type": "code",
   "execution_count": 10,
   "id": "c3373f4f-8894-4b0a-8612-ead8cfbccf5c",
   "metadata": {},
   "outputs": [
    {
     "data": {
      "text/html": [
       "<div>\n",
       "<style scoped>\n",
       "    .dataframe tbody tr th:only-of-type {\n",
       "        vertical-align: middle;\n",
       "    }\n",
       "\n",
       "    .dataframe tbody tr th {\n",
       "        vertical-align: top;\n",
       "    }\n",
       "\n",
       "    .dataframe thead th {\n",
       "        text-align: right;\n",
       "    }\n",
       "</style>\n",
       "<table border=\"1\" class=\"dataframe\">\n",
       "  <thead>\n",
       "    <tr style=\"text-align: right;\">\n",
       "      <th></th>\n",
       "      <th>date</th>\n",
       "      <th>sex</th>\n",
       "      <th>age</th>\n",
       "      <th>ethnicity</th>\n",
       "      <th>population</th>\n",
       "    </tr>\n",
       "  </thead>\n",
       "  <tbody>\n",
       "    <tr>\n",
       "      <th>0</th>\n",
       "      <td>1970-01-01</td>\n",
       "      <td>both</td>\n",
       "      <td>overall</td>\n",
       "      <td>overall</td>\n",
       "      <td>10881.8</td>\n",
       "    </tr>\n",
       "    <tr>\n",
       "      <th>1</th>\n",
       "      <td>1970-01-01</td>\n",
       "      <td>both</td>\n",
       "      <td>0-4</td>\n",
       "      <td>overall</td>\n",
       "      <td>1702.4</td>\n",
       "    </tr>\n",
       "    <tr>\n",
       "      <th>2</th>\n",
       "      <td>1970-01-01</td>\n",
       "      <td>both</td>\n",
       "      <td>5-9</td>\n",
       "      <td>overall</td>\n",
       "      <td>1690.3</td>\n",
       "    </tr>\n",
       "    <tr>\n",
       "      <th>3</th>\n",
       "      <td>1970-01-01</td>\n",
       "      <td>both</td>\n",
       "      <td>10-14</td>\n",
       "      <td>overall</td>\n",
       "      <td>1454.7</td>\n",
       "    </tr>\n",
       "    <tr>\n",
       "      <th>4</th>\n",
       "      <td>1970-01-01</td>\n",
       "      <td>both</td>\n",
       "      <td>15-19</td>\n",
       "      <td>overall</td>\n",
       "      <td>1197.6</td>\n",
       "    </tr>\n",
       "  </tbody>\n",
       "</table>\n",
       "</div>"
      ],
      "text/plain": [
       "         date   sex      age ethnicity  population\n",
       "0  1970-01-01  both  overall   overall     10881.8\n",
       "1  1970-01-01  both      0-4   overall      1702.4\n",
       "2  1970-01-01  both      5-9   overall      1690.3\n",
       "3  1970-01-01  both    10-14   overall      1454.7\n",
       "4  1970-01-01  both    15-19   overall      1197.6"
      ]
     },
     "metadata": {},
     "output_type": "display_data"
    },
    {
     "data": {
      "text/html": [
       "<div>\n",
       "<style scoped>\n",
       "    .dataframe tbody tr th:only-of-type {\n",
       "        vertical-align: middle;\n",
       "    }\n",
       "\n",
       "    .dataframe tbody tr th {\n",
       "        vertical-align: top;\n",
       "    }\n",
       "\n",
       "    .dataframe thead th {\n",
       "        text-align: right;\n",
       "    }\n",
       "</style>\n",
       "<table border=\"1\" class=\"dataframe\">\n",
       "  <thead>\n",
       "    <tr style=\"text-align: right;\">\n",
       "      <th></th>\n",
       "      <th>date</th>\n",
       "      <th>sex</th>\n",
       "      <th>age</th>\n",
       "      <th>ethnicity</th>\n",
       "      <th>population</th>\n",
       "    </tr>\n",
       "  </thead>\n",
       "  <tbody>\n",
       "    <tr>\n",
       "      <th>17011</th>\n",
       "      <td>2024-01-01</td>\n",
       "      <td>male</td>\n",
       "      <td>85+</td>\n",
       "      <td>bumi_other</td>\n",
       "      <td>10.0</td>\n",
       "    </tr>\n",
       "    <tr>\n",
       "      <th>17012</th>\n",
       "      <td>2024-01-01</td>\n",
       "      <td>male</td>\n",
       "      <td>85+</td>\n",
       "      <td>chinese</td>\n",
       "      <td>14.9</td>\n",
       "    </tr>\n",
       "    <tr>\n",
       "      <th>17013</th>\n",
       "      <td>2024-01-01</td>\n",
       "      <td>male</td>\n",
       "      <td>85+</td>\n",
       "      <td>indian</td>\n",
       "      <td>4.4</td>\n",
       "    </tr>\n",
       "    <tr>\n",
       "      <th>17014</th>\n",
       "      <td>2024-01-01</td>\n",
       "      <td>male</td>\n",
       "      <td>85+</td>\n",
       "      <td>other_citizen</td>\n",
       "      <td>0.6</td>\n",
       "    </tr>\n",
       "    <tr>\n",
       "      <th>17015</th>\n",
       "      <td>2024-01-01</td>\n",
       "      <td>male</td>\n",
       "      <td>85+</td>\n",
       "      <td>other_noncitizen</td>\n",
       "      <td>11.7</td>\n",
       "    </tr>\n",
       "  </tbody>\n",
       "</table>\n",
       "</div>"
      ],
      "text/plain": [
       "             date   sex  age         ethnicity  population\n",
       "17011  2024-01-01  male  85+        bumi_other        10.0\n",
       "17012  2024-01-01  male  85+           chinese        14.9\n",
       "17013  2024-01-01  male  85+            indian         4.4\n",
       "17014  2024-01-01  male  85+     other_citizen         0.6\n",
       "17015  2024-01-01  male  85+  other_noncitizen        11.7"
      ]
     },
     "metadata": {},
     "output_type": "display_data"
    }
   ],
   "source": [
    "display(data.head())\n",
    "display(data.tail())"
   ]
  },
  {
   "cell_type": "markdown",
   "id": "4a63d66d-b598-43c9-b848-1f0e6a39261c",
   "metadata": {},
   "source": [
    "Explanation: A heading that introduces the next section, focusing on extracting basic details from the dataset.\n",
    "\n",
    "Output: No output present in this summary.\n",
    "\n",
    "Explanation:\n",
    "\n",
    "**display(data.head())**: Displays the first few rows of the data DataFrame.\n",
    "\n",
    "**display(data.tail())**: Displays the last few rows of the data DataFrame.\n",
    "\n",
    "Note: The variable data appears undefined at this stage. It might cause an error unless previously initialized."
   ]
  },
  {
   "cell_type": "code",
   "execution_count": 11,
   "id": "eb66566c-a89a-4271-ba09-dee4e3251085",
   "metadata": {},
   "outputs": [
    {
     "name": "stdout",
     "output_type": "stream",
     "text": [
      "85080\n"
     ]
    }
   ],
   "source": [
    "print(df.size)"
   ]
  },
  {
   "cell_type": "markdown",
   "id": "4b40a6e8-2e21-4b87-84f4-94c1ed13db75",
   "metadata": {},
   "source": [
    "Explanation:\n",
    "\n",
    "**df.size**: Returns the total number of elements (rows × columns) in the DataFrame.\n",
    "\n",
    "**print**: Prints the size of the DataFrame. The output indicates that the dataset contains 85,080 elements."
   ]
  },
  {
   "cell_type": "code",
   "execution_count": 32,
   "id": "31e2f446-71d2-4045-b805-3642a862be35",
   "metadata": {},
   "outputs": [
    {
     "name": "stdout",
     "output_type": "stream",
     "text": [
      "Index(['date', 'sex', 'age', 'ethnicity', 'population', 'Year'], dtype='object')\n"
     ]
    }
   ],
   "source": [
    "print(df.columns)"
   ]
  },
  {
   "cell_type": "markdown",
   "id": "d4f61530-0531-4bbd-97b3-e987b77be262",
   "metadata": {},
   "source": [
    "Explanation:\n",
    "\n",
    "**df.columns**: Outputs the names of all the columns in the DataFrame. Useful for verifying column names and ensuring consistency with subsequent code"
   ]
  },
  {
   "cell_type": "code",
   "execution_count": 12,
   "id": "ea745954-f3fe-4e3c-801d-1bce5cabfea9",
   "metadata": {},
   "outputs": [
    {
     "name": "stdout",
     "output_type": "stream",
     "text": [
      "Dataset has 17016 rows and 5 columns.\n",
      "<class 'pandas.core.frame.DataFrame'>\n",
      "RangeIndex: 17016 entries, 0 to 17015\n",
      "Data columns (total 5 columns):\n",
      " #   Column      Non-Null Count  Dtype  \n",
      "---  ------      --------------  -----  \n",
      " 0   date        17016 non-null  object \n",
      " 1   sex         17016 non-null  object \n",
      " 2   age         17016 non-null  object \n",
      " 3   ethnicity   17016 non-null  object \n",
      " 4   population  17016 non-null  float64\n",
      "dtypes: float64(1), object(4)\n",
      "memory usage: 664.8+ KB\n"
     ]
    },
    {
     "data": {
      "text/html": [
       "<div>\n",
       "<style scoped>\n",
       "    .dataframe tbody tr th:only-of-type {\n",
       "        vertical-align: middle;\n",
       "    }\n",
       "\n",
       "    .dataframe tbody tr th {\n",
       "        vertical-align: top;\n",
       "    }\n",
       "\n",
       "    .dataframe thead th {\n",
       "        text-align: right;\n",
       "    }\n",
       "</style>\n",
       "<table border=\"1\" class=\"dataframe\">\n",
       "  <thead>\n",
       "    <tr style=\"text-align: right;\">\n",
       "      <th></th>\n",
       "      <th>population</th>\n",
       "    </tr>\n",
       "  </thead>\n",
       "  <tbody>\n",
       "    <tr>\n",
       "      <th>count</th>\n",
       "      <td>17016.000000</td>\n",
       "    </tr>\n",
       "    <tr>\n",
       "      <th>mean</th>\n",
       "      <td>542.242096</td>\n",
       "    </tr>\n",
       "    <tr>\n",
       "      <th>std</th>\n",
       "      <td>1863.186659</td>\n",
       "    </tr>\n",
       "    <tr>\n",
       "      <th>min</th>\n",
       "      <td>0.200000</td>\n",
       "    </tr>\n",
       "    <tr>\n",
       "      <th>25%</th>\n",
       "      <td>24.200000</td>\n",
       "    </tr>\n",
       "    <tr>\n",
       "      <th>50%</th>\n",
       "      <td>111.250000</td>\n",
       "    </tr>\n",
       "    <tr>\n",
       "      <th>75%</th>\n",
       "      <td>390.650000</td>\n",
       "    </tr>\n",
       "    <tr>\n",
       "      <th>max</th>\n",
       "      <td>34058.800000</td>\n",
       "    </tr>\n",
       "  </tbody>\n",
       "</table>\n",
       "</div>"
      ],
      "text/plain": [
       "         population\n",
       "count  17016.000000\n",
       "mean     542.242096\n",
       "std     1863.186659\n",
       "min        0.200000\n",
       "25%       24.200000\n",
       "50%      111.250000\n",
       "75%      390.650000\n",
       "max    34058.800000"
      ]
     },
     "execution_count": 12,
     "metadata": {},
     "output_type": "execute_result"
    }
   ],
   "source": [
    "print(f\"Dataset has {df.shape[0]} rows and {df.shape[1]} columns.\")\n",
    "\n",
    "df.info()\n",
    "\n",
    "df.describe()"
   ]
  },
  {
   "cell_type": "markdown",
   "id": "48fd00fb-2fbd-46df-9e61-b6bb5dcd5112",
   "metadata": {},
   "source": [
    "Explanation:\n",
    "\n",
    "**df.info()**: Displays a concise summary of the DataFrame, including: Column names and their data types.\n",
    "    \n",
    "Non-null value counts for each column.\n",
    "    \n",
    "Memory usage of the DataFrame.\n",
    "    \n",
    "**df.describe()**: Generates descriptive statistics for numerical columns, such as: Count, mean, standard deviation, min, max, and quartile values.\n",
    "    \n",
    "It helps in understanding the range and distribution of numerical data."
   ]
  },
  {
   "cell_type": "markdown",
   "id": "020807b1-8201-4a6b-9f68-40247b878efb",
   "metadata": {},
   "source": [
    "**Data Cleaning**"
   ]
  },
  {
   "cell_type": "markdown",
   "id": "0a510331-086d-4181-96a9-35782309abab",
   "metadata": {},
   "source": [
    "**Check for Missing Values:**"
   ]
  },
  {
   "cell_type": "code",
   "execution_count": 13,
   "id": "3c70fd5e-61f6-44e9-ab0b-5e82c49bffbe",
   "metadata": {},
   "outputs": [
    {
     "data": {
      "text/plain": [
       "date          0\n",
       "sex           0\n",
       "age           0\n",
       "ethnicity     0\n",
       "population    0\n",
       "dtype: int64"
      ]
     },
     "execution_count": 13,
     "metadata": {},
     "output_type": "execute_result"
    }
   ],
   "source": [
    "df.isnull().sum()"
   ]
  },
  {
   "cell_type": "markdown",
   "id": "29d3b7d7-d4b2-43d0-bc12-11b8b3aab614",
   "metadata": {},
   "source": [
    "Explanation\n",
    "\n",
    "**df.isnull()**:\n",
    "\n",
    "Checks each element of the DataFrame for missing values (NaN).\n",
    "\n",
    "Returns a DataFrame of the same shape as df, with True for missing values and False for non-missing values."
   ]
  },
  {
   "cell_type": "markdown",
   "id": "381c4ea4-f7f9-4b77-a21b-a89b3880ab9d",
   "metadata": {},
   "source": [
    "**Fill or Drop Missing Values:**"
   ]
  },
  {
   "cell_type": "code",
   "execution_count": 14,
   "id": "762e645d-a7a2-448b-a1e7-0c1dda37a6e9",
   "metadata": {},
   "outputs": [],
   "source": [
    "df.fillna(df.mean(numeric_only=True), inplace=True)\n",
    "df.fillna(\"Not Available\", inplace=True)"
   ]
  },
  {
   "cell_type": "markdown",
   "id": "dafa8a17-4d34-415a-9eb8-64b404765ad4",
   "metadata": {},
   "source": [
    "Explanation : \n",
    "\n",
    "**df.mean(numeric_only=True)**: Calculates the mean (average) of each numeric column in the DataFrame.\n",
    "\n",
    "The parameter numeric_only=True ensures that only numeric columns are considered when calculating the mean, ignoring non-numeric columns.\n",
    "\n",
    "**df.fillna(...):** Replaces all NaN values in the DataFrame with the values specified.\n",
    "\n",
    "Here, missing values in numeric columns are replaced with their respective column means.\n",
    "\n",
    "**inplace=True:**\n",
    "\n",
    "Ensures the operation is performed directly on the original DataFrame (df) without returning a new object."
   ]
  },
  {
   "cell_type": "markdown",
   "id": "1924e5fd-8716-4d15-beb8-ee8ee3ef8e55",
   "metadata": {},
   "source": [
    "**Identifying and Handling Duplicates:**"
   ]
  },
  {
   "cell_type": "code",
   "execution_count": 15,
   "id": "78ad9a3a-8f20-42a6-8fcd-6cf079bc53f1",
   "metadata": {},
   "outputs": [
    {
     "name": "stdout",
     "output_type": "stream",
     "text": [
      "Number of duplicate rows: 0\n"
     ]
    }
   ],
   "source": [
    "duplicate_rows = df.duplicated().sum()\n",
    "print(f\"Number of duplicate rows: {duplicate_rows}\")\n",
    "df.drop_duplicates(inplace=True)"
   ]
  },
  {
   "cell_type": "markdown",
   "id": "0d1134c9-835f-48a9-9b5b-68f132b5d2f0",
   "metadata": {},
   "source": [
    "Explanation :\n",
    "\n",
    "df.duplicated(): Checks for duplicate rows in the DataFrame.\n",
    "    \n",
    "Returns a boolean Series where:\n",
    "\n",
    "True indicates the row is a duplicate.\n",
    "    \n",
    "False indicates the row is unique.\n",
    "\n",
    "df.drop_duplicates():\n",
    "\n",
    "Removes duplicate rows from the DataFrame."
   ]
  },
  {
   "cell_type": "markdown",
   "id": "4dbf6988-55d3-4a76-b7ea-27b25265e75d",
   "metadata": {},
   "source": [
    "**Converting Dates to Appropriate Format:**"
   ]
  },
  {
   "cell_type": "code",
   "execution_count": 16,
   "id": "eb7c4081-12de-4566-b813-c4c89c31c0ff",
   "metadata": {},
   "outputs": [],
   "source": [
    "df['date'] = pd.to_datetime(df['date'], errors='coerce')"
   ]
  },
  {
   "cell_type": "markdown",
   "id": "c6e7ebec-0680-44d2-ae3b-7f9f8c1d9152",
   "metadata": {},
   "source": [
    "Explanation: \n",
    "\n",
    "pd.to_datetime(df['date']):\n",
    "\n",
    "Converts the 'date' column to a datetime object, enabling easier handling of dates (e.g., extracting year, month, day).\n",
    "\n",
    "errors='coerce':\n",
    "\n",
    "Ensures that any invalid date entries (e.g., improperly formatted strings or null values) are converted to NaT (Not a Time), representing missing or invalid datetime values."
   ]
  },
  {
   "cell_type": "markdown",
   "id": "1b85caec-a615-49ed-b59d-ddb75532ab3b",
   "metadata": {},
   "source": [
    "**Exploratory Data Analysis (EDA)**"
   ]
  },
  {
   "cell_type": "code",
   "execution_count": 17,
   "id": "a273e269-82b5-4de8-9ec8-2213c39dcd58",
   "metadata": {},
   "outputs": [
    {
     "name": "stdout",
     "output_type": "stream",
     "text": [
      "Unique values in sex: ['both' 'female' 'male']\n",
      "Unique values in age: ['overall' '0-4' '5-9' '10-14' '15-19' '20-24' '25-29' '30-34' '35-39'\n",
      " '40-44' '45-49' '50-54' '55-59' '60-64' '65-69' '70+' '70-74' '75-79'\n",
      " '80+' '80-84' '85+']\n",
      "Unique values in ethnicity: ['overall' 'bumi' 'chinese' 'indian' 'other' 'bumi_malay' 'bumi_other'\n",
      " 'other_citizen' 'other_noncitizen']\n"
     ]
    }
   ],
   "source": [
    "for column in df.select_dtypes(include='object').columns:\n",
    "    print(f\"Unique values in {column}:\", df[column].unique())"
   ]
  },
  {
   "cell_type": "markdown",
   "id": "ea8fee64-25e9-466e-89fb-aa5f612dd254",
   "metadata": {},
   "source": [
    "Explanation : \n",
    "\n",
    "df.select_dtypes(include='object'): Selects all columns in the DataFrame with data type object (typically used for string/text data).\n",
    "                                                                                                \n",
    ".columns: Retrieves the column names of the selected object columns.\n",
    "\n",
    "for column in ...: Iterates over each column name in the object type columns.\n",
    "    \n",
    "df[column].unique(): Extracts the unique values in the current column.\n",
    "    \n",
    "print(f\"...\"): Displays the column name and its unique values."
   ]
  },
  {
   "cell_type": "markdown",
   "id": "5af27c0d-eb06-47fc-aba7-12c7be377c82",
   "metadata": {},
   "source": [
    "**Summary Statistics**"
   ]
  },
  {
   "cell_type": "code",
   "execution_count": 18,
   "id": "1fdce754-6dbf-4dc8-977a-28e1a4232989",
   "metadata": {},
   "outputs": [
    {
     "data": {
      "text/html": [
       "<div>\n",
       "<style scoped>\n",
       "    .dataframe tbody tr th:only-of-type {\n",
       "        vertical-align: middle;\n",
       "    }\n",
       "\n",
       "    .dataframe tbody tr th {\n",
       "        vertical-align: top;\n",
       "    }\n",
       "\n",
       "    .dataframe thead th {\n",
       "        text-align: right;\n",
       "    }\n",
       "</style>\n",
       "<table border=\"1\" class=\"dataframe\">\n",
       "  <thead>\n",
       "    <tr style=\"text-align: right;\">\n",
       "      <th></th>\n",
       "      <th>date</th>\n",
       "      <th>sex</th>\n",
       "      <th>age</th>\n",
       "      <th>ethnicity</th>\n",
       "      <th>population</th>\n",
       "    </tr>\n",
       "  </thead>\n",
       "  <tbody>\n",
       "    <tr>\n",
       "      <th>count</th>\n",
       "      <td>17016</td>\n",
       "      <td>17016</td>\n",
       "      <td>17016</td>\n",
       "      <td>17016</td>\n",
       "      <td>17016.000000</td>\n",
       "    </tr>\n",
       "    <tr>\n",
       "      <th>unique</th>\n",
       "      <td>NaN</td>\n",
       "      <td>3</td>\n",
       "      <td>21</td>\n",
       "      <td>9</td>\n",
       "      <td>NaN</td>\n",
       "    </tr>\n",
       "    <tr>\n",
       "      <th>top</th>\n",
       "      <td>NaN</td>\n",
       "      <td>both</td>\n",
       "      <td>overall</td>\n",
       "      <td>overall</td>\n",
       "      <td>NaN</td>\n",
       "    </tr>\n",
       "    <tr>\n",
       "      <th>freq</th>\n",
       "      <td>NaN</td>\n",
       "      <td>5672</td>\n",
       "      <td>909</td>\n",
       "      <td>3012</td>\n",
       "      <td>NaN</td>\n",
       "    </tr>\n",
       "    <tr>\n",
       "      <th>mean</th>\n",
       "      <td>2002-08-23 07:52:58.561354112</td>\n",
       "      <td>NaN</td>\n",
       "      <td>NaN</td>\n",
       "      <td>NaN</td>\n",
       "      <td>542.242096</td>\n",
       "    </tr>\n",
       "    <tr>\n",
       "      <th>min</th>\n",
       "      <td>1970-01-01 00:00:00</td>\n",
       "      <td>NaN</td>\n",
       "      <td>NaN</td>\n",
       "      <td>NaN</td>\n",
       "      <td>0.200000</td>\n",
       "    </tr>\n",
       "    <tr>\n",
       "      <th>25%</th>\n",
       "      <td>1993-01-01 00:00:00</td>\n",
       "      <td>NaN</td>\n",
       "      <td>NaN</td>\n",
       "      <td>NaN</td>\n",
       "      <td>24.200000</td>\n",
       "    </tr>\n",
       "    <tr>\n",
       "      <th>50%</th>\n",
       "      <td>2003-01-01 00:00:00</td>\n",
       "      <td>NaN</td>\n",
       "      <td>NaN</td>\n",
       "      <td>NaN</td>\n",
       "      <td>111.250000</td>\n",
       "    </tr>\n",
       "    <tr>\n",
       "      <th>75%</th>\n",
       "      <td>2014-01-01 00:00:00</td>\n",
       "      <td>NaN</td>\n",
       "      <td>NaN</td>\n",
       "      <td>NaN</td>\n",
       "      <td>390.650000</td>\n",
       "    </tr>\n",
       "    <tr>\n",
       "      <th>max</th>\n",
       "      <td>2024-01-01 00:00:00</td>\n",
       "      <td>NaN</td>\n",
       "      <td>NaN</td>\n",
       "      <td>NaN</td>\n",
       "      <td>34058.800000</td>\n",
       "    </tr>\n",
       "    <tr>\n",
       "      <th>std</th>\n",
       "      <td>NaN</td>\n",
       "      <td>NaN</td>\n",
       "      <td>NaN</td>\n",
       "      <td>NaN</td>\n",
       "      <td>1863.186659</td>\n",
       "    </tr>\n",
       "  </tbody>\n",
       "</table>\n",
       "</div>"
      ],
      "text/plain": [
       "                                 date    sex      age ethnicity    population\n",
       "count                           17016  17016    17016     17016  17016.000000\n",
       "unique                            NaN      3       21         9           NaN\n",
       "top                               NaN   both  overall   overall           NaN\n",
       "freq                              NaN   5672      909      3012           NaN\n",
       "mean    2002-08-23 07:52:58.561354112    NaN      NaN       NaN    542.242096\n",
       "min               1970-01-01 00:00:00    NaN      NaN       NaN      0.200000\n",
       "25%               1993-01-01 00:00:00    NaN      NaN       NaN     24.200000\n",
       "50%               2003-01-01 00:00:00    NaN      NaN       NaN    111.250000\n",
       "75%               2014-01-01 00:00:00    NaN      NaN       NaN    390.650000\n",
       "max               2024-01-01 00:00:00    NaN      NaN       NaN  34058.800000\n",
       "std                               NaN    NaN      NaN       NaN   1863.186659"
      ]
     },
     "execution_count": 18,
     "metadata": {},
     "output_type": "execute_result"
    }
   ],
   "source": [
    "df.describe(include='all')"
   ]
  },
  {
   "cell_type": "markdown",
   "id": "de2c48da-c2d8-4019-bd09-d315d2f6ccfa",
   "metadata": {},
   "source": [
    "Explanation : \n",
    "\n",
    "df.describe(): Generates summary statistics of the DataFrame, providing insights into each column's distribution.\n",
    "\n",
    "include='all': Extends the summary to include all columns, not just numeric ones."
   ]
  },
  {
   "cell_type": "markdown",
   "id": "cd601882-93bb-4b32-a036-cde58181e1cb",
   "metadata": {},
   "source": [
    "**Distributions and Value Counts**"
   ]
  },
  {
   "cell_type": "code",
   "execution_count": 19,
   "id": "7751bebf-193f-4093-9492-5c6b00b137a8",
   "metadata": {},
   "outputs": [
    {
     "name": "stdout",
     "output_type": "stream",
     "text": [
      "\n",
      "Value counts for sex:\n",
      " sex\n",
      "both      5672\n",
      "female    5672\n",
      "male      5672\n",
      "Name: count, dtype: int64\n",
      "\n",
      "Value counts for age:\n",
      " age\n",
      "overall    909\n",
      "35-39      909\n",
      "65-69      909\n",
      "60-64      909\n",
      "55-59      909\n",
      "50-54      909\n",
      "0-4        909\n",
      "40-44      909\n",
      "45-49      909\n",
      "30-34      909\n",
      "25-29      909\n",
      "20-24      909\n",
      "15-19      909\n",
      "10-14      909\n",
      "5-9        909\n",
      "70-74      879\n",
      "75-79      879\n",
      "80-84      714\n",
      "85+        714\n",
      "80+        165\n",
      "70+         30\n",
      "Name: count, dtype: int64\n",
      "\n",
      "Value counts for ethnicity:\n",
      " ethnicity\n",
      "overall             3012\n",
      "chinese             2532\n",
      "indian              2532\n",
      "bumi_malay          1938\n",
      "bumi_other          1938\n",
      "other_citizen       1938\n",
      "other_noncitizen    1938\n",
      "bumi                 594\n",
      "other                594\n",
      "Name: count, dtype: int64\n"
     ]
    }
   ],
   "source": [
    "for column in df.select_dtypes(include='object').columns:\n",
    "    print(f\"\\nValue counts for {column}:\\n\", df[column].value_counts())"
   ]
  },
  {
   "cell_type": "markdown",
   "id": "a56c4280-7700-4b6c-8f5c-fa70c7086fe4",
   "metadata": {},
   "source": [
    "Explanation : \n",
    "\n",
    "df.select_dtypes(include='object').columns: Selects columns with the data type 'object' (usually strings).\n",
    "\n",
    "for column in ...: Loops through each of those columns.\n",
    "\n",
    "df[column].value_counts(): Gets the count of unique values in the column.\n",
    "    \n",
    "print(f\"\\nValue counts for {column}:\\n\", ...): Prints the value counts for each column with a label indicating which column is being shown."
   ]
  },
  {
   "cell_type": "markdown",
   "id": "5f9eacf4-4d56-4910-bc4f-4a6d1c50a9a0",
   "metadata": {},
   "source": [
    "**Data Distribution Visualization**"
   ]
  },
  {
   "cell_type": "code",
   "execution_count": 24,
   "id": "89fab78d-674f-4249-afd5-390731b907a9",
   "metadata": {},
   "outputs": [
    {
     "data": {
      "image/png": "[encoded data removed]",
      "text/plain": [
       "<Figure size 1200x600 with 1 Axes>"
      ]
     },
     "metadata": {},
     "output_type": "display_data"
    }
   ],
   "source": [
    "import pandas as pd\n",
    "import matplotlib.pyplot as plt\n",
    "# Ensure 'date' column is in datetime format\n",
    "df['date'] = pd.to_datetime(df['date'])\n",
    "\n",
    "# Extract the year\n",
    "df['Year'] = df['date'].dt.year\n",
    "\n",
    "# Group by 'Year' and calculate total population\n",
    "yearly_population = df.groupby('Year')['population'].sum().reset_index()\n",
    "\n",
    "# Plot the data\n",
    "plt.figure(figsize=(12, 6))\n",
    "plt.plot(yearly_population['Year'], yearly_population['population'], marker='o', linestyle='-')\n",
    "plt.title('Year-wise Population')\n",
    "plt.xlabel('Year')\n",
    "plt.ylabel('Total Population')\n",
    "plt.grid(True)\n",
    "plt.show()\n"
   ]
  },
  {
   "cell_type": "markdown",
   "id": "730eee2c-94bc-412b-bcb5-8fd7e8b7256d",
   "metadata": {},
   "source": [
    "Explanation : The code converts the 'date' column to datetime, extracts the year, groups the data by year to sum the population, \n",
    "\n",
    "and then plots the total population for each year using a line plot."
   ]
  },
  {
   "cell_type": "markdown",
   "id": "86690925-0d28-499c-80ec-40f8a8c3650c",
   "metadata": {},
   "source": [
    "**Population Distribution by Age Group 1970 ans 2023**"
   ]
  },
  {
   "cell_type": "code",
   "execution_count": 25,
   "id": "06809db4-5de1-4c22-bce0-733feda3c40c",
   "metadata": {},
   "outputs": [
    {
     "data": {
      "image/png": "[encoded data removed]",
      "text/plain": [
       "<Figure size 1200x600 with 1 Axes>"
      ]
     },
     "metadata": {},
     "output_type": "display_data"
    }
   ],
   "source": [
    "df_1970 = df[df['Year'] == 1970]\n",
    "df_2023 = df[df['Year'] == 2023]\n",
    "\n",
    "plt.figure(figsize=(12, 6))\n",
    "\n",
    "plt.bar(df_1970['age'], df_1970['population'], width=0.4, label='1970', color='skyblue', align='center')\n",
    "\n",
    "plt.bar(df_2023['age'], df_2023['population'], width=0.4, label='2023', color='lightcoral', align='edge')\n",
    "\n",
    "plt.title('Population Distribution by Age Group in 1970 and 2023')\n",
    "plt.xlabel('Age Group')\n",
    "plt.ylabel('Population')\n",
    "plt.xticks(rotation=45)\n",
    "plt.legend()\n",
    "\n",
    "plt.show()"
   ]
  },
  {
   "cell_type": "markdown",
   "id": "d2928287-6f56-4572-afd9-dfa2cdf8fd1d",
   "metadata": {},
   "source": [
    "Explanation : \n",
    "\n",
    "The code filters the data for the years 1970 and 2023, then creates a bar chart comparing population distributions by age group \n",
    "\n",
    "for both years using different colors and alignment for each.\n",
    "\n",
    "\n",
    "\n",
    "\n",
    "\n",
    "\n"
   ]
  },
  {
   "cell_type": "markdown",
   "id": "ac11fe6e-4e62-4641-a5eb-98f91a560d13",
   "metadata": {},
   "source": [
    "**Male vs Female population 1970 to 2024**"
   ]
  },
  {
   "cell_type": "code",
   "execution_count": 26,
   "id": "c0f76b8f-a2de-4fd1-a396-5dd142792a02",
   "metadata": {},
   "outputs": [
    {
     "data": {
      "text/plain": [
       "<Figure size 1000x600 with 0 Axes>"
      ]
     },
     "metadata": {},
     "output_type": "display_data"
    },
    {
     "data": {
      "image/png": "[encoded data removed]",
      "text/plain": [
       "<Figure size 640x480 with 1 Axes>"
      ]
     },
     "metadata": {},
     "output_type": "display_data"
    }
   ],
   "source": [
    "df_filtered = df[df['Year'].isin([1970,1980, 1990, 2000, 2010, 2023]) & df['sex'].isin(['male', 'female'])]\n",
    "\n",
    "df_pivot = df_filtered.pivot_table(index='Year', columns='sex', values='population', aggfunc='sum')\n",
    "\n",
    "plt.figure(figsize=(10, 6))\n",
    "df_pivot.plot(kind='bar', color=['blue', 'pink'], width=0.8)\n",
    "\n",
    "plt.title('Male vs Female Population Comparison (1970 vs 2023)')\n",
    "plt.xlabel('Year')\n",
    "plt.ylabel('Population')\n",
    "plt.xticks(rotation=0)\n",
    "plt.legend(title='Sex')\n",
    "\n",
    "plt.show()"
   ]
  },
  {
   "cell_type": "markdown",
   "id": "4867d22e-22e2-4a1c-994a-4d9269f7d85e",
   "metadata": {},
   "source": [
    "Explanation : \n",
    "\n",
    "The code filters the DataFrame for specific years and sexes, then creates a pivot table summarizing the population by sex for each year. \n",
    "\n",
    "It generates a bar chart comparing the male and female populations for the selected years, with different colors for each sex.\n",
    "\n",
    "\n",
    "\n",
    "\n",
    "\n",
    "\n"
   ]
  },
  {
   "cell_type": "markdown",
   "id": "634f9b2b-3c21-4a80-9684-3b5e989b3d55",
   "metadata": {},
   "source": [
    "**Data Transformation**"
   ]
  },
  {
   "cell_type": "markdown",
   "id": "75107547-eb87-4882-932f-206961c34ed3",
   "metadata": {},
   "source": [
    "**Creating Additional Columns (e.g., extracting year from a date column):**"
   ]
  },
  {
   "cell_type": "code",
   "execution_count": 27,
   "id": "092e0176-38d3-4a9b-955d-38bc5e8d2040",
   "metadata": {},
   "outputs": [
    {
     "name": "stdout",
     "output_type": "stream",
     "text": [
      "        date   sex      age ethnicity  population  Year\n",
      "0 1970-01-01  both  overall   overall     10881.8  1970\n",
      "1 1970-01-01  both      0-4   overall      1702.4  1970\n",
      "2 1970-01-01  both      5-9   overall      1690.3  1970\n",
      "3 1970-01-01  both    10-14   overall      1454.7  1970\n",
      "4 1970-01-01  both    15-19   overall      1197.6  1970\n"
     ]
    }
   ],
   "source": [
    "df['Year'] = df['date'].dt.year\n",
    "print(df.head())"
   ]
  },
  {
   "cell_type": "markdown",
   "id": "2069c7a3-04f6-4358-b40e-fe62f51f6749",
   "metadata": {},
   "source": [
    "Explanation : \n",
    "\n",
    "df['Year'] = df['date'].dt.year: This line extracts the year part from the 'date' column (which is assumed to be in datetime format) \n",
    "\n",
    "and stores it in a new column called 'Year'.\n",
    "\n",
    "print(df.head()): This prints the first five rows of the updated DataFrame, allowing you to quickly check the data after the new \n",
    "\n",
    "'Year' column has been added."
   ]
  },
  {
   "cell_type": "markdown",
   "id": "a208f2a7-d9f4-434a-855b-a63ebc2c2d5a",
   "metadata": {},
   "source": [
    "**Sorting by date descending order**"
   ]
  },
  {
   "cell_type": "code",
   "execution_count": 28,
   "id": "51512739-e5f1-4a3b-9895-d860d6220bbf",
   "metadata": {},
   "outputs": [
    {
     "name": "stdout",
     "output_type": "stream",
     "text": [
      "            date     sex      age         ethnicity  population  Year\n",
      "17015 2024-01-01    male      85+  other_noncitizen        11.7  2024\n",
      "16753 2024-01-01  female  overall           chinese      3371.3  2024\n",
      "16743 2024-01-01    both      85+           overall       146.7  2024\n",
      "16744 2024-01-01    both      85+        bumi_malay        69.5  2024\n",
      "16745 2024-01-01    both      85+        bumi_other        18.9  2024\n"
     ]
    }
   ],
   "source": [
    "df_sorted = df.sort_values(by='date', ascending=False)\n",
    "print(df_sorted.head())"
   ]
  },
  {
   "cell_type": "markdown",
   "id": "d7f25f94-64d8-425b-908a-2c0b6fc3de74",
   "metadata": {},
   "source": [
    "Explanation : \n",
    "\n",
    "df.sort_values(by='date', ascending=False): This line sorts the DataFrame df by the 'date' column in descending order (ascending=False).\n",
    "\n",
    "df_sorted = ...: The sorted DataFrame is stored in the variable df_sorted.\n",
    "\n",
    "print(df_sorted.head()): This prints the first five rows of the sorted DataFrame to verify the sorting."
   ]
  }
 ],
 "metadata": {
  "kernelspec": {
   "display_name": "Python 3 (ipykernel)",
   "language": "python",
   "name": "python3"
  },
  "language_info": {
   "codemirror_mode": {
    "name": "ipython",
    "version": 3
   },
   "file_extension": ".py",
   "mimetype": "text/x-python",
   "name": "python",
   "nbconvert_exporter": "python",
   "pygments_lexer": "ipython3",
   "version": "3.12.2"
  }
 },
 "nbformat": 4,
 "nbformat_minor": 5
}
