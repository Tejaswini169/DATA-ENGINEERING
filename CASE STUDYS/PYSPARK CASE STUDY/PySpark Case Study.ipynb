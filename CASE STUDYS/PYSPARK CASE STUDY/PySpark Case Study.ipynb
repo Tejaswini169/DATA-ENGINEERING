{
 "cells": [
  {
   "cell_type": "code",
   "execution_count": 0,
   "metadata": {
    "application/vnd.databricks.v1+cell": {
     "cellMetadata": {
      "byteLimit": 2048000,
      "rowLimit": 10000
     },
     "inputWidgets": {},
     "nuid": "60dc0049-421d-44f5-920a-78e66b286a5a",
     "showTitle": false,
     "tableResultSettingsMap": {},
     "title": ""
    }
   },
   "outputs": [
    {
     "output_type": "stream",
     "name": "stdout",
     "output_type": "stream",
     "text": [
      "root\n |-- Customer_ID: string (nullable = true)\n |-- Age: integer (nullable = true)\n |-- Gender: string (nullable = true)\n |-- Occupation: string (nullable = true)\n |-- Marital Status: string (nullable = true)\n |-- Family Size: integer (nullable = true)\n |-- Income: integer (nullable = true)\n |-- Expenditure: integer (nullable = true)\n |-- Use Frequency: integer (nullable = true)\n |-- Loan Category: string (nullable = true)\n |-- Loan Amount: string (nullable = true)\n |-- Overdue: integer (nullable = true)\n |--  Debt Record: string (nullable = true)\n |--  Returned Cheque: integer (nullable = true)\n |--  Dishonour of Bill: integer (nullable = true)\n\n+-----------+---+------+------------+--------------+-----------+------+-----------+-------------+-------------+-----------+-------+------------+----------------+------------------+\n|Customer_ID|Age|Gender|  Occupation|Marital Status|Family Size|Income|Expenditure|Use Frequency|Loan Category|Loan Amount|Overdue| Debt Record| Returned Cheque| Dishonour of Bill|\n+-----------+---+------+------------+--------------+-----------+------+-----------+-------------+-------------+-----------+-------+------------+----------------+------------------+\n|    IB14001| 30|  MALE|BANK MANAGER|        SINGLE|          4| 50000|      22199|            6|      HOUSING| 10,00,000 |      5|      42,898|               6|                 9|\n|    IB14008| 44|  MALE|   PROFESSOR|       MARRIED|          6| 51000|      19999|            4|     SHOPPING|     50,000|      3|      33,999|               1|                 5|\n|    IB14012| 30|FEMALE|     DENTIST|        SINGLE|          3| 58450|      27675|            5|   TRAVELLING|     75,000|      6|      20,876|               3|                 1|\n|    IB14018| 29|  MALE|     TEACHER|       MARRIED|          5| 45767|      12787|            3|    GOLD LOAN|  6,00,000 |      7|      11,000|               0|                 4|\n|    IB14022| 34|  MALE|      POLICE|        SINGLE|          4| 43521|      11999|            3|   AUTOMOBILE|  2,00,000 |      2|      43,898|               1|                 2|\n+-----------+---+------+------------+--------------+-----------+------+-----------+-------------+-------------+-----------+-------+------------+----------------+------------------+\nonly showing top 5 rows\n\n"
     ]
    }
   ],
   "source": [
    "# Read CSV file into a Spark DataFrame\n",
    "file_path = \"/FileStore/tables/loan-2.csv\"  # Path to the uploaded file\n",
    "loan_df = spark.read.csv(file_path, header=True, inferSchema=True)\n",
    "\n",
    "# Display the schema and first few rows\n",
    "loan_df.printSchema()\n",
    "loan_df.show(5)\n"
   ]
  },
  {
   "cell_type": "code",
   "execution_count": 0,
   "metadata": {
    "application/vnd.databricks.v1+cell": {
     "cellMetadata": {
      "byteLimit": 2048000,
      "rowLimit": 10000
     },
     "inputWidgets": {},
     "nuid": "bbdbc743-0c7a-4732-8532-05cb1c04718f",
     "showTitle": false,
     "tableResultSettingsMap": {},
     "title": ""
    }
   },
   "outputs": [
    {
     "output_type": "stream",
     "name": "stdout",
     "output_type": "stream",
     "text": [
      "+------------------+-----+\n|     Loan Category|count|\n+------------------+-----+\n|           HOUSING|   67|\n|        TRAVELLING|   53|\n|       BOOK STORES|    7|\n|       AGRICULTURE|   12|\n|         GOLD LOAN|   77|\n|  EDUCATIONAL LOAN|   20|\n|        AUTOMOBILE|   60|\n|          BUSINESS|   24|\n|COMPUTER SOFTWARES|   35|\n|           DINNING|   14|\n|          SHOPPING|   35|\n|       RESTAURANTS|   41|\n|       ELECTRONICS|   14|\n|          BUILDING|    7|\n|        RESTAURANT|   20|\n|   HOME APPLIANCES|   14|\n+------------------+-----+\n\n"
     ]
    }
   ],
   "source": [
    "# 1. Number of loans in each category\n",
    "loan_df.groupBy(\"Loan Category\").count().show()\n"
   ]
  },
  {
   "cell_type": "code",
   "execution_count": 0,
   "metadata": {
    "application/vnd.databricks.v1+cell": {
     "cellMetadata": {
      "byteLimit": 2048000,
      "rowLimit": 10000
     },
     "inputWidgets": {},
     "nuid": "aefe2d7a-9419-46a3-959a-282c87e00d3e",
     "showTitle": false,
     "tableResultSettingsMap": {},
     "title": ""
    }
   },
   "outputs": [
    {
     "output_type": "stream",
     "name": "stdout",
     "output_type": "stream",
     "text": [
      "Number of people with loans greater than 1 lakh: 0\n"
     ]
    }
   ],
   "source": [
    "# 2. Number of People Who Have Taken More Than 1 Lakh Loan\n",
    "\n",
    "# Filter for loans greater than 1,00,000\n",
    "high_loan_df = loan_df.filter(loan_df[\"Loan Amount\"] > 100000)\n",
    "high_loan_count = high_loan_df.count()\n",
    "\n",
    "# Show the count\n",
    "print(f\"Number of people with loans greater than 1 lakh: {high_loan_count}\")\n",
    "\n"
   ]
  },
  {
   "cell_type": "code",
   "execution_count": 0,
   "metadata": {
    "application/vnd.databricks.v1+cell": {
     "cellMetadata": {
      "byteLimit": 2048000,
      "rowLimit": 10000
     },
     "inputWidgets": {},
     "nuid": "8124d66d-994b-447e-86d5-5c2fc48de520",
     "showTitle": false,
     "tableResultSettingsMap": {},
     "title": ""
    }
   },
   "outputs": [
    {
     "output_type": "stream",
     "name": "stdout",
     "output_type": "stream",
     "text": [
      "Number of people with income greater than 60,000: 198\n"
     ]
    }
   ],
   "source": [
    "# 3. Number of People With Income Greater Than 60,000 Rupees\n",
    "\n",
    "# Filter for income greater than 60,000\n",
    "high_income_df = loan_df.filter(loan_df[\"Income\"] > 60000)\n",
    "high_income_count = high_income_df.count()\n",
    "\n",
    "# Show the count\n",
    "print(f\"Number of people with income greater than 60,000: {high_income_count}\")\n"
   ]
  },
  {
   "cell_type": "code",
   "execution_count": 0,
   "metadata": {
    "application/vnd.databricks.v1+cell": {
     "cellMetadata": {
      "byteLimit": 2048000,
      "rowLimit": 10000
     },
     "inputWidgets": {},
     "nuid": "e8bc4ae5-1941-4d5b-8f14-e00754f1c16a",
     "showTitle": false,
     "tableResultSettingsMap": {},
     "title": ""
    }
   },
   "outputs": [
    {
     "output_type": "stream",
     "name": "stdout",
     "output_type": "stream",
     "text": [
      "Number of people with 2+ returned cheques and income < 50,000: 137\n"
     ]
    }
   ],
   "source": [
    "# 4. Number of People With 2+ Returned Cheques and Income Less Than 50,000\n",
    "\n",
    "# Filter for 2+ returned cheques and income < 50,000\n",
    "returned_cheques_df = loan_df.filter((loan_df[\" Returned Cheque\"] >= 2) & (loan_df[\"Income\"] < 50000))\n",
    "returned_cheques_count = returned_cheques_df.count()\n",
    "\n",
    "# Show the count\n",
    "print(f\"Number of people with 2+ returned cheques and income < 50,000: {returned_cheques_count}\")\n"
   ]
  },
  {
   "cell_type": "code",
   "execution_count": 0,
   "metadata": {
    "application/vnd.databricks.v1+cell": {
     "cellMetadata": {
      "byteLimit": 2048000,
      "rowLimit": 10000
     },
     "inputWidgets": {},
     "nuid": "e1131553-7680-4875-a4d0-8afba9fbf73b",
     "showTitle": false,
     "tableResultSettingsMap": {},
     "title": ""
    }
   },
   "outputs": [
    {
     "output_type": "stream",
     "name": "stdout",
     "output_type": "stream",
     "text": [
      "Number of people with 2+ returned cheques and are single: 0\n"
     ]
    }
   ],
   "source": [
    "# 5. Number of People With 2+ Returned Cheques and Are Single\n",
    "\n",
    "# Filter for 2+ returned cheques and single status\n",
    "single_status_df = loan_df.filter((loan_df[\" Returned Cheque\"] >= 2) & (loan_df[\"Marital Status\"] == \"Single\"))\n",
    "single_status_count = single_status_df.count()\n",
    "\n",
    "# Show the count\n",
    "print(f\"Number of people with 2+ returned cheques and are single: {single_status_count}\")\n"
   ]
  },
  {
   "cell_type": "code",
   "execution_count": 0,
   "metadata": {
    "application/vnd.databricks.v1+cell": {
     "cellMetadata": {
      "byteLimit": 2048000,
      "rowLimit": 10000
     },
     "inputWidgets": {},
     "nuid": "7d9decae-85fc-4da4-8536-35057900b8fb",
     "showTitle": false,
     "tableResultSettingsMap": {},
     "title": ""
    }
   },
   "outputs": [
    {
     "output_type": "stream",
     "name": "stdout",
     "output_type": "stream",
     "text": [
      "Number of people with monthly expenditure > 50,000: 6\n"
     ]
    }
   ],
   "source": [
    "# 6. Number of People With Expenditure Over 50,000 a Month\n",
    "\n",
    "# Filter for expenditure > 50,000\n",
    "high_expenditure_df = loan_df.filter(loan_df[\"Expenditure\"] > 50000)\n",
    "high_expenditure_count = high_expenditure_df.count()\n",
    "\n",
    "# Show the count\n",
    "print(f\"Number of people with monthly expenditure > 50,000: {high_expenditure_count}\")\n"
   ]
  },
  {
   "cell_type": "code",
   "execution_count": 0,
   "metadata": {
    "application/vnd.databricks.v1+cell": {
     "cellMetadata": {
      "byteLimit": 2048000,
      "rowLimit": 10000
     },
     "inputWidgets": {},
     "nuid": "a4e1ead4-96e7-4952-9f60-12bfe026b1db",
     "showTitle": false,
     "tableResultSettingsMap": {},
     "title": ""
    }
   },
   "outputs": [
    {
     "output_type": "stream",
     "name": "stdout",
     "output_type": "stream",
     "text": [
      "Number of people eligible for credit card: 231\n"
     ]
    }
   ],
   "source": [
    "# 7. Number of Members Eligible for a Credit Card\n",
    "\n",
    "# Filter for credit card eligibility\n",
    "credit_card_df = loan_df.filter((loan_df[\"Income\"] > 60000) | (loan_df[\" Returned Cheque\"] == 0))\n",
    "credit_card_count = credit_card_df.count()\n",
    "\n",
    "# Show the count\n",
    "print(f\"Number of people eligible for credit card: {credit_card_count}\")\n"
   ]
  },
  {
   "cell_type": "code",
   "execution_count": 0,
   "metadata": {
    "application/vnd.databricks.v1+cell": {
     "cellMetadata": {
      "byteLimit": 2048000,
      "rowLimit": 10000
     },
     "inputWidgets": {},
     "nuid": "812044b7-6e6f-4773-bf7a-064eecaaae40",
     "showTitle": false,
     "tableResultSettingsMap": {},
     "title": ""
    }
   },
   "outputs": [
    {
     "output_type": "stream",
     "name": "stdout",
     "output_type": "stream",
     "text": [
      "root\n |-- RowNumber: integer (nullable = true)\n |-- CustomerId: integer (nullable = true)\n |-- Surname: string (nullable = true)\n |-- CreditScore: integer (nullable = true)\n |-- Geography: string (nullable = true)\n |-- Gender: string (nullable = true)\n |-- Age: integer (nullable = true)\n |-- Tenure: integer (nullable = true)\n |-- Balance: double (nullable = true)\n |-- NumOfProducts: integer (nullable = true)\n |-- IsActiveMember: integer (nullable = true)\n |-- EstimatedSalary: double (nullable = true)\n |-- Exited: integer (nullable = true)\n\n+---------+----------+--------+-----------+---------+------+---+------+---------+-------------+--------------+---------------+------+\n|RowNumber|CustomerId| Surname|CreditScore|Geography|Gender|Age|Tenure|  Balance|NumOfProducts|IsActiveMember|EstimatedSalary|Exited|\n+---------+----------+--------+-----------+---------+------+---+------+---------+-------------+--------------+---------------+------+\n|        1|  15634602|Hargrave|        619|   France|Female| 42|     2|      0.0|            1|             1|      101348.88|     1|\n|        2|  15647311|    Hill|        608|    Spain|Female| 41|     1| 83807.86|            1|             1|      112542.58|     0|\n|        3|  15619304|    Onio|        502|   France|Female| 42|     8| 159660.8|            3|             0|      113931.57|     1|\n|        4|  15701354|    Boni|        699|   France|Female| 39|     1|      0.0|            2|             0|       93826.63|     0|\n|        5|  15737888|Mitchell|        850|    Spain|Female| 43|     2|125510.82|            1|             1|        79084.1|     0|\n+---------+----------+--------+-----------+---------+------+---+------+---------+-------------+--------------+---------------+------+\nonly showing top 5 rows\n\n"
     ]
    }
   ],
   "source": [
    "# Read the uploaded CSV file into a Spark DataFrame\n",
    "file_path = \"/FileStore/tables/credit_card.csv\"  # Path to your file\n",
    "credit_card_df = spark.read.csv(file_path, header=True, inferSchema=True)\n",
    "\n",
    "# Display the schema and the first few rows to understand the dataset\n",
    "credit_card_df.printSchema()\n",
    "credit_card_df.show(5)\n"
   ]
  },
  {
   "cell_type": "code",
   "execution_count": 0,
   "metadata": {
    "application/vnd.databricks.v1+cell": {
     "cellMetadata": {
      "byteLimit": 2048000,
      "rowLimit": 10000
     },
     "inputWidgets": {},
     "nuid": "2bda101b-512f-4b15-8d73-8abd0accb9ce",
     "showTitle": false,
     "tableResultSettingsMap": {},
     "title": ""
    }
   },
   "outputs": [
    {
     "output_type": "stream",
     "name": "stdout",
     "output_type": "stream",
     "text": [
      "Number of credit card users in Spain: 2477\n"
     ]
    }
   ],
   "source": [
    "# 1. credit card users in Spain\n",
    "\n",
    "# Filter for credit card users in Spain\n",
    "spain_users_df = credit_card_df.filter(credit_card_df[\"Geography\"] == \"Spain\")\n",
    "spain_users_count = spain_users_df.count()\n",
    "\n",
    "# Display the count\n",
    "print(f\"Number of credit card users in Spain: {spain_users_count}\")\n",
    "\n"
   ]
  },
  {
   "cell_type": "code",
   "execution_count": 0,
   "metadata": {
    "application/vnd.databricks.v1+cell": {
     "cellMetadata": {
      "byteLimit": 2048000,
      "rowLimit": 10000
     },
     "inputWidgets": {},
     "nuid": "db84faec-ee56-4908-9317-a2680641ae88",
     "showTitle": false,
     "tableResultSettingsMap": {},
     "title": ""
    }
   },
   "outputs": [
    {
     "output_type": "stream",
     "name": "stdout",
     "output_type": "stream",
     "text": [
      "Number of eligible and active members: 0\n"
     ]
    }
   ],
   "source": [
    "# 2. number of members who are elgible and active in the bank\n",
    "\n",
    "# Filter for eligible and active members\n",
    "eligible_active_df = credit_card_df.filter(\n",
    "    (credit_card_df[\"Exited\"] == \"Eligible\") &  # Replace with the actual eligibility column/condition\n",
    "    (credit_card_df[\"IsActiveMember\"] == \"Active\")     # Replace with the actual active status column\n",
    ")\n",
    "eligible_active_count = eligible_active_df.count()\n",
    "\n",
    "# Display the count\n",
    "print(f\"Number of eligible and active members: {eligible_active_count}\")\n"
   ]
  },
  {
   "cell_type": "code",
   "execution_count": 0,
   "metadata": {
    "application/vnd.databricks.v1+cell": {
     "cellMetadata": {
      "byteLimit": 2048000,
      "rowLimit": 10000
     },
     "inputWidgets": {},
     "nuid": "05169cb7-2a7e-4a98-a94a-7bee00e9bdac",
     "showTitle": false,
     "tableResultSettingsMap": {},
     "title": ""
    }
   },
   "outputs": [
    {
     "output_type": "stream",
     "name": "stdout",
     "output_type": "stream",
     "text": [
      "+-------------+--------------------+----------+----------------+-------------+-----------+\n|   Account No| TRANSACTION DETAILS|VALUE DATE| WITHDRAWAL AMT | DEPOSIT AMT |BALANCE AMT|\n+-------------+--------------------+----------+----------------+-------------+-----------+\n|409000611074'|TRF FROM  Indiafo...| 29-Jun-17|            null|    1000000.0|  1000000.0|\n|409000611074'|TRF FROM  Indiafo...|  5-Jul-17|            null|    1000000.0|  2000000.0|\n|409000611074'|FDRL/INTERNAL FUN...| 18-Jul-17|            null|     500000.0|  2500000.0|\n|409000611074'|TRF FRM  Indiafor...|  1-Aug-17|            null|    3000000.0|  5500000.0|\n|409000611074'|FDRL/INTERNAL FUN...| 16-Aug-17|            null|     500000.0|  6000000.0|\n|409000611074'|FDRL/INTERNAL FUN...| 16-Aug-17|            null|     500000.0|  6500000.0|\n|409000611074'|FDRL/INTERNAL FUN...| 16-Aug-17|            null|     500000.0|  7000000.0|\n|409000611074'|FDRL/INTERNAL FUN...| 16-Aug-17|            null|     500000.0|  7500000.0|\n|409000611074'|FDRL/INTERNAL FUN...| 16-Aug-17|            null|     500000.0|  8000000.0|\n|409000611074'|FDRL/INTERNAL FUN...| 16-Aug-17|            null|     500000.0|  8500000.0|\n|409000611074'|INDO GIBL Indiafo...| 16-Aug-17|        133900.0|         null|  8366100.0|\n|409000611074'|INDO GIBL Indiafo...| 16-Aug-17|         18000.0|         null|  8348100.0|\n|409000611074'|INDO GIBL Indiafo...| 16-Aug-17|          5000.0|         null|  8343100.0|\n|409000611074'|INDO GIBL Indiafo...| 16-Aug-17|        195800.0|         null|  8147300.0|\n|409000611074'|INDO GIBL Indiafo...| 16-Aug-17|         81600.0|         null|  8065700.0|\n|409000611074'|INDO GIBL Indiafo...| 16-Aug-17|         41800.0|         null|  8023900.0|\n|409000611074'|INDO GIBL Indiafo...| 16-Aug-17|         98500.0|         null|  7925400.0|\n|409000611074'|INDO GIBL Indiafo...| 16-Aug-17|        143800.0|         null|  7781600.0|\n|409000611074'|INDO GIBL Indiafo...| 16-Aug-17|        331650.0|         null|  7449950.0|\n|409000611074'|INDO GIBL Indiafo...| 16-Aug-17|        129000.0|         null|  7320950.0|\n+-------------+--------------------+----------+----------------+-------------+-----------+\nonly showing top 20 rows\n\n"
     ]
    }
   ],
   "source": [
    "# Load the file\n",
    "file_path = \"/FileStore/tables/txn.csv\"\n",
    "df = spark.read.csv(file_path, header=True, inferSchema=True)\n",
    "\n",
    "# Display the first few rows of the DataFrame\n",
    "df.show()\n"
   ]
  },
  {
   "cell_type": "code",
   "execution_count": 0,
   "metadata": {
    "application/vnd.databricks.v1+cell": {
     "cellMetadata": {
      "byteLimit": 2048000,
      "rowLimit": 10000
     },
     "inputWidgets": {},
     "nuid": "77c41dd7-065e-4f05-918e-a38884d29b4e",
     "showTitle": false,
     "tableResultSettingsMap": {},
     "title": ""
    }
   },
   "outputs": [
    {
     "output_type": "stream",
     "name": "stdout",
     "output_type": "stream",
     "text": [
      "+------------------------+\n|max(TRANSACTION DETAILS)|\n+------------------------+\n|                    null|\n+------------------------+\n\n"
     ]
    }
   ],
   "source": [
    "# 1. Maximum withdrawal amount in transactions\n",
    "\n",
    "# Maximum withdrawal amount\n",
    "max_withdrawal = df.filter(df[\" WITHDRAWAL AMT \"] == \"Withdrawal\").agg({\"TRANSACTION DETAILS\": \"max\"})\n",
    "max_withdrawal.show()"
   ]
  },
  {
   "cell_type": "code",
   "execution_count": 0,
   "metadata": {
    "application/vnd.databricks.v1+cell": {
     "cellMetadata": {
      "byteLimit": 2048000,
      "rowLimit": 10000
     },
     "inputWidgets": {},
     "nuid": "0d91860b-9580-442c-9e9a-a7cc19a2b7c6",
     "showTitle": false,
     "tableResultSettingsMap": {},
     "title": ""
    }
   },
   "outputs": [
    {
     "output_type": "stream",
     "name": "stdout",
     "output_type": "stream",
     "text": [
      "+------------------------+\n|min(TRANSACTION DETAILS)|\n+------------------------+\n|                    null|\n+------------------------+\n\n"
     ]
    }
   ],
   "source": [
    "# 2. Minimum withdrawal amount\n",
    "\n",
    "min_withdrawal = df.filter(df[\" WITHDRAWAL AMT \"] == \"Withdrawal\").agg({\"TRANSACTION DETAILS\": \"min\"})\n",
    "min_withdrawal.show()"
   ]
  },
  {
   "cell_type": "code",
   "execution_count": 0,
   "metadata": {
    "application/vnd.databricks.v1+cell": {
     "cellMetadata": {
      "byteLimit": 2048000,
      "rowLimit": 10000
     },
     "inputWidgets": {},
     "nuid": "bbe51b8f-08ca-4a6f-afc7-b4dc3e07f47b",
     "showTitle": false,
     "tableResultSettingsMap": {},
     "title": ""
    }
   },
   "outputs": [
    {
     "output_type": "stream",
     "name": "stdout",
     "output_type": "stream",
     "text": [
      "+---------------+\n|max(Account No)|\n+---------------+\n|           null|\n+---------------+\n\n"
     ]
    }
   ],
   "source": [
    "# 3. MAXIMUM DEPOSIT AMOUNT OF AN ACCOUNT\n",
    "\n",
    "# Maximum deposit amount\n",
    "max_deposit = df.filter(df[\" DEPOSIT AMT \"] == \"Deposit\").agg({\"Account No\": \"max\"})\n",
    "max_deposit.show()"
   ]
  },
  {
   "cell_type": "code",
   "execution_count": 0,
   "metadata": {
    "application/vnd.databricks.v1+cell": {
     "cellMetadata": {
      "byteLimit": 2048000,
      "rowLimit": 10000
     },
     "inputWidgets": {},
     "nuid": "2338c9eb-cfb5-4993-9cfe-225d75aeb097",
     "showTitle": false,
     "tableResultSettingsMap": {},
     "title": ""
    }
   },
   "outputs": [
    {
     "output_type": "stream",
     "name": "stdout",
     "output_type": "stream",
     "text": [
      "+---------------+\n|min(Account No)|\n+---------------+\n|           null|\n+---------------+\n\n"
     ]
    }
   ],
   "source": [
    "# 4.  Minimum DEPOSIT AMOUNT OF AN ACCOUNT\n",
    "\n",
    "# Minimum deposit amount\n",
    "min_deposit = df.filter(df[\" DEPOSIT AMT \"] == \"Deposit\").agg({\"Account No\": \"min\"})\n",
    "min_deposit.show()"
   ]
  },
  {
   "cell_type": "code",
   "execution_count": 0,
   "metadata": {
    "application/vnd.databricks.v1+cell": {
     "cellMetadata": {
      "byteLimit": 2048000,
      "rowLimit": 10000
     },
     "inputWidgets": {},
     "nuid": "adc34262-f178-4638-bafc-d58837b57f47",
     "showTitle": false,
     "tableResultSettingsMap": {},
     "title": ""
    }
   },
   "outputs": [
    {
     "output_type": "stream",
     "name": "stdout",
     "output_type": "stream",
     "text": [
      "+-------------+--------------------+\n|   Account No|    sum(BALANCE AMT)|\n+-------------+--------------------+\n|409000438611'|-2.49486577068339...|\n|     1196711'|-1.60476498101275E13|\n|     1196428'| -8.1418498130721E13|\n|409000493210'|-3.27584952132095...|\n|409000611074'|       1.615533622E9|\n|409000425051'|-3.77211841164998...|\n|409000405747'|-2.43108047067000...|\n|409000493201'|1.0420831829499985E9|\n|409000438620'|-7.12291867951358...|\n|409000362497'| -5.2860004792808E13|\n+-------------+--------------------+\n\n"
     ]
    }
   ],
   "source": [
    "# 5. Sum of balance in every bank account\n",
    "\n",
    "# Sum of balances\n",
    "total_balance = df.groupBy(\"Account No\").agg({\"BALANCE AMT\": \"sum\"}).withColumnRenamed(\"sum(Balance)\", \"TotalBalance\")\n",
    "total_balance.show()\n"
   ]
  },
  {
   "cell_type": "code",
   "execution_count": 0,
   "metadata": {
    "application/vnd.databricks.v1+cell": {
     "cellMetadata": {
      "byteLimit": 2048000,
      "rowLimit": 10000
     },
     "inputWidgets": {},
     "nuid": "d4e49ea1-c40d-466c-816d-b2964280b439",
     "showTitle": false,
     "tableResultSettingsMap": {},
     "title": ""
    }
   },
   "outputs": [
    {
     "output_type": "stream",
     "name": "stdout",
     "output_type": "stream",
     "text": [
      "+----------+----------------+\n|VALUE DATE|TransactionCount|\n+----------+----------------+\n| 23-Dec-16|             143|\n|  7-Feb-19|              98|\n| 21-Jul-15|              80|\n|  9-Sep-15|              91|\n| 17-Jan-15|              16|\n| 18-Nov-17|              53|\n| 21-Feb-18|              77|\n| 20-Mar-18|              71|\n| 19-Apr-18|              71|\n| 21-Jun-16|              97|\n| 17-Oct-17|             101|\n|  3-Jan-18|              70|\n|  8-Jun-18|             223|\n| 15-Dec-18|              62|\n|  8-Aug-16|              97|\n| 17-Dec-16|              74|\n|  3-Sep-15|              83|\n| 21-Jan-16|              76|\n|  4-May-18|              92|\n|  7-Sep-17|              94|\n+----------+----------------+\nonly showing top 20 rows\n\n"
     ]
    }
   ],
   "source": [
    "# 6. Number of transaction on each date\n",
    "\n",
    "# Count transactions by date\n",
    "transactions_per_date = df.groupBy(\"VALUE DATE\").count().withColumnRenamed(\"count\", \"TransactionCount\")\n",
    "transactions_per_date.show()\n"
   ]
  },
  {
   "cell_type": "code",
   "execution_count": 0,
   "metadata": {
    "application/vnd.databricks.v1+cell": {
     "cellMetadata": {
      "byteLimit": 2048000,
      "rowLimit": 10000
     },
     "inputWidgets": {},
     "nuid": "314f989b-0fba-4b71-a6ae-e699cbd9ca48",
     "showTitle": false,
     "tableResultSettingsMap": {},
     "title": ""
    }
   },
   "outputs": [
    {
     "output_type": "stream",
     "name": "stdout",
     "output_type": "stream",
     "text": [
      "+-------------+----------------+----------+\n|   Account No| WITHDRAWAL AMT |VALUE DATE|\n+-------------+----------------+----------+\n|409000611074'|        133900.0| 16-Aug-17|\n|409000611074'|        195800.0| 16-Aug-17|\n|409000611074'|        143800.0| 16-Aug-17|\n|409000611074'|        331650.0| 16-Aug-17|\n|409000611074'|        129000.0| 16-Aug-17|\n|409000611074'|        230013.0| 16-Aug-17|\n|409000611074'|        367900.0| 16-Aug-17|\n|409000611074'|        108000.0| 16-Aug-17|\n|409000611074'|        141000.0| 16-Aug-17|\n|409000611074'|        206000.0| 16-Aug-17|\n|409000611074'|        242300.0|  6-Sep-17|\n|409000611074'|        113250.0|  6-Sep-17|\n|409000611074'|        206900.0|  6-Sep-17|\n|409000611074'|        276000.0|  6-Sep-17|\n|409000611074'|        171000.0|  6-Sep-17|\n|409000611074'|        189800.0|  6-Sep-17|\n|409000611074'|        271323.0|  6-Sep-17|\n|409000611074'|        200600.0|  6-Sep-17|\n|409000611074'|        176900.0|  6-Sep-17|\n|409000611074'|        150050.0|  6-Sep-17|\n+-------------+----------------+----------+\nonly showing top 20 rows\n\n"
     ]
    }
   ],
   "source": [
    "# 7. List of customers with withdrawal amount more than 1 lakh\n",
    "\n",
    "# Filter withdrawals greater than 1 lakh\n",
    "high_withdrawals = df.filter((df[\" WITHDRAWAL AMT \"] > 100000))\n",
    "\n",
    "# Select relevant columns: Account No, WITHDRAWAL AMT, VALUE DATE\n",
    "high_withdrawals.select(\"Account No\", \" WITHDRAWAL AMT \", \"VALUE DATE\").show()\n",
    "\n"
   ]
  }
 ],
 "metadata": {
  "application/vnd.databricks.v1+notebook": {
   "dashboards": [],
   "environmentMetadata": null,
   "language": "python",
   "notebookMetadata": {
    "pythonIndentUnit": 4
   },
   "notebookName": "PySpark Case Study",
   "widgets": {}
  }
 },
 "nbformat": 4,
 "nbformat_minor": 0
}
