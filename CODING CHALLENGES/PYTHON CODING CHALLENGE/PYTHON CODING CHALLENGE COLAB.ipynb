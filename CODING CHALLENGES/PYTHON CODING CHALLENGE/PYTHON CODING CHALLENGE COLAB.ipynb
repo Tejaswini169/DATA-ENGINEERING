{
  "nbformat": 4,
  "nbformat_minor": 0,
  "metadata": {
    "colab": {
      "provenance": []
    },
    "kernelspec": {
      "name": "python3",
      "display_name": "Python 3"
    },
    "language_info": {
      "name": "python"
    }
  },
  "cells": [
    {
      "cell_type": "markdown",
      "source": [
        "PYTHON CODING CHALLENGE\n",
        "\n",
        "NAME : TEJASWINI GOKANAKONDA\n",
        "\n",
        "ROLL No: DE142\n",
        "\n",
        "DATE : 15-11-2024"
      ],
      "metadata": {
        "id": "DWG1U09tk2Uv"
      }
    },
    {
      "cell_type": "markdown",
      "source": [
        "**Printing Rows of the Data**"
      ],
      "metadata": {
        "id": "Spj2UYkMlSKG"
      }
    },
    {
      "cell_type": "code",
      "execution_count": 1,
      "metadata": {
        "colab": {
          "base_uri": "https://localhost:8080/"
        },
        "id": "VLlBDlHRjGnD",
        "outputId": "611311ba-e1aa-41e4-e566-05c1827a3aaf"
      },
      "outputs": [
        {
          "output_type": "stream",
          "name": "stdout",
          "text": [
            "   Year Industry_aggregation_NZSIOC Industry_code_NZSIOC Industry_name_NZSIOC  \\\n",
            "0  2023                     Level 1                99999       All industries   \n",
            "1  2023                     Level 1                99999       All industries   \n",
            "2  2023                     Level 1                99999       All industries   \n",
            "3  2023                     Level 1                99999       All industries   \n",
            "4  2023                     Level 1                99999       All industries   \n",
            "\n",
            "                Units Variable_code  \\\n",
            "0  Dollars (millions)           H01   \n",
            "1  Dollars (millions)           H04   \n",
            "2  Dollars (millions)           H05   \n",
            "3  Dollars (millions)           H07   \n",
            "4  Dollars (millions)           H08   \n",
            "\n",
            "                                     Variable_name      Variable_category  \\\n",
            "0                                     Total income  Financial performance   \n",
            "1  Sales, government funding, grants and subsidies  Financial performance   \n",
            "2                Interest, dividends and donations  Financial performance   \n",
            "3                             Non-operating income  Financial performance   \n",
            "4                                Total expenditure  Financial performance   \n",
            "\n",
            "    Value                             Industry_code_ANZSIC06  \n",
            "0  930995  ANZSIC06 divisions A-S (excluding classes K633...  \n",
            "1  821630  ANZSIC06 divisions A-S (excluding classes K633...  \n",
            "2   84354  ANZSIC06 divisions A-S (excluding classes K633...  \n",
            "3   25010  ANZSIC06 divisions A-S (excluding classes K633...  \n",
            "4  832964  ANZSIC06 divisions A-S (excluding classes K633...  \n"
          ]
        }
      ],
      "source": [
        "import pandas as pd\n",
        "\n",
        "df = pd.read_csv(\"dataset.csv\")\n",
        "\n",
        "print(df.head())"
      ]
    },
    {
      "cell_type": "markdown",
      "source": [
        "**Printing the Column Names of the DataFrame**"
      ],
      "metadata": {
        "id": "EM-LK-f3mDjF"
      }
    },
    {
      "cell_type": "code",
      "source": [
        "print(df.columns)"
      ],
      "metadata": {
        "colab": {
          "base_uri": "https://localhost:8080/"
        },
        "id": "Oe3bO6Yom2dk",
        "outputId": "e002540b-9c03-47b3-80fc-aee823e911a2"
      },
      "execution_count": 2,
      "outputs": [
        {
          "output_type": "stream",
          "name": "stdout",
          "text": [
            "Index(['Year', 'Industry_aggregation_NZSIOC', 'Industry_code_NZSIOC',\n",
            "       'Industry_name_NZSIOC', 'Units', 'Variable_code', 'Variable_name',\n",
            "       'Variable_category', 'Value', 'Industry_code_ANZSIC06'],\n",
            "      dtype='object')\n"
          ]
        }
      ]
    },
    {
      "cell_type": "markdown",
      "source": [
        "**Summary of Data Frame**"
      ],
      "metadata": {
        "id": "B5TwfO3Lnaoj"
      }
    },
    {
      "cell_type": "code",
      "source": [
        "print(df.info())"
      ],
      "metadata": {
        "colab": {
          "base_uri": "https://localhost:8080/"
        },
        "id": "yWlEVizGnb0r",
        "outputId": "4f00ff3a-6873-4770-a474-66960b2d14b6"
      },
      "execution_count": 3,
      "outputs": [
        {
          "output_type": "stream",
          "name": "stdout",
          "text": [
            "<class 'pandas.core.frame.DataFrame'>\n",
            "RangeIndex: 50985 entries, 0 to 50984\n",
            "Data columns (total 10 columns):\n",
            " #   Column                       Non-Null Count  Dtype \n",
            "---  ------                       --------------  ----- \n",
            " 0   Year                         50985 non-null  int64 \n",
            " 1   Industry_aggregation_NZSIOC  50985 non-null  object\n",
            " 2   Industry_code_NZSIOC         50985 non-null  object\n",
            " 3   Industry_name_NZSIOC         50985 non-null  object\n",
            " 4   Units                        50985 non-null  object\n",
            " 5   Variable_code                50985 non-null  object\n",
            " 6   Variable_name                50985 non-null  object\n",
            " 7   Variable_category            50985 non-null  object\n",
            " 8   Value                        50985 non-null  object\n",
            " 9   Industry_code_ANZSIC06       50985 non-null  object\n",
            "dtypes: int64(1), object(9)\n",
            "memory usage: 3.9+ MB\n",
            "None\n"
          ]
        }
      ]
    },
    {
      "cell_type": "markdown",
      "source": [
        "**Descriptive Statistical Measures of a DataFrame**"
      ],
      "metadata": {
        "id": "rZ8LhxaKn-ek"
      }
    },
    {
      "cell_type": "code",
      "source": [
        "print(df.describe())"
      ],
      "metadata": {
        "colab": {
          "base_uri": "https://localhost:8080/"
        },
        "id": "00OcTmlZn_xD",
        "outputId": "37549ba2-0622-483a-9499-fd0f6fb892eb"
      },
      "execution_count": 4,
      "outputs": [
        {
          "output_type": "stream",
          "name": "stdout",
          "text": [
            "               Year\n",
            "count  50985.000000\n",
            "mean    2018.000000\n",
            "std        3.162309\n",
            "min     2013.000000\n",
            "25%     2015.000000\n",
            "50%     2018.000000\n",
            "75%     2021.000000\n",
            "max     2023.000000\n"
          ]
        }
      ]
    },
    {
      "cell_type": "markdown",
      "source": [
        "**Missing Data Handling**"
      ],
      "metadata": {
        "id": "mxnxTh-YodCh"
      }
    },
    {
      "cell_type": "code",
      "source": [
        "# Filling it with 0\n",
        "print(df.isnull().sum())\n",
        "df = df.fillna(0)\n",
        "# Deleting null values\n",
        "df = df.dropna()"
      ],
      "metadata": {
        "colab": {
          "base_uri": "https://localhost:8080/"
        },
        "id": "8L9EZEutob56",
        "outputId": "d6b1d2eb-e7a1-45da-8552-7d2e3a8a61af"
      },
      "execution_count": 7,
      "outputs": [
        {
          "output_type": "stream",
          "name": "stdout",
          "text": [
            "Year                           0\n",
            "Industry_aggregation_NZSIOC    0\n",
            "Industry_code_NZSIOC           0\n",
            "Industry_name_NZSIOC           0\n",
            "Units                          0\n",
            "Variable_code                  0\n",
            "Variable_name                  0\n",
            "Variable_category              0\n",
            "Value                          0\n",
            "Industry_code_ANZSIC06         0\n",
            "dtype: int64\n"
          ]
        }
      ]
    },
    {
      "cell_type": "markdown",
      "source": [
        "**Sorting DataFrame Values**"
      ],
      "metadata": {
        "id": "PR40G9LIpRFB"
      }
    },
    {
      "cell_type": "code",
      "source": [
        "df_sorted = df.sort_values(by=\"Year\", ascending=True)\n",
        "print(df_sorted.head())"
      ],
      "metadata": {
        "colab": {
          "base_uri": "https://localhost:8080/"
        },
        "id": "eT3iZak9pSWx",
        "outputId": "9a355e02-8c27-4e98-e392-537704807c71"
      },
      "execution_count": 8,
      "outputs": [
        {
          "output_type": "stream",
          "name": "stdout",
          "text": [
            "       Year Industry_aggregation_NZSIOC Industry_code_NZSIOC  \\\n",
            "50984  2013                     Level 3                 ZZ11   \n",
            "47889  2013                     Level 4                CC822   \n",
            "47890  2013                     Level 4                CC822   \n",
            "47891  2013                     Level 4                CC822   \n",
            "47892  2013                     Level 4                CC822   \n",
            "\n",
            "             Industry_name_NZSIOC               Units Variable_code  \\\n",
            "50984  Food product manufacturing          Percentage           H41   \n",
            "47889     Machinery Manufacturing  Dollars (millions)           H09   \n",
            "47890     Machinery Manufacturing  Dollars (millions)           H10   \n",
            "47891     Machinery Manufacturing  Dollars (millions)           H11   \n",
            "47892     Machinery Manufacturing  Dollars (millions)           H12   \n",
            "\n",
            "                 Variable_name      Variable_category Value  \\\n",
            "50984    Liabilities structure       Financial ratios    46   \n",
            "47889   Interest and donations  Financial performance    36   \n",
            "47890           Indirect taxes  Financial performance     9   \n",
            "47891             Depreciation  Financial performance    72   \n",
            "47892  Salaries and wages paid  Financial performance   908   \n",
            "\n",
            "                                  Industry_code_ANZSIC06  \n",
            "50984  ANZSIC06 groups C111, C112, C113, C114, C115, ...  \n",
            "47889               ANZSIC06 groups C245, C246, and C249  \n",
            "47890               ANZSIC06 groups C245, C246, and C249  \n",
            "47891               ANZSIC06 groups C245, C246, and C249  \n",
            "47892               ANZSIC06 groups C245, C246, and C249  \n"
          ]
        }
      ]
    },
    {
      "cell_type": "markdown",
      "source": [
        "**Merging Data Frames**"
      ],
      "metadata": {
        "id": "unfSPidNqZ-5"
      }
    },
    {
      "cell_type": "code",
      "source": [
        "df1 = df[['Industry_code_ANZSIC06', 'Industry_name_NZSIOC', 'Variable_name', 'Value']]\n",
        "\n",
        "merged_df = pd.merge(df, df1, on=\"Industry_code_ANZSIC06\", suffixes=('_left', '_right'))\n",
        "\n",
        "print(merged_df.head())"
      ],
      "metadata": {
        "colab": {
          "base_uri": "https://localhost:8080/"
        },
        "id": "BN6RC3wqqZcJ",
        "outputId": "7b5b33c9-c386-4061-fab1-6a8612965f41"
      },
      "execution_count": 9,
      "outputs": [
        {
          "output_type": "stream",
          "name": "stdout",
          "text": [
            "   Year Industry_aggregation_NZSIOC Industry_code_NZSIOC  \\\n",
            "0  2023                     Level 1                99999   \n",
            "1  2023                     Level 1                99999   \n",
            "2  2023                     Level 1                99999   \n",
            "3  2023                     Level 1                99999   \n",
            "4  2023                     Level 1                99999   \n",
            "\n",
            "  Industry_name_NZSIOC_left               Units Variable_code  \\\n",
            "0            All industries  Dollars (millions)           H01   \n",
            "1            All industries  Dollars (millions)           H01   \n",
            "2            All industries  Dollars (millions)           H01   \n",
            "3            All industries  Dollars (millions)           H01   \n",
            "4            All industries  Dollars (millions)           H01   \n",
            "\n",
            "  Variable_name_left      Variable_category Value_left  \\\n",
            "0       Total income  Financial performance     930995   \n",
            "1       Total income  Financial performance     930995   \n",
            "2       Total income  Financial performance     930995   \n",
            "3       Total income  Financial performance     930995   \n",
            "4       Total income  Financial performance     930995   \n",
            "\n",
            "                              Industry_code_ANZSIC06  \\\n",
            "0  ANZSIC06 divisions A-S (excluding classes K633...   \n",
            "1  ANZSIC06 divisions A-S (excluding classes K633...   \n",
            "2  ANZSIC06 divisions A-S (excluding classes K633...   \n",
            "3  ANZSIC06 divisions A-S (excluding classes K633...   \n",
            "4  ANZSIC06 divisions A-S (excluding classes K633...   \n",
            "\n",
            "  Industry_name_NZSIOC_right                              Variable_name_right  \\\n",
            "0             All industries                                     Total income   \n",
            "1             All industries  Sales, government funding, grants and subsidies   \n",
            "2             All industries                Interest, dividends and donations   \n",
            "3             All industries                             Non-operating income   \n",
            "4             All industries                                Total expenditure   \n",
            "\n",
            "  Value_right  \n",
            "0      930995  \n",
            "1      821630  \n",
            "2       84354  \n",
            "3       25010  \n",
            "4      832964  \n"
          ]
        }
      ]
    },
    {
      "cell_type": "markdown",
      "source": [
        "**Applying a Function**"
      ],
      "metadata": {
        "id": "yPn-EbcKrMxm"
      }
    },
    {
      "cell_type": "code",
      "source": [
        "import numpy as np\n",
        "\n",
        "df['Value'] = pd.to_numeric(df['Value'], errors='coerce')\n",
        "\n",
        "#function to increase each value by 10%\n",
        "def increase_by_percentage(value):\n",
        "    return value * 1.10 if not np.isnan(value) else value\n",
        "\n",
        "df['Value'] = df['Value'].apply(increase_by_percentage)\n",
        "\n",
        "print(df[['Value']].head())"
      ],
      "metadata": {
        "colab": {
          "base_uri": "https://localhost:8080/"
        },
        "id": "xYEcWpSzrOWo",
        "outputId": "04290715-d1b2-49be-94ad-287424172dc0"
      },
      "execution_count": 11,
      "outputs": [
        {
          "output_type": "stream",
          "name": "stdout",
          "text": [
            "       Value\n",
            "0  1024094.5\n",
            "1   903793.0\n",
            "2    92789.4\n",
            "3    27511.0\n",
            "4   916260.4\n"
          ]
        }
      ]
    },
    {
      "cell_type": "markdown",
      "source": [
        "**Using Lambda Operator**"
      ],
      "metadata": {
        "id": "bAYa2FZ6rTtH"
      }
    },
    {
      "cell_type": "code",
      "source": [
        "df['Adjusted_Value'] = df['Value'].apply(lambda x: x * 1.1 if x > 1000 else x)\n",
        "print(df.head())"
      ],
      "metadata": {
        "colab": {
          "base_uri": "https://localhost:8080/"
        },
        "id": "tAa0yZcErW1g",
        "outputId": "cb6eb570-71a5-4988-cafe-250629b424fd"
      },
      "execution_count": 17,
      "outputs": [
        {
          "output_type": "stream",
          "name": "stdout",
          "text": [
            "   Year Industry_aggregation_NZSIOC Industry_code_NZSIOC Industry_name_NZSIOC  \\\n",
            "0  2023                     Level 1                99999       All industries   \n",
            "1  2023                     Level 1                99999       All industries   \n",
            "2  2023                     Level 1                99999       All industries   \n",
            "3  2023                     Level 1                99999       All industries   \n",
            "4  2023                     Level 1                99999       All industries   \n",
            "\n",
            "                Units Variable_code  \\\n",
            "0  Dollars (millions)           H01   \n",
            "1  Dollars (millions)           H04   \n",
            "2  Dollars (millions)           H05   \n",
            "3  Dollars (millions)           H07   \n",
            "4  Dollars (millions)           H08   \n",
            "\n",
            "                                     Variable_name      Variable_category  \\\n",
            "0                                     Total income  Financial performance   \n",
            "1  Sales, government funding, grants and subsidies  Financial performance   \n",
            "2                Interest, dividends and donations  Financial performance   \n",
            "3                             Non-operating income  Financial performance   \n",
            "4                                Total expenditure  Financial performance   \n",
            "\n",
            "       Value                             Industry_code_ANZSIC06  \\\n",
            "0  1024094.5  ANZSIC06 divisions A-S (excluding classes K633...   \n",
            "1   903793.0  ANZSIC06 divisions A-S (excluding classes K633...   \n",
            "2    92789.4  ANZSIC06 divisions A-S (excluding classes K633...   \n",
            "3    27511.0  ANZSIC06 divisions A-S (excluding classes K633...   \n",
            "4   916260.4  ANZSIC06 divisions A-S (excluding classes K633...   \n",
            "\n",
            "   Adjusted_Value  \n",
            "0      1126503.95  \n",
            "1       994172.30  \n",
            "2       102068.34  \n",
            "3        30262.10  \n",
            "4      1007886.44  \n"
          ]
        }
      ]
    },
    {
      "cell_type": "markdown",
      "source": [
        "**Visualizing DataFrame**"
      ],
      "metadata": {
        "id": "e5lGjiOKrXWC"
      }
    },
    {
      "cell_type": "code",
      "source": [
        "import matplotlib.pyplot as plt\n",
        "\n",
        "df['Year'].value_counts().plot(kind='bar')\n",
        "plt.xlabel(\"Year\")\n",
        "plt.ylabel(\"Frequency\")\n",
        "plt.title(\"Yearly Data Distribution\")\n",
        "plt.show()"
      ],
      "metadata": {
        "colab": {
          "base_uri": "https://localhost:8080/",
          "height": 493
        },
        "id": "lUoGz3z8ra8I",
        "outputId": "35b146b8-51bf-443b-f4e9-ec9114a800a0"
      },
      "execution_count": 16,
      "outputs": [
        {
          "output_type": "display_data",
          "data": {
            "text/plain": [
              "<Figure size 640x480 with 1 Axes>"
            ],
            "image/png": "[encoded data removed]"
          },
          "metadata": {}
        }
      ]
    },
    {
      "cell_type": "markdown",
      "source": [
        "**Number of Columns in the Dataset**"
      ],
      "metadata": {
        "id": "oZGtwv2WrbaQ"
      }
    },
    {
      "cell_type": "code",
      "source": [
        "print(\"Number of columns:\", df.shape[1])"
      ],
      "metadata": {
        "colab": {
          "base_uri": "https://localhost:8080/"
        },
        "id": "7d6fFRJzrfkv",
        "outputId": "5b987235-8f25-4df5-effe-c1e7a92e2392"
      },
      "execution_count": 18,
      "outputs": [
        {
          "output_type": "stream",
          "name": "stdout",
          "text": [
            "Number of columns: 11\n"
          ]
        }
      ]
    },
    {
      "cell_type": "markdown",
      "source": [
        "**Printing the Name of All Columns**"
      ],
      "metadata": {
        "id": "iktq14s3rf2I"
      }
    },
    {
      "cell_type": "code",
      "source": [
        "print(\"Column names:\", df.columns.tolist())"
      ],
      "metadata": {
        "colab": {
          "base_uri": "https://localhost:8080/"
        },
        "id": "f72diEsVrjcf",
        "outputId": "3d028560-90c9-4915-a1d1-97ddbfe54655"
      },
      "execution_count": 19,
      "outputs": [
        {
          "output_type": "stream",
          "name": "stdout",
          "text": [
            "Column names: ['Year', 'Industry_aggregation_NZSIOC', 'Industry_code_NZSIOC', 'Industry_name_NZSIOC', 'Units', 'Variable_code', 'Variable_name', 'Variable_category', 'Value', 'Industry_code_ANZSIC06', 'Adjusted_Value']\n"
          ]
        }
      ]
    },
    {
      "cell_type": "markdown",
      "source": [
        "**Dataset Indexing**"
      ],
      "metadata": {
        "id": "6g6Gl4FsrjsP"
      }
    },
    {
      "cell_type": "code",
      "source": [
        "print(\"Dataset index:\", df.index)"
      ],
      "metadata": {
        "colab": {
          "base_uri": "https://localhost:8080/"
        },
        "id": "4i-cxeq4rmD_",
        "outputId": "40d8e967-b606-422a-b92b-026b3f33ab0b"
      },
      "execution_count": 20,
      "outputs": [
        {
          "output_type": "stream",
          "name": "stdout",
          "text": [
            "Dataset index: RangeIndex(start=0, stop=50985, step=1)\n"
          ]
        }
      ]
    },
    {
      "cell_type": "markdown",
      "source": [
        "**Number of Observations in the Dataset**"
      ],
      "metadata": {
        "id": "jjg_0TyormRf"
      }
    },
    {
      "cell_type": "code",
      "source": [
        "print(\"Number of observations:\", df.shape[0])"
      ],
      "metadata": {
        "colab": {
          "base_uri": "https://localhost:8080/"
        },
        "id": "SbxZ6ce7rpK_",
        "outputId": "da394575-debd-48b4-942c-49b7694cdfd6"
      },
      "execution_count": 21,
      "outputs": [
        {
          "output_type": "stream",
          "name": "stdout",
          "text": [
            "Number of observations: 50985\n"
          ]
        }
      ]
    }
  ]
}