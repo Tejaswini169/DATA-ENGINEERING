{
  "nbformat": 4,
  "nbformat_minor": 0,
  "metadata": {
    "colab": {
      "provenance": []
    },
    "kernelspec": {
      "name": "python3",
      "display_name": "Python 3"
    },
    "language_info": {
      "name": "python"
    }
  },
  "cells": [
    {
      "cell_type": "code",
      "execution_count": null,
      "metadata": {
        "id": "c7cCL5BLD2B1"
      },
      "outputs": [],
      "source": [
        "from pyspark.sql.session import SparkSession\n",
        "spark = SparkSession.builder.getOrCreate()"
      ]
    },
    {
      "cell_type": "code",
      "source": [
        "credit_card_data = spark.read.csv(path='credit card.csv', header=True)"
      ],
      "metadata": {
        "id": "Q8XWI68-EkhB"
      },
      "execution_count": null,
      "outputs": []
    },
    {
      "cell_type": "code",
      "source": [
        "loan_data = spark.read.csv(path='loan.csv', header=True)"
      ],
      "metadata": {
        "id": "zo4ZgOOCEx-S"
      },
      "execution_count": null,
      "outputs": []
    },
    {
      "cell_type": "code",
      "source": [
        "txn_data = spark.read.csv(path='txn.csv', header=True)"
      ],
      "metadata": {
        "id": "n_I2wE44FH8i"
      },
      "execution_count": null,
      "outputs": []
    },
    {
      "cell_type": "code",
      "source": [
        "credit_card_data.show()"
      ],
      "metadata": {
        "colab": {
          "base_uri": "https://localhost:8080/"
        },
        "id": "6nOR0NjNE3rx",
        "outputId": "a1798c8c-ad02-4435-ad7c-39970ca828ba"
      },
      "execution_count": null,
      "outputs": [
        {
          "output_type": "stream",
          "name": "stdout",
          "text": [
            "+---------+----------+---------+-----------+---------+------+---+------+---------+-------------+--------------+---------------+------+\n",
            "|RowNumber|CustomerId|  Surname|CreditScore|Geography|Gender|Age|Tenure|  Balance|NumOfProducts|IsActiveMember|EstimatedSalary|Exited|\n",
            "+---------+----------+---------+-----------+---------+------+---+------+---------+-------------+--------------+---------------+------+\n",
            "|        1|  15634602| Hargrave|        619|   France|Female| 42|     2|        0|            1|             1|      101348.88|     1|\n",
            "|        2|  15647311|     Hill|        608|    Spain|Female| 41|     1| 83807.86|            1|             1|      112542.58|     0|\n",
            "|        3|  15619304|     Onio|        502|   France|Female| 42|     8| 159660.8|            3|             0|      113931.57|     1|\n",
            "|        4|  15701354|     Boni|        699|   France|Female| 39|     1|        0|            2|             0|       93826.63|     0|\n",
            "|        5|  15737888| Mitchell|        850|    Spain|Female| 43|     2|125510.82|            1|             1|        79084.1|     0|\n",
            "|        6|  15574012|      Chu|        645|    Spain|  Male| 44|     8|113755.78|            2|             0|      149756.71|     1|\n",
            "|        7|  15592531| Bartlett|        822|   France|  Male| 50|     7|        0|            2|             1|        10062.8|     0|\n",
            "|        8|  15656148|   Obinna|        376|  Germany|Female| 29|     4|115046.74|            4|             0|      119346.88|     1|\n",
            "|        9|  15792365|       He|        501|   France|  Male| 44|     4|142051.07|            2|             1|        74940.5|     0|\n",
            "|       10|  15592389|       H?|        684|   France|  Male| 27|     2|134603.88|            1|             1|       71725.73|     0|\n",
            "|       11|  15767821|   Bearce|        528|   France|  Male| 31|     6|102016.72|            2|             0|       80181.12|     0|\n",
            "|       12|  15737173|  Andrews|        497|    Spain|  Male| 24|     3|        0|            2|             0|       76390.01|     0|\n",
            "|       13|  15632264|      Kay|        476|   France|Female| 34|    10|        0|            2|             0|       26260.98|     0|\n",
            "|       14|  15691483|     Chin|        549|   France|Female| 25|     5|        0|            2|             0|      190857.79|     0|\n",
            "|       15|  15600882|    Scott|        635|    Spain|Female| 35|     7|        0|            2|             1|       65951.65|     0|\n",
            "|       16|  15643966|  Goforth|        616|  Germany|  Male| 45|     3|143129.41|            2|             1|       64327.26|     0|\n",
            "|       17|  15737452|    Romeo|        653|  Germany|  Male| 58|     1|132602.88|            1|             0|        5097.67|     1|\n",
            "|       18|  15788218|Henderson|        549|    Spain|Female| 24|     9|        0|            2|             1|       14406.41|     0|\n",
            "|       19|  15661507|  Muldrow|        587|    Spain|  Male| 45|     6|        0|            1|             0|      158684.81|     0|\n",
            "|       20|  15568982|      Hao|        726|   France|Female| 24|     6|        0|            2|             1|       54724.03|     0|\n",
            "+---------+----------+---------+-----------+---------+------+---+------+---------+-------------+--------------+---------------+------+\n",
            "only showing top 20 rows\n",
            "\n"
          ]
        }
      ]
    },
    {
      "cell_type": "code",
      "source": [
        "loan_data.show()"
      ],
      "metadata": {
        "colab": {
          "base_uri": "https://localhost:8080/"
        },
        "id": "1y0Mxv1xFrRw",
        "outputId": "666d4fee-7dfb-4cc6-bca1-6f6ce9d0dabb"
      },
      "execution_count": null,
      "outputs": [
        {
          "output_type": "stream",
          "name": "stdout",
          "text": [
            "+-----------+---+------+-------------------+--------------+-----------+------+-----------+-------------+------------------+-----------+-------+------------+----------------+------------------+\n",
            "|Customer_ID|Age|Gender|         Occupation|Marital Status|Family Size|Income|Expenditure|Use Frequency|     Loan Category|Loan Amount|Overdue| Debt Record| Returned Cheque| Dishonour of Bill|\n",
            "+-----------+---+------+-------------------+--------------+-----------+------+-----------+-------------+------------------+-----------+-------+------------+----------------+------------------+\n",
            "|    IB14001| 30|  MALE|       BANK MANAGER|        SINGLE|          4| 50000|      22199|            6|           HOUSING| 10,00,000 |      5|      42,898|               6|                 9|\n",
            "|    IB14008| 44|  MALE|          PROFESSOR|       MARRIED|          6| 51000|      19999|            4|          SHOPPING|     50,000|      3|      33,999|               1|                 5|\n",
            "|    IB14012| 30|FEMALE|            DENTIST|        SINGLE|          3| 58450|      27675|            5|        TRAVELLING|     75,000|      6|      20,876|               3|                 1|\n",
            "|    IB14018| 29|  MALE|            TEACHER|       MARRIED|          5| 45767|      12787|            3|         GOLD LOAN|  6,00,000 |      7|      11,000|               0|                 4|\n",
            "|    IB14022| 34|  MALE|             POLICE|        SINGLE|          4| 43521|      11999|            3|        AUTOMOBILE|  2,00,000 |      2|      43,898|               1|                 2|\n",
            "|    IB14024| 55|FEMALE|              NURSE|       MARRIED|          6| 34999|      19888|            4|        AUTOMOBILE|     47,787|      1|      50,000|               0|                 3|\n",
            "|    IB14025| 39|FEMALE|            TEACHER|       MARRIED|          6| 46619|      18675|            4|           HOUSING| 12,09,867 |      8|      29,999|               6|                 8|\n",
            "|    IB14027| 51|  MALE|     SYSTEM MANAGER|       MARRIED|          3| 49999|      19111|            5|       RESTAURANTS|     60,676|      8|      13,000|               2|                 5|\n",
            "|    IB14029| 24|FEMALE|            TEACHER|        SINGLE|          3| 45008|      17454|            4|        AUTOMOBILE|  3,99,435 |      9|      51,987|               4|                 7|\n",
            "|    IB14031| 37|FEMALE|  SOFTWARE ENGINEER|       MARRIED|          5| 55999|      23999|            5|        AUTOMOBILE|     60,999|      2|           0|               5|                 3|\n",
            "|    IB14032| 24|  MALE|       DATA ANALYST|        SINGLE|          4| 60111|      28999|            6|        AUTOMOBILE|     35,232|      5|      33,333|               1|                 2|\n",
            "|    IB14034| 32|  MALE|   PRODUCT ENGINEER|       MARRIED|          6|  NULL|      29000|            7|COMPUTER SOFTWARES|     80,660|      6|       4,500|               5|                 4|\n",
            "|    IB14037| 54|FEMALE|            TEACHER|       MARRIED|          5| 48099|      19999|            4|       RESTAURANTS|     30,999|      1|      12,000|               7|                 5|\n",
            "|    IB14039| 45|  MALE|    ACCOUNT MANAGER|       MARRIED|          7| 45777|      18452|            4|         GOLD LOAN|  9,87,611 |      7|      39,999|               8|                 1|\n",
            "|    IB14041| 59|FEMALE|ASSISTANT PROFESSOR|       MARRIED|          4| 50999|      22999|            5|  EDUCATIONAL LOAN|  5,99,934 |      3|       9,000|               9|                 9|\n",
            "|    IB14042| 25|FEMALE|             DOCTOR|        SINGLE|          4| 60111|      27111|            5|        TRAVELLING| 12,90,929 |      4|      18,000|               1|                 0|\n",
            "|    IB14045| 31|  MALE|       STORE KEEPER|        SINGLE|          5| 40999|      11999|            3|       BOOK STORES|  1,67,654 |      1|       4,500|               0|                 1|\n",
            "|    IB14049| 49|  MALE|       BANK MANAGER|       MARRIED|          4| 45999|      14500|            4|        TRAVELLING|     79,999|      4|       6,700|               7|                 3|\n",
            "|    IB14050| 56|  MALE|     CIVIL ENGINEER|       MARRIED|          4|  NULL|      13999|            3|           HOUSING| 10,65,577 |      6|      19,999|               4|                 2|\n",
            "|    IB14054| 58|FEMALE|             DOCTOR|       MARRIED|          5| 60000|      25000|            5|           HOUSING|  9,00,000 |      5|      21,000|               9|                 0|\n",
            "+-----------+---+------+-------------------+--------------+-----------+------+-----------+-------------+------------------+-----------+-------+------------+----------------+------------------+\n",
            "only showing top 20 rows\n",
            "\n"
          ]
        }
      ]
    },
    {
      "cell_type": "code",
      "source": [
        "txn_data.show()"
      ],
      "metadata": {
        "colab": {
          "base_uri": "https://localhost:8080/"
        },
        "id": "TxJYlLp5FuSh",
        "outputId": "98380975-f07a-4626-926f-11b314661958"
      },
      "execution_count": null,
      "outputs": [
        {
          "output_type": "stream",
          "name": "stdout",
          "text": [
            "+-------------+--------------------+----------+----------------+-------------+-----------+\n",
            "|   Account No| TRANSACTION DETAILS|VALUE DATE| WITHDRAWAL AMT | DEPOSIT AMT |BALANCE AMT|\n",
            "+-------------+--------------------+----------+----------------+-------------+-----------+\n",
            "|409000611074'|TRF FROM  Indiafo...| 29-Jun-17|            NULL|      1000000|    1000000|\n",
            "|409000611074'|TRF FROM  Indiafo...|  5-Jul-17|            NULL|      1000000|    2000000|\n",
            "|409000611074'|FDRL/INTERNAL FUN...| 18-Jul-17|            NULL|       500000|    2500000|\n",
            "|409000611074'|TRF FRM  Indiafor...|  1-Aug-17|            NULL|      3000000|    5500000|\n",
            "|409000611074'|FDRL/INTERNAL FUN...| 16-Aug-17|            NULL|       500000|    6000000|\n",
            "|409000611074'|FDRL/INTERNAL FUN...| 16-Aug-17|            NULL|       500000|    6500000|\n",
            "|409000611074'|FDRL/INTERNAL FUN...| 16-Aug-17|            NULL|       500000|    7000000|\n",
            "|409000611074'|FDRL/INTERNAL FUN...| 16-Aug-17|            NULL|       500000|    7500000|\n",
            "|409000611074'|FDRL/INTERNAL FUN...| 16-Aug-17|            NULL|       500000|    8000000|\n",
            "|409000611074'|FDRL/INTERNAL FUN...| 16-Aug-17|            NULL|       500000|    8500000|\n",
            "|409000611074'|INDO GIBL Indiafo...| 16-Aug-17|          133900|         NULL|    8366100|\n",
            "|409000611074'|INDO GIBL Indiafo...| 16-Aug-17|           18000|         NULL|    8348100|\n",
            "|409000611074'|INDO GIBL Indiafo...| 16-Aug-17|            5000|         NULL|    8343100|\n",
            "|409000611074'|INDO GIBL Indiafo...| 16-Aug-17|          195800|         NULL|    8147300|\n",
            "|409000611074'|INDO GIBL Indiafo...| 16-Aug-17|           81600|         NULL|    8065700|\n",
            "|409000611074'|INDO GIBL Indiafo...| 16-Aug-17|           41800|         NULL|    8023900|\n",
            "|409000611074'|INDO GIBL Indiafo...| 16-Aug-17|           98500|         NULL|    7925400|\n",
            "|409000611074'|INDO GIBL Indiafo...| 16-Aug-17|          143800|         NULL|    7781600|\n",
            "|409000611074'|INDO GIBL Indiafo...| 16-Aug-17|          331650|         NULL|    7449950|\n",
            "|409000611074'|INDO GIBL Indiafo...| 16-Aug-17|          129000|         NULL|    7320950|\n",
            "+-------------+--------------------+----------+----------------+-------------+-----------+\n",
            "only showing top 20 rows\n",
            "\n"
          ]
        }
      ]
    },
    {
      "cell_type": "markdown",
      "source": [
        "1. Basic Setup"
      ],
      "metadata": {
        "id": "G_5uDJlOGxOR"
      }
    },
    {
      "cell_type": "code",
      "source": [
        "# Registering DataFrames as temporary views\n",
        "credit_card_data.createOrReplaceTempView(\"credit_card\")\n",
        "loan_data.createOrReplaceTempView(\"loan\")\n",
        "txn_data.createOrReplaceTempView(\"transaction\")"
      ],
      "metadata": {
        "id": "P6JcscEMFwJe"
      },
      "execution_count": null,
      "outputs": []
    },
    {
      "cell_type": "markdown",
      "source": [
        "2. Joins"
      ],
      "metadata": {
        "id": "8kNUa6XDHJxI"
      }
    },
    {
      "cell_type": "markdown",
      "source": [
        "a) Inner Join\n",
        "Join credit_card_data with loan_data using CustomerId and Customer_ID as the key."
      ],
      "metadata": {
        "id": "QZYVj0DFHM4f"
      }
    },
    {
      "cell_type": "code",
      "source": [
        "inner_join = credit_card_data.join(loan_data, credit_card_data.CustomerId == loan_data.Customer_ID, \"inner\")\n",
        "inner_join.show()"
      ],
      "metadata": {
        "colab": {
          "base_uri": "https://localhost:8080/"
        },
        "id": "GdzhGP_RHRE4",
        "outputId": "eff1cbe9-b04c-4c8b-d23d-8a3f2a06ebbd"
      },
      "execution_count": null,
      "outputs": [
        {
          "output_type": "stream",
          "name": "stdout",
          "text": [
            "+---------+----------+-------+-----------+---------+------+---+------+-------+-------------+--------------+---------------+------+-----------+---+------+----------+--------------+-----------+------+-----------+-------------+-------------+-----------+-------+------------+----------------+------------------+\n",
            "|RowNumber|CustomerId|Surname|CreditScore|Geography|Gender|Age|Tenure|Balance|NumOfProducts|IsActiveMember|EstimatedSalary|Exited|Customer_ID|Age|Gender|Occupation|Marital Status|Family Size|Income|Expenditure|Use Frequency|Loan Category|Loan Amount|Overdue| Debt Record| Returned Cheque| Dishonour of Bill|\n",
            "+---------+----------+-------+-----------+---------+------+---+------+-------+-------------+--------------+---------------+------+-----------+---+------+----------+--------------+-----------+------+-----------+-------------+-------------+-----------+-------+------------+----------------+------------------+\n",
            "+---------+----------+-------+-----------+---------+------+---+------+-------+-------------+--------------+---------------+------+-----------+---+------+----------+--------------+-----------+------+-----------+-------------+-------------+-----------+-------+------------+----------------+------------------+\n",
            "\n"
          ]
        }
      ]
    },
    {
      "cell_type": "code",
      "source": [
        "query = \"\"\"\n",
        "SELECT *\n",
        "FROM credit_card c\n",
        "INNER JOIN loan l\n",
        "ON c.CustomerId = l.Customer_ID\n",
        "\"\"\"\n",
        "\n",
        "spark.sql(query).show()"
      ],
      "metadata": {
        "colab": {
          "base_uri": "https://localhost:8080/"
        },
        "id": "4FyxeRU0HUIH",
        "outputId": "6160a78c-2786-4730-d2f9-9b43c2580cd7"
      },
      "execution_count": null,
      "outputs": [
        {
          "output_type": "stream",
          "name": "stdout",
          "text": [
            "+---------+----------+-------+-----------+---------+------+---+------+-------+-------------+--------------+---------------+------+-----------+---+------+----------+--------------+-----------+------+-----------+-------------+-------------+-----------+-------+------------+----------------+------------------+\n",
            "|RowNumber|CustomerId|Surname|CreditScore|Geography|Gender|Age|Tenure|Balance|NumOfProducts|IsActiveMember|EstimatedSalary|Exited|Customer_ID|Age|Gender|Occupation|Marital Status|Family Size|Income|Expenditure|Use Frequency|Loan Category|Loan Amount|Overdue| Debt Record| Returned Cheque| Dishonour of Bill|\n",
            "+---------+----------+-------+-----------+---------+------+---+------+-------+-------------+--------------+---------------+------+-----------+---+------+----------+--------------+-----------+------+-----------+-------------+-------------+-----------+-------+------------+----------------+------------------+\n",
            "+---------+----------+-------+-----------+---------+------+---+------+-------+-------------+--------------+---------------+------+-----------+---+------+----------+--------------+-----------+------+-----------+-------------+-------------+-----------+-------+------------+----------------+------------------+\n",
            "\n"
          ]
        }
      ]
    },
    {
      "cell_type": "markdown",
      "source": [
        "b) Left Join\n",
        "Perform a left join between credit_card_data and loan_data."
      ],
      "metadata": {
        "id": "HzIaBHYBHwxw"
      }
    },
    {
      "cell_type": "code",
      "source": [
        "left_join = credit_card_data.join(loan_data, credit_card_data.CustomerId == loan_data.Customer_ID, \"left\")\n",
        "left_join.show()"
      ],
      "metadata": {
        "colab": {
          "base_uri": "https://localhost:8080/"
        },
        "id": "wAgN2FotHyp_",
        "outputId": "14d86f69-07a8-448c-9193-9e5b9982bd2c"
      },
      "execution_count": null,
      "outputs": [
        {
          "output_type": "stream",
          "name": "stdout",
          "text": [
            "+---------+----------+---------+-----------+---------+------+---+------+---------+-------------+--------------+---------------+------+-----------+----+------+----------+--------------+-----------+------+-----------+-------------+-------------+-----------+-------+------------+----------------+------------------+\n",
            "|RowNumber|CustomerId|  Surname|CreditScore|Geography|Gender|Age|Tenure|  Balance|NumOfProducts|IsActiveMember|EstimatedSalary|Exited|Customer_ID| Age|Gender|Occupation|Marital Status|Family Size|Income|Expenditure|Use Frequency|Loan Category|Loan Amount|Overdue| Debt Record| Returned Cheque| Dishonour of Bill|\n",
            "+---------+----------+---------+-----------+---------+------+---+------+---------+-------------+--------------+---------------+------+-----------+----+------+----------+--------------+-----------+------+-----------+-------------+-------------+-----------+-------+------------+----------------+------------------+\n",
            "|        1|  15634602| Hargrave|        619|   France|Female| 42|     2|        0|            1|             1|      101348.88|     1|       NULL|NULL|  NULL|      NULL|          NULL|       NULL|  NULL|       NULL|         NULL|         NULL|       NULL|   NULL|        NULL|            NULL|              NULL|\n",
            "|        2|  15647311|     Hill|        608|    Spain|Female| 41|     1| 83807.86|            1|             1|      112542.58|     0|       NULL|NULL|  NULL|      NULL|          NULL|       NULL|  NULL|       NULL|         NULL|         NULL|       NULL|   NULL|        NULL|            NULL|              NULL|\n",
            "|        3|  15619304|     Onio|        502|   France|Female| 42|     8| 159660.8|            3|             0|      113931.57|     1|       NULL|NULL|  NULL|      NULL|          NULL|       NULL|  NULL|       NULL|         NULL|         NULL|       NULL|   NULL|        NULL|            NULL|              NULL|\n",
            "|        4|  15701354|     Boni|        699|   France|Female| 39|     1|        0|            2|             0|       93826.63|     0|       NULL|NULL|  NULL|      NULL|          NULL|       NULL|  NULL|       NULL|         NULL|         NULL|       NULL|   NULL|        NULL|            NULL|              NULL|\n",
            "|        5|  15737888| Mitchell|        850|    Spain|Female| 43|     2|125510.82|            1|             1|        79084.1|     0|       NULL|NULL|  NULL|      NULL|          NULL|       NULL|  NULL|       NULL|         NULL|         NULL|       NULL|   NULL|        NULL|            NULL|              NULL|\n",
            "|        6|  15574012|      Chu|        645|    Spain|  Male| 44|     8|113755.78|            2|             0|      149756.71|     1|       NULL|NULL|  NULL|      NULL|          NULL|       NULL|  NULL|       NULL|         NULL|         NULL|       NULL|   NULL|        NULL|            NULL|              NULL|\n",
            "|        7|  15592531| Bartlett|        822|   France|  Male| 50|     7|        0|            2|             1|        10062.8|     0|       NULL|NULL|  NULL|      NULL|          NULL|       NULL|  NULL|       NULL|         NULL|         NULL|       NULL|   NULL|        NULL|            NULL|              NULL|\n",
            "|        8|  15656148|   Obinna|        376|  Germany|Female| 29|     4|115046.74|            4|             0|      119346.88|     1|       NULL|NULL|  NULL|      NULL|          NULL|       NULL|  NULL|       NULL|         NULL|         NULL|       NULL|   NULL|        NULL|            NULL|              NULL|\n",
            "|        9|  15792365|       He|        501|   France|  Male| 44|     4|142051.07|            2|             1|        74940.5|     0|       NULL|NULL|  NULL|      NULL|          NULL|       NULL|  NULL|       NULL|         NULL|         NULL|       NULL|   NULL|        NULL|            NULL|              NULL|\n",
            "|       10|  15592389|       H?|        684|   France|  Male| 27|     2|134603.88|            1|             1|       71725.73|     0|       NULL|NULL|  NULL|      NULL|          NULL|       NULL|  NULL|       NULL|         NULL|         NULL|       NULL|   NULL|        NULL|            NULL|              NULL|\n",
            "|       11|  15767821|   Bearce|        528|   France|  Male| 31|     6|102016.72|            2|             0|       80181.12|     0|       NULL|NULL|  NULL|      NULL|          NULL|       NULL|  NULL|       NULL|         NULL|         NULL|       NULL|   NULL|        NULL|            NULL|              NULL|\n",
            "|       12|  15737173|  Andrews|        497|    Spain|  Male| 24|     3|        0|            2|             0|       76390.01|     0|       NULL|NULL|  NULL|      NULL|          NULL|       NULL|  NULL|       NULL|         NULL|         NULL|       NULL|   NULL|        NULL|            NULL|              NULL|\n",
            "|       13|  15632264|      Kay|        476|   France|Female| 34|    10|        0|            2|             0|       26260.98|     0|       NULL|NULL|  NULL|      NULL|          NULL|       NULL|  NULL|       NULL|         NULL|         NULL|       NULL|   NULL|        NULL|            NULL|              NULL|\n",
            "|       14|  15691483|     Chin|        549|   France|Female| 25|     5|        0|            2|             0|      190857.79|     0|       NULL|NULL|  NULL|      NULL|          NULL|       NULL|  NULL|       NULL|         NULL|         NULL|       NULL|   NULL|        NULL|            NULL|              NULL|\n",
            "|       15|  15600882|    Scott|        635|    Spain|Female| 35|     7|        0|            2|             1|       65951.65|     0|       NULL|NULL|  NULL|      NULL|          NULL|       NULL|  NULL|       NULL|         NULL|         NULL|       NULL|   NULL|        NULL|            NULL|              NULL|\n",
            "|       16|  15643966|  Goforth|        616|  Germany|  Male| 45|     3|143129.41|            2|             1|       64327.26|     0|       NULL|NULL|  NULL|      NULL|          NULL|       NULL|  NULL|       NULL|         NULL|         NULL|       NULL|   NULL|        NULL|            NULL|              NULL|\n",
            "|       17|  15737452|    Romeo|        653|  Germany|  Male| 58|     1|132602.88|            1|             0|        5097.67|     1|       NULL|NULL|  NULL|      NULL|          NULL|       NULL|  NULL|       NULL|         NULL|         NULL|       NULL|   NULL|        NULL|            NULL|              NULL|\n",
            "|       18|  15788218|Henderson|        549|    Spain|Female| 24|     9|        0|            2|             1|       14406.41|     0|       NULL|NULL|  NULL|      NULL|          NULL|       NULL|  NULL|       NULL|         NULL|         NULL|       NULL|   NULL|        NULL|            NULL|              NULL|\n",
            "|       19|  15661507|  Muldrow|        587|    Spain|  Male| 45|     6|        0|            1|             0|      158684.81|     0|       NULL|NULL|  NULL|      NULL|          NULL|       NULL|  NULL|       NULL|         NULL|         NULL|       NULL|   NULL|        NULL|            NULL|              NULL|\n",
            "|       20|  15568982|      Hao|        726|   France|Female| 24|     6|        0|            2|             1|       54724.03|     0|       NULL|NULL|  NULL|      NULL|          NULL|       NULL|  NULL|       NULL|         NULL|         NULL|       NULL|   NULL|        NULL|            NULL|              NULL|\n",
            "+---------+----------+---------+-----------+---------+------+---+------+---------+-------------+--------------+---------------+------+-----------+----+------+----------+--------------+-----------+------+-----------+-------------+-------------+-----------+-------+------------+----------------+------------------+\n",
            "only showing top 20 rows\n",
            "\n"
          ]
        }
      ]
    },
    {
      "cell_type": "code",
      "source": [
        "query = \"\"\"\n",
        "SELECT *\n",
        "FROM credit_card c\n",
        "LEFT JOIN loan l\n",
        "ON c.CustomerId = l.Customer_ID\n",
        "\"\"\"\n",
        "\n",
        "spark.sql(query).show()"
      ],
      "metadata": {
        "colab": {
          "base_uri": "https://localhost:8080/"
        },
        "id": "mgbv4k4QH2Xv",
        "outputId": "f1390822-b34d-49e1-9015-aa69e062fcfc"
      },
      "execution_count": null,
      "outputs": [
        {
          "output_type": "stream",
          "name": "stdout",
          "text": [
            "+---------+----------+---------+-----------+---------+------+---+------+---------+-------------+--------------+---------------+------+-----------+----+------+----------+--------------+-----------+------+-----------+-------------+-------------+-----------+-------+------------+----------------+------------------+\n",
            "|RowNumber|CustomerId|  Surname|CreditScore|Geography|Gender|Age|Tenure|  Balance|NumOfProducts|IsActiveMember|EstimatedSalary|Exited|Customer_ID| Age|Gender|Occupation|Marital Status|Family Size|Income|Expenditure|Use Frequency|Loan Category|Loan Amount|Overdue| Debt Record| Returned Cheque| Dishonour of Bill|\n",
            "+---------+----------+---------+-----------+---------+------+---+------+---------+-------------+--------------+---------------+------+-----------+----+------+----------+--------------+-----------+------+-----------+-------------+-------------+-----------+-------+------------+----------------+------------------+\n",
            "|        1|  15634602| Hargrave|        619|   France|Female| 42|     2|        0|            1|             1|      101348.88|     1|       NULL|NULL|  NULL|      NULL|          NULL|       NULL|  NULL|       NULL|         NULL|         NULL|       NULL|   NULL|        NULL|            NULL|              NULL|\n",
            "|        2|  15647311|     Hill|        608|    Spain|Female| 41|     1| 83807.86|            1|             1|      112542.58|     0|       NULL|NULL|  NULL|      NULL|          NULL|       NULL|  NULL|       NULL|         NULL|         NULL|       NULL|   NULL|        NULL|            NULL|              NULL|\n",
            "|        3|  15619304|     Onio|        502|   France|Female| 42|     8| 159660.8|            3|             0|      113931.57|     1|       NULL|NULL|  NULL|      NULL|          NULL|       NULL|  NULL|       NULL|         NULL|         NULL|       NULL|   NULL|        NULL|            NULL|              NULL|\n",
            "|        4|  15701354|     Boni|        699|   France|Female| 39|     1|        0|            2|             0|       93826.63|     0|       NULL|NULL|  NULL|      NULL|          NULL|       NULL|  NULL|       NULL|         NULL|         NULL|       NULL|   NULL|        NULL|            NULL|              NULL|\n",
            "|        5|  15737888| Mitchell|        850|    Spain|Female| 43|     2|125510.82|            1|             1|        79084.1|     0|       NULL|NULL|  NULL|      NULL|          NULL|       NULL|  NULL|       NULL|         NULL|         NULL|       NULL|   NULL|        NULL|            NULL|              NULL|\n",
            "|        6|  15574012|      Chu|        645|    Spain|  Male| 44|     8|113755.78|            2|             0|      149756.71|     1|       NULL|NULL|  NULL|      NULL|          NULL|       NULL|  NULL|       NULL|         NULL|         NULL|       NULL|   NULL|        NULL|            NULL|              NULL|\n",
            "|        7|  15592531| Bartlett|        822|   France|  Male| 50|     7|        0|            2|             1|        10062.8|     0|       NULL|NULL|  NULL|      NULL|          NULL|       NULL|  NULL|       NULL|         NULL|         NULL|       NULL|   NULL|        NULL|            NULL|              NULL|\n",
            "|        8|  15656148|   Obinna|        376|  Germany|Female| 29|     4|115046.74|            4|             0|      119346.88|     1|       NULL|NULL|  NULL|      NULL|          NULL|       NULL|  NULL|       NULL|         NULL|         NULL|       NULL|   NULL|        NULL|            NULL|              NULL|\n",
            "|        9|  15792365|       He|        501|   France|  Male| 44|     4|142051.07|            2|             1|        74940.5|     0|       NULL|NULL|  NULL|      NULL|          NULL|       NULL|  NULL|       NULL|         NULL|         NULL|       NULL|   NULL|        NULL|            NULL|              NULL|\n",
            "|       10|  15592389|       H?|        684|   France|  Male| 27|     2|134603.88|            1|             1|       71725.73|     0|       NULL|NULL|  NULL|      NULL|          NULL|       NULL|  NULL|       NULL|         NULL|         NULL|       NULL|   NULL|        NULL|            NULL|              NULL|\n",
            "|       11|  15767821|   Bearce|        528|   France|  Male| 31|     6|102016.72|            2|             0|       80181.12|     0|       NULL|NULL|  NULL|      NULL|          NULL|       NULL|  NULL|       NULL|         NULL|         NULL|       NULL|   NULL|        NULL|            NULL|              NULL|\n",
            "|       12|  15737173|  Andrews|        497|    Spain|  Male| 24|     3|        0|            2|             0|       76390.01|     0|       NULL|NULL|  NULL|      NULL|          NULL|       NULL|  NULL|       NULL|         NULL|         NULL|       NULL|   NULL|        NULL|            NULL|              NULL|\n",
            "|       13|  15632264|      Kay|        476|   France|Female| 34|    10|        0|            2|             0|       26260.98|     0|       NULL|NULL|  NULL|      NULL|          NULL|       NULL|  NULL|       NULL|         NULL|         NULL|       NULL|   NULL|        NULL|            NULL|              NULL|\n",
            "|       14|  15691483|     Chin|        549|   France|Female| 25|     5|        0|            2|             0|      190857.79|     0|       NULL|NULL|  NULL|      NULL|          NULL|       NULL|  NULL|       NULL|         NULL|         NULL|       NULL|   NULL|        NULL|            NULL|              NULL|\n",
            "|       15|  15600882|    Scott|        635|    Spain|Female| 35|     7|        0|            2|             1|       65951.65|     0|       NULL|NULL|  NULL|      NULL|          NULL|       NULL|  NULL|       NULL|         NULL|         NULL|       NULL|   NULL|        NULL|            NULL|              NULL|\n",
            "|       16|  15643966|  Goforth|        616|  Germany|  Male| 45|     3|143129.41|            2|             1|       64327.26|     0|       NULL|NULL|  NULL|      NULL|          NULL|       NULL|  NULL|       NULL|         NULL|         NULL|       NULL|   NULL|        NULL|            NULL|              NULL|\n",
            "|       17|  15737452|    Romeo|        653|  Germany|  Male| 58|     1|132602.88|            1|             0|        5097.67|     1|       NULL|NULL|  NULL|      NULL|          NULL|       NULL|  NULL|       NULL|         NULL|         NULL|       NULL|   NULL|        NULL|            NULL|              NULL|\n",
            "|       18|  15788218|Henderson|        549|    Spain|Female| 24|     9|        0|            2|             1|       14406.41|     0|       NULL|NULL|  NULL|      NULL|          NULL|       NULL|  NULL|       NULL|         NULL|         NULL|       NULL|   NULL|        NULL|            NULL|              NULL|\n",
            "|       19|  15661507|  Muldrow|        587|    Spain|  Male| 45|     6|        0|            1|             0|      158684.81|     0|       NULL|NULL|  NULL|      NULL|          NULL|       NULL|  NULL|       NULL|         NULL|         NULL|       NULL|   NULL|        NULL|            NULL|              NULL|\n",
            "|       20|  15568982|      Hao|        726|   France|Female| 24|     6|        0|            2|             1|       54724.03|     0|       NULL|NULL|  NULL|      NULL|          NULL|       NULL|  NULL|       NULL|         NULL|         NULL|       NULL|   NULL|        NULL|            NULL|              NULL|\n",
            "+---------+----------+---------+-----------+---------+------+---+------+---------+-------------+--------------+---------------+------+-----------+----+------+----------+--------------+-----------+------+-----------+-------------+-------------+-----------+-------+------------+----------------+------------------+\n",
            "only showing top 20 rows\n",
            "\n"
          ]
        }
      ]
    },
    {
      "cell_type": "markdown",
      "source": [
        "c) Right Join\n",
        "Perform a right join between credit_card_data and loan_data."
      ],
      "metadata": {
        "id": "1nAYV3EIH8J3"
      }
    },
    {
      "cell_type": "code",
      "source": [
        "right_join = credit_card_data.join(loan_data, credit_card_data.CustomerId == loan_data.Customer_ID, \"right\")\n",
        "right_join.show()"
      ],
      "metadata": {
        "colab": {
          "base_uri": "https://localhost:8080/"
        },
        "id": "AVu-r1w8H50X",
        "outputId": "52589416-0584-40a9-e5a2-1918945e69a4"
      },
      "execution_count": null,
      "outputs": [
        {
          "output_type": "stream",
          "name": "stdout",
          "text": [
            "+---------+----------+-------+-----------+---------+------+----+------+-------+-------------+--------------+---------------+------+-----------+---+------+-------------------+--------------+-----------+------+-----------+-------------+------------------+-----------+-------+------------+----------------+------------------+\n",
            "|RowNumber|CustomerId|Surname|CreditScore|Geography|Gender| Age|Tenure|Balance|NumOfProducts|IsActiveMember|EstimatedSalary|Exited|Customer_ID|Age|Gender|         Occupation|Marital Status|Family Size|Income|Expenditure|Use Frequency|     Loan Category|Loan Amount|Overdue| Debt Record| Returned Cheque| Dishonour of Bill|\n",
            "+---------+----------+-------+-----------+---------+------+----+------+-------+-------------+--------------+---------------+------+-----------+---+------+-------------------+--------------+-----------+------+-----------+-------------+------------------+-----------+-------+------------+----------------+------------------+\n",
            "|     NULL|      NULL|   NULL|       NULL|     NULL|  NULL|NULL|  NULL|   NULL|         NULL|          NULL|           NULL|  NULL|    IB14001| 30|  MALE|       BANK MANAGER|        SINGLE|          4| 50000|      22199|            6|           HOUSING| 10,00,000 |      5|      42,898|               6|                 9|\n",
            "|     NULL|      NULL|   NULL|       NULL|     NULL|  NULL|NULL|  NULL|   NULL|         NULL|          NULL|           NULL|  NULL|    IB14008| 44|  MALE|          PROFESSOR|       MARRIED|          6| 51000|      19999|            4|          SHOPPING|     50,000|      3|      33,999|               1|                 5|\n",
            "|     NULL|      NULL|   NULL|       NULL|     NULL|  NULL|NULL|  NULL|   NULL|         NULL|          NULL|           NULL|  NULL|    IB14012| 30|FEMALE|            DENTIST|        SINGLE|          3| 58450|      27675|            5|        TRAVELLING|     75,000|      6|      20,876|               3|                 1|\n",
            "|     NULL|      NULL|   NULL|       NULL|     NULL|  NULL|NULL|  NULL|   NULL|         NULL|          NULL|           NULL|  NULL|    IB14018| 29|  MALE|            TEACHER|       MARRIED|          5| 45767|      12787|            3|         GOLD LOAN|  6,00,000 |      7|      11,000|               0|                 4|\n",
            "|     NULL|      NULL|   NULL|       NULL|     NULL|  NULL|NULL|  NULL|   NULL|         NULL|          NULL|           NULL|  NULL|    IB14022| 34|  MALE|             POLICE|        SINGLE|          4| 43521|      11999|            3|        AUTOMOBILE|  2,00,000 |      2|      43,898|               1|                 2|\n",
            "|     NULL|      NULL|   NULL|       NULL|     NULL|  NULL|NULL|  NULL|   NULL|         NULL|          NULL|           NULL|  NULL|    IB14024| 55|FEMALE|              NURSE|       MARRIED|          6| 34999|      19888|            4|        AUTOMOBILE|     47,787|      1|      50,000|               0|                 3|\n",
            "|     NULL|      NULL|   NULL|       NULL|     NULL|  NULL|NULL|  NULL|   NULL|         NULL|          NULL|           NULL|  NULL|    IB14025| 39|FEMALE|            TEACHER|       MARRIED|          6| 46619|      18675|            4|           HOUSING| 12,09,867 |      8|      29,999|               6|                 8|\n",
            "|     NULL|      NULL|   NULL|       NULL|     NULL|  NULL|NULL|  NULL|   NULL|         NULL|          NULL|           NULL|  NULL|    IB14027| 51|  MALE|     SYSTEM MANAGER|       MARRIED|          3| 49999|      19111|            5|       RESTAURANTS|     60,676|      8|      13,000|               2|                 5|\n",
            "|     NULL|      NULL|   NULL|       NULL|     NULL|  NULL|NULL|  NULL|   NULL|         NULL|          NULL|           NULL|  NULL|    IB14029| 24|FEMALE|            TEACHER|        SINGLE|          3| 45008|      17454|            4|        AUTOMOBILE|  3,99,435 |      9|      51,987|               4|                 7|\n",
            "|     NULL|      NULL|   NULL|       NULL|     NULL|  NULL|NULL|  NULL|   NULL|         NULL|          NULL|           NULL|  NULL|    IB14031| 37|FEMALE|  SOFTWARE ENGINEER|       MARRIED|          5| 55999|      23999|            5|        AUTOMOBILE|     60,999|      2|           0|               5|                 3|\n",
            "|     NULL|      NULL|   NULL|       NULL|     NULL|  NULL|NULL|  NULL|   NULL|         NULL|          NULL|           NULL|  NULL|    IB14032| 24|  MALE|       DATA ANALYST|        SINGLE|          4| 60111|      28999|            6|        AUTOMOBILE|     35,232|      5|      33,333|               1|                 2|\n",
            "|     NULL|      NULL|   NULL|       NULL|     NULL|  NULL|NULL|  NULL|   NULL|         NULL|          NULL|           NULL|  NULL|    IB14034| 32|  MALE|   PRODUCT ENGINEER|       MARRIED|          6|  NULL|      29000|            7|COMPUTER SOFTWARES|     80,660|      6|       4,500|               5|                 4|\n",
            "|     NULL|      NULL|   NULL|       NULL|     NULL|  NULL|NULL|  NULL|   NULL|         NULL|          NULL|           NULL|  NULL|    IB14037| 54|FEMALE|            TEACHER|       MARRIED|          5| 48099|      19999|            4|       RESTAURANTS|     30,999|      1|      12,000|               7|                 5|\n",
            "|     NULL|      NULL|   NULL|       NULL|     NULL|  NULL|NULL|  NULL|   NULL|         NULL|          NULL|           NULL|  NULL|    IB14039| 45|  MALE|    ACCOUNT MANAGER|       MARRIED|          7| 45777|      18452|            4|         GOLD LOAN|  9,87,611 |      7|      39,999|               8|                 1|\n",
            "|     NULL|      NULL|   NULL|       NULL|     NULL|  NULL|NULL|  NULL|   NULL|         NULL|          NULL|           NULL|  NULL|    IB14041| 59|FEMALE|ASSISTANT PROFESSOR|       MARRIED|          4| 50999|      22999|            5|  EDUCATIONAL LOAN|  5,99,934 |      3|       9,000|               9|                 9|\n",
            "|     NULL|      NULL|   NULL|       NULL|     NULL|  NULL|NULL|  NULL|   NULL|         NULL|          NULL|           NULL|  NULL|    IB14042| 25|FEMALE|             DOCTOR|        SINGLE|          4| 60111|      27111|            5|        TRAVELLING| 12,90,929 |      4|      18,000|               1|                 0|\n",
            "|     NULL|      NULL|   NULL|       NULL|     NULL|  NULL|NULL|  NULL|   NULL|         NULL|          NULL|           NULL|  NULL|    IB14045| 31|  MALE|       STORE KEEPER|        SINGLE|          5| 40999|      11999|            3|       BOOK STORES|  1,67,654 |      1|       4,500|               0|                 1|\n",
            "|     NULL|      NULL|   NULL|       NULL|     NULL|  NULL|NULL|  NULL|   NULL|         NULL|          NULL|           NULL|  NULL|    IB14049| 49|  MALE|       BANK MANAGER|       MARRIED|          4| 45999|      14500|            4|        TRAVELLING|     79,999|      4|       6,700|               7|                 3|\n",
            "|     NULL|      NULL|   NULL|       NULL|     NULL|  NULL|NULL|  NULL|   NULL|         NULL|          NULL|           NULL|  NULL|    IB14050| 56|  MALE|     CIVIL ENGINEER|       MARRIED|          4|  NULL|      13999|            3|           HOUSING| 10,65,577 |      6|      19,999|               4|                 2|\n",
            "|     NULL|      NULL|   NULL|       NULL|     NULL|  NULL|NULL|  NULL|   NULL|         NULL|          NULL|           NULL|  NULL|    IB14054| 58|FEMALE|             DOCTOR|       MARRIED|          5| 60000|      25000|            5|           HOUSING|  9,00,000 |      5|      21,000|               9|                 0|\n",
            "+---------+----------+-------+-----------+---------+------+----+------+-------+-------------+--------------+---------------+------+-----------+---+------+-------------------+--------------+-----------+------+-----------+-------------+------------------+-----------+-------+------------+----------------+------------------+\n",
            "only showing top 20 rows\n",
            "\n"
          ]
        }
      ]
    },
    {
      "cell_type": "code",
      "source": [
        "query = \"\"\"\n",
        "SELECT *\n",
        "FROM credit_card c\n",
        "RIGHT JOIN loan l\n",
        "ON c.CustomerId = l.Customer_ID\n",
        "\"\"\"\n",
        "\n",
        "spark.sql(query).show()"
      ],
      "metadata": {
        "colab": {
          "base_uri": "https://localhost:8080/"
        },
        "id": "Ao0RkQIrIBwv",
        "outputId": "e4de4f6c-b4cc-4410-8885-e0a923ee3a65"
      },
      "execution_count": null,
      "outputs": [
        {
          "output_type": "stream",
          "name": "stdout",
          "text": [
            "+---------+----------+-------+-----------+---------+------+----+------+-------+-------------+--------------+---------------+------+-----------+---+------+-------------------+--------------+-----------+------+-----------+-------------+------------------+-----------+-------+------------+----------------+------------------+\n",
            "|RowNumber|CustomerId|Surname|CreditScore|Geography|Gender| Age|Tenure|Balance|NumOfProducts|IsActiveMember|EstimatedSalary|Exited|Customer_ID|Age|Gender|         Occupation|Marital Status|Family Size|Income|Expenditure|Use Frequency|     Loan Category|Loan Amount|Overdue| Debt Record| Returned Cheque| Dishonour of Bill|\n",
            "+---------+----------+-------+-----------+---------+------+----+------+-------+-------------+--------------+---------------+------+-----------+---+------+-------------------+--------------+-----------+------+-----------+-------------+------------------+-----------+-------+------------+----------------+------------------+\n",
            "|     NULL|      NULL|   NULL|       NULL|     NULL|  NULL|NULL|  NULL|   NULL|         NULL|          NULL|           NULL|  NULL|    IB14001| 30|  MALE|       BANK MANAGER|        SINGLE|          4| 50000|      22199|            6|           HOUSING| 10,00,000 |      5|      42,898|               6|                 9|\n",
            "|     NULL|      NULL|   NULL|       NULL|     NULL|  NULL|NULL|  NULL|   NULL|         NULL|          NULL|           NULL|  NULL|    IB14008| 44|  MALE|          PROFESSOR|       MARRIED|          6| 51000|      19999|            4|          SHOPPING|     50,000|      3|      33,999|               1|                 5|\n",
            "|     NULL|      NULL|   NULL|       NULL|     NULL|  NULL|NULL|  NULL|   NULL|         NULL|          NULL|           NULL|  NULL|    IB14012| 30|FEMALE|            DENTIST|        SINGLE|          3| 58450|      27675|            5|        TRAVELLING|     75,000|      6|      20,876|               3|                 1|\n",
            "|     NULL|      NULL|   NULL|       NULL|     NULL|  NULL|NULL|  NULL|   NULL|         NULL|          NULL|           NULL|  NULL|    IB14018| 29|  MALE|            TEACHER|       MARRIED|          5| 45767|      12787|            3|         GOLD LOAN|  6,00,000 |      7|      11,000|               0|                 4|\n",
            "|     NULL|      NULL|   NULL|       NULL|     NULL|  NULL|NULL|  NULL|   NULL|         NULL|          NULL|           NULL|  NULL|    IB14022| 34|  MALE|             POLICE|        SINGLE|          4| 43521|      11999|            3|        AUTOMOBILE|  2,00,000 |      2|      43,898|               1|                 2|\n",
            "|     NULL|      NULL|   NULL|       NULL|     NULL|  NULL|NULL|  NULL|   NULL|         NULL|          NULL|           NULL|  NULL|    IB14024| 55|FEMALE|              NURSE|       MARRIED|          6| 34999|      19888|            4|        AUTOMOBILE|     47,787|      1|      50,000|               0|                 3|\n",
            "|     NULL|      NULL|   NULL|       NULL|     NULL|  NULL|NULL|  NULL|   NULL|         NULL|          NULL|           NULL|  NULL|    IB14025| 39|FEMALE|            TEACHER|       MARRIED|          6| 46619|      18675|            4|           HOUSING| 12,09,867 |      8|      29,999|               6|                 8|\n",
            "|     NULL|      NULL|   NULL|       NULL|     NULL|  NULL|NULL|  NULL|   NULL|         NULL|          NULL|           NULL|  NULL|    IB14027| 51|  MALE|     SYSTEM MANAGER|       MARRIED|          3| 49999|      19111|            5|       RESTAURANTS|     60,676|      8|      13,000|               2|                 5|\n",
            "|     NULL|      NULL|   NULL|       NULL|     NULL|  NULL|NULL|  NULL|   NULL|         NULL|          NULL|           NULL|  NULL|    IB14029| 24|FEMALE|            TEACHER|        SINGLE|          3| 45008|      17454|            4|        AUTOMOBILE|  3,99,435 |      9|      51,987|               4|                 7|\n",
            "|     NULL|      NULL|   NULL|       NULL|     NULL|  NULL|NULL|  NULL|   NULL|         NULL|          NULL|           NULL|  NULL|    IB14031| 37|FEMALE|  SOFTWARE ENGINEER|       MARRIED|          5| 55999|      23999|            5|        AUTOMOBILE|     60,999|      2|           0|               5|                 3|\n",
            "|     NULL|      NULL|   NULL|       NULL|     NULL|  NULL|NULL|  NULL|   NULL|         NULL|          NULL|           NULL|  NULL|    IB14032| 24|  MALE|       DATA ANALYST|        SINGLE|          4| 60111|      28999|            6|        AUTOMOBILE|     35,232|      5|      33,333|               1|                 2|\n",
            "|     NULL|      NULL|   NULL|       NULL|     NULL|  NULL|NULL|  NULL|   NULL|         NULL|          NULL|           NULL|  NULL|    IB14034| 32|  MALE|   PRODUCT ENGINEER|       MARRIED|          6|  NULL|      29000|            7|COMPUTER SOFTWARES|     80,660|      6|       4,500|               5|                 4|\n",
            "|     NULL|      NULL|   NULL|       NULL|     NULL|  NULL|NULL|  NULL|   NULL|         NULL|          NULL|           NULL|  NULL|    IB14037| 54|FEMALE|            TEACHER|       MARRIED|          5| 48099|      19999|            4|       RESTAURANTS|     30,999|      1|      12,000|               7|                 5|\n",
            "|     NULL|      NULL|   NULL|       NULL|     NULL|  NULL|NULL|  NULL|   NULL|         NULL|          NULL|           NULL|  NULL|    IB14039| 45|  MALE|    ACCOUNT MANAGER|       MARRIED|          7| 45777|      18452|            4|         GOLD LOAN|  9,87,611 |      7|      39,999|               8|                 1|\n",
            "|     NULL|      NULL|   NULL|       NULL|     NULL|  NULL|NULL|  NULL|   NULL|         NULL|          NULL|           NULL|  NULL|    IB14041| 59|FEMALE|ASSISTANT PROFESSOR|       MARRIED|          4| 50999|      22999|            5|  EDUCATIONAL LOAN|  5,99,934 |      3|       9,000|               9|                 9|\n",
            "|     NULL|      NULL|   NULL|       NULL|     NULL|  NULL|NULL|  NULL|   NULL|         NULL|          NULL|           NULL|  NULL|    IB14042| 25|FEMALE|             DOCTOR|        SINGLE|          4| 60111|      27111|            5|        TRAVELLING| 12,90,929 |      4|      18,000|               1|                 0|\n",
            "|     NULL|      NULL|   NULL|       NULL|     NULL|  NULL|NULL|  NULL|   NULL|         NULL|          NULL|           NULL|  NULL|    IB14045| 31|  MALE|       STORE KEEPER|        SINGLE|          5| 40999|      11999|            3|       BOOK STORES|  1,67,654 |      1|       4,500|               0|                 1|\n",
            "|     NULL|      NULL|   NULL|       NULL|     NULL|  NULL|NULL|  NULL|   NULL|         NULL|          NULL|           NULL|  NULL|    IB14049| 49|  MALE|       BANK MANAGER|       MARRIED|          4| 45999|      14500|            4|        TRAVELLING|     79,999|      4|       6,700|               7|                 3|\n",
            "|     NULL|      NULL|   NULL|       NULL|     NULL|  NULL|NULL|  NULL|   NULL|         NULL|          NULL|           NULL|  NULL|    IB14050| 56|  MALE|     CIVIL ENGINEER|       MARRIED|          4|  NULL|      13999|            3|           HOUSING| 10,65,577 |      6|      19,999|               4|                 2|\n",
            "|     NULL|      NULL|   NULL|       NULL|     NULL|  NULL|NULL|  NULL|   NULL|         NULL|          NULL|           NULL|  NULL|    IB14054| 58|FEMALE|             DOCTOR|       MARRIED|          5| 60000|      25000|            5|           HOUSING|  9,00,000 |      5|      21,000|               9|                 0|\n",
            "+---------+----------+-------+-----------+---------+------+----+------+-------+-------------+--------------+---------------+------+-----------+---+------+-------------------+--------------+-----------+------+-----------+-------------+------------------+-----------+-------+------------+----------------+------------------+\n",
            "only showing top 20 rows\n",
            "\n"
          ]
        }
      ]
    },
    {
      "cell_type": "markdown",
      "source": [
        "d) Full Outer Join\n",
        "Perform a full outer join between credit_card_data and loan_data."
      ],
      "metadata": {
        "id": "vDDSgPAhIIJP"
      }
    },
    {
      "cell_type": "code",
      "source": [
        "full_outer_join = credit_card_data.join(loan_data, credit_card_data.CustomerId == loan_data.Customer_ID, \"outer\")\n",
        "full_outer_join.show()"
      ],
      "metadata": {
        "colab": {
          "base_uri": "https://localhost:8080/"
        },
        "id": "wqPahc2dIFNv",
        "outputId": "7b2c3c7f-7b3e-4fe7-8c5a-f99cf08179a5"
      },
      "execution_count": null,
      "outputs": [
        {
          "output_type": "stream",
          "name": "stdout",
          "text": [
            "+---------+----------+----------+-----------+---------+------+---+------+---------+-------------+--------------+---------------+------+-----------+----+------+----------+--------------+-----------+------+-----------+-------------+-------------+-----------+-------+------------+----------------+------------------+\n",
            "|RowNumber|CustomerId|   Surname|CreditScore|Geography|Gender|Age|Tenure|  Balance|NumOfProducts|IsActiveMember|EstimatedSalary|Exited|Customer_ID| Age|Gender|Occupation|Marital Status|Family Size|Income|Expenditure|Use Frequency|Loan Category|Loan Amount|Overdue| Debt Record| Returned Cheque| Dishonour of Bill|\n",
            "+---------+----------+----------+-----------+---------+------+---+------+---------+-------------+--------------+---------------+------+-----------+----+------+----------+--------------+-----------+------+-----------+-------------+-------------+-----------+-------+------------+----------------+------------------+\n",
            "|     1288|  15565701|     Ferri|        698|    Spain|Female| 39|     9|161993.89|            1|             0|       90212.38|     0|       NULL|NULL|  NULL|      NULL|          NULL|       NULL|  NULL|       NULL|         NULL|         NULL|       NULL|   NULL|        NULL|            NULL|              NULL|\n",
            "|     4199|  15565706|  Akobundu|        612|    Spain|  Male| 35|     1|        0|            1|             1|       83256.26|     1|       NULL|NULL|  NULL|      NULL|          NULL|       NULL|  NULL|       NULL|         NULL|         NULL|       NULL|   NULL|        NULL|            NULL|              NULL|\n",
            "|     7091|  15565714|  Cattaneo|        601|   France|  Male| 47|     1| 64430.06|            2|             1|       96517.97|     0|       NULL|NULL|  NULL|      NULL|          NULL|       NULL|  NULL|       NULL|         NULL|         NULL|       NULL|   NULL|        NULL|            NULL|              NULL|\n",
            "|     2021|  15565779|      Kent|        627|  Germany|Female| 30|     6| 57809.32|            1|             0|      188258.49|     0|       NULL|NULL|  NULL|      NULL|          NULL|       NULL|  NULL|       NULL|         NULL|         NULL|       NULL|   NULL|        NULL|            NULL|              NULL|\n",
            "|     3698|  15565796|  Docherty|        745|  Germany|  Male| 48|    10| 96048.55|            1|             0|       74510.65|     0|       NULL|NULL|  NULL|      NULL|          NULL|       NULL|  NULL|       NULL|         NULL|         NULL|       NULL|   NULL|        NULL|            NULL|              NULL|\n",
            "|     3417|  15565806|    Toosey|        532|   France|  Male| 38|     9|        0|            2|             0|       30583.95|     0|       NULL|NULL|  NULL|      NULL|          NULL|       NULL|  NULL|       NULL|         NULL|         NULL|       NULL|   NULL|        NULL|            NULL|              NULL|\n",
            "|     6882|  15565878|     Bates|        631|    Spain|  Male| 29|     3|        0|            2|             1|      197963.46|     0|       NULL|NULL|  NULL|      NULL|          NULL|       NULL|  NULL|       NULL|         NULL|         NULL|       NULL|   NULL|        NULL|            NULL|              NULL|\n",
            "|     9515|  15565879|     Riley|        845|   France|Female| 28|     9|        0|            2|             1|       56185.98|     0|       NULL|NULL|  NULL|      NULL|          NULL|       NULL|  NULL|       NULL|         NULL|         NULL|       NULL|   NULL|        NULL|            NULL|              NULL|\n",
            "|     5796|  15565891|  Dipietro|        709|   France|  Male| 39|     8|        0|            2|             0|       56214.09|     0|       NULL|NULL|  NULL|      NULL|          NULL|       NULL|  NULL|       NULL|         NULL|         NULL|       NULL|   NULL|        NULL|            NULL|              NULL|\n",
            "|     7187|  15565996|    Arnold|        653|   France|  Male| 44|     8|        0|            2|             1|      154639.72|     0|       NULL|NULL|  NULL|      NULL|          NULL|       NULL|  NULL|       NULL|         NULL|         NULL|       NULL|   NULL|        NULL|            NULL|              NULL|\n",
            "|     6476|  15566030|        Tu|        497|  Germany|  Male| 41|     5| 80542.81|            1|             0|       88729.22|     1|       NULL|NULL|  NULL|      NULL|          NULL|       NULL|  NULL|       NULL|         NULL|         NULL|       NULL|   NULL|        NULL|            NULL|              NULL|\n",
            "|      913|  15566091|   Thomsen|        545|    Spain|Female| 32|     4|        0|            1|             0|        94739.2|     0|       NULL|NULL|  NULL|      NULL|          NULL|       NULL|  NULL|       NULL|         NULL|         NULL|       NULL|   NULL|        NULL|            NULL|              NULL|\n",
            "|      425|  15566111|     Estes|        596|   France|  Male| 39|     9|        0|            1|             0|       48963.59|     0|       NULL|NULL|  NULL|      NULL|          NULL|       NULL|  NULL|       NULL|         NULL|         NULL|       NULL|   NULL|        NULL|            NULL|              NULL|\n",
            "|     9632|  15566139|     Ts'ui|        526|   France|Female| 37|     5| 53573.18|            1|             0|       62830.97|     0|       NULL|NULL|  NULL|      NULL|          NULL|       NULL|  NULL|       NULL|         NULL|         NULL|       NULL|   NULL|        NULL|            NULL|              NULL|\n",
            "|      982|  15566156|  Franklin|        749|  Germany|Female| 44|     0| 71497.79|            2|             0|       151083.8|     0|       NULL|NULL|  NULL|      NULL|          NULL|       NULL|  NULL|       NULL|         NULL|         NULL|       NULL|   NULL|        NULL|            NULL|              NULL|\n",
            "|     1463|  15566211|       Hsu|        616|  Germany|Female| 41|     1|103560.57|            1|             0|         236.45|     1|       NULL|NULL|  NULL|      NULL|          NULL|       NULL|  NULL|       NULL|         NULL|         NULL|       NULL|   NULL|        NULL|            NULL|              NULL|\n",
            "|     1141|  15566251|   Ferrari|        618|   France|Female| 37|     5| 96652.86|            1|             0|        98686.4|     1|       NULL|NULL|  NULL|      NULL|          NULL|       NULL|  NULL|       NULL|         NULL|         NULL|       NULL|   NULL|        NULL|            NULL|              NULL|\n",
            "|     5425|  15566253|   Manning|        580|  Germany|  Male| 44|     9|143391.07|            1|             0|      146891.07|     1|       NULL|NULL|  NULL|      NULL|          NULL|       NULL|  NULL|       NULL|         NULL|         NULL|       NULL|   NULL|        NULL|            NULL|              NULL|\n",
            "|     5345|  15566269|  Chialuka|        787|   France|  Male| 25|     5|        0|            2|             0|        47307.9|     0|       NULL|NULL|  NULL|      NULL|          NULL|       NULL|  NULL|       NULL|         NULL|         NULL|       NULL|   NULL|        NULL|            NULL|              NULL|\n",
            "|      704|  15566292|Okwuadigbo|        574|    Spain|  Male| 36|     1|        0|            2|             1|       71709.12|     0|       NULL|NULL|  NULL|      NULL|          NULL|       NULL|  NULL|       NULL|         NULL|         NULL|       NULL|   NULL|        NULL|            NULL|              NULL|\n",
            "+---------+----------+----------+-----------+---------+------+---+------+---------+-------------+--------------+---------------+------+-----------+----+------+----------+--------------+-----------+------+-----------+-------------+-------------+-----------+-------+------------+----------------+------------------+\n",
            "only showing top 20 rows\n",
            "\n"
          ]
        }
      ]
    },
    {
      "cell_type": "code",
      "source": [
        "query = \"\"\"\n",
        "SELECT *\n",
        "FROM credit_card c\n",
        "FULL OUTER JOIN loan l\n",
        "ON c.CustomerId = l.Customer_ID\n",
        "\"\"\"\n",
        "\n",
        "spark.sql(query).show()"
      ],
      "metadata": {
        "colab": {
          "base_uri": "https://localhost:8080/"
        },
        "id": "YQY1yQ4pIMiv",
        "outputId": "32d15c61-c1d8-4aff-8f77-cf760b7e1149"
      },
      "execution_count": null,
      "outputs": [
        {
          "output_type": "stream",
          "name": "stdout",
          "text": [
            "+---------+----------+----------+-----------+---------+------+---+------+---------+-------------+--------------+---------------+------+-----------+----+------+----------+--------------+-----------+------+-----------+-------------+-------------+-----------+-------+------------+----------------+------------------+\n",
            "|RowNumber|CustomerId|   Surname|CreditScore|Geography|Gender|Age|Tenure|  Balance|NumOfProducts|IsActiveMember|EstimatedSalary|Exited|Customer_ID| Age|Gender|Occupation|Marital Status|Family Size|Income|Expenditure|Use Frequency|Loan Category|Loan Amount|Overdue| Debt Record| Returned Cheque| Dishonour of Bill|\n",
            "+---------+----------+----------+-----------+---------+------+---+------+---------+-------------+--------------+---------------+------+-----------+----+------+----------+--------------+-----------+------+-----------+-------------+-------------+-----------+-------+------------+----------------+------------------+\n",
            "|     1288|  15565701|     Ferri|        698|    Spain|Female| 39|     9|161993.89|            1|             0|       90212.38|     0|       NULL|NULL|  NULL|      NULL|          NULL|       NULL|  NULL|       NULL|         NULL|         NULL|       NULL|   NULL|        NULL|            NULL|              NULL|\n",
            "|     4199|  15565706|  Akobundu|        612|    Spain|  Male| 35|     1|        0|            1|             1|       83256.26|     1|       NULL|NULL|  NULL|      NULL|          NULL|       NULL|  NULL|       NULL|         NULL|         NULL|       NULL|   NULL|        NULL|            NULL|              NULL|\n",
            "|     7091|  15565714|  Cattaneo|        601|   France|  Male| 47|     1| 64430.06|            2|             1|       96517.97|     0|       NULL|NULL|  NULL|      NULL|          NULL|       NULL|  NULL|       NULL|         NULL|         NULL|       NULL|   NULL|        NULL|            NULL|              NULL|\n",
            "|     2021|  15565779|      Kent|        627|  Germany|Female| 30|     6| 57809.32|            1|             0|      188258.49|     0|       NULL|NULL|  NULL|      NULL|          NULL|       NULL|  NULL|       NULL|         NULL|         NULL|       NULL|   NULL|        NULL|            NULL|              NULL|\n",
            "|     3698|  15565796|  Docherty|        745|  Germany|  Male| 48|    10| 96048.55|            1|             0|       74510.65|     0|       NULL|NULL|  NULL|      NULL|          NULL|       NULL|  NULL|       NULL|         NULL|         NULL|       NULL|   NULL|        NULL|            NULL|              NULL|\n",
            "|     3417|  15565806|    Toosey|        532|   France|  Male| 38|     9|        0|            2|             0|       30583.95|     0|       NULL|NULL|  NULL|      NULL|          NULL|       NULL|  NULL|       NULL|         NULL|         NULL|       NULL|   NULL|        NULL|            NULL|              NULL|\n",
            "|     6882|  15565878|     Bates|        631|    Spain|  Male| 29|     3|        0|            2|             1|      197963.46|     0|       NULL|NULL|  NULL|      NULL|          NULL|       NULL|  NULL|       NULL|         NULL|         NULL|       NULL|   NULL|        NULL|            NULL|              NULL|\n",
            "|     9515|  15565879|     Riley|        845|   France|Female| 28|     9|        0|            2|             1|       56185.98|     0|       NULL|NULL|  NULL|      NULL|          NULL|       NULL|  NULL|       NULL|         NULL|         NULL|       NULL|   NULL|        NULL|            NULL|              NULL|\n",
            "|     5796|  15565891|  Dipietro|        709|   France|  Male| 39|     8|        0|            2|             0|       56214.09|     0|       NULL|NULL|  NULL|      NULL|          NULL|       NULL|  NULL|       NULL|         NULL|         NULL|       NULL|   NULL|        NULL|            NULL|              NULL|\n",
            "|     7187|  15565996|    Arnold|        653|   France|  Male| 44|     8|        0|            2|             1|      154639.72|     0|       NULL|NULL|  NULL|      NULL|          NULL|       NULL|  NULL|       NULL|         NULL|         NULL|       NULL|   NULL|        NULL|            NULL|              NULL|\n",
            "|     6476|  15566030|        Tu|        497|  Germany|  Male| 41|     5| 80542.81|            1|             0|       88729.22|     1|       NULL|NULL|  NULL|      NULL|          NULL|       NULL|  NULL|       NULL|         NULL|         NULL|       NULL|   NULL|        NULL|            NULL|              NULL|\n",
            "|      913|  15566091|   Thomsen|        545|    Spain|Female| 32|     4|        0|            1|             0|        94739.2|     0|       NULL|NULL|  NULL|      NULL|          NULL|       NULL|  NULL|       NULL|         NULL|         NULL|       NULL|   NULL|        NULL|            NULL|              NULL|\n",
            "|      425|  15566111|     Estes|        596|   France|  Male| 39|     9|        0|            1|             0|       48963.59|     0|       NULL|NULL|  NULL|      NULL|          NULL|       NULL|  NULL|       NULL|         NULL|         NULL|       NULL|   NULL|        NULL|            NULL|              NULL|\n",
            "|     9632|  15566139|     Ts'ui|        526|   France|Female| 37|     5| 53573.18|            1|             0|       62830.97|     0|       NULL|NULL|  NULL|      NULL|          NULL|       NULL|  NULL|       NULL|         NULL|         NULL|       NULL|   NULL|        NULL|            NULL|              NULL|\n",
            "|      982|  15566156|  Franklin|        749|  Germany|Female| 44|     0| 71497.79|            2|             0|       151083.8|     0|       NULL|NULL|  NULL|      NULL|          NULL|       NULL|  NULL|       NULL|         NULL|         NULL|       NULL|   NULL|        NULL|            NULL|              NULL|\n",
            "|     1463|  15566211|       Hsu|        616|  Germany|Female| 41|     1|103560.57|            1|             0|         236.45|     1|       NULL|NULL|  NULL|      NULL|          NULL|       NULL|  NULL|       NULL|         NULL|         NULL|       NULL|   NULL|        NULL|            NULL|              NULL|\n",
            "|     1141|  15566251|   Ferrari|        618|   France|Female| 37|     5| 96652.86|            1|             0|        98686.4|     1|       NULL|NULL|  NULL|      NULL|          NULL|       NULL|  NULL|       NULL|         NULL|         NULL|       NULL|   NULL|        NULL|            NULL|              NULL|\n",
            "|     5425|  15566253|   Manning|        580|  Germany|  Male| 44|     9|143391.07|            1|             0|      146891.07|     1|       NULL|NULL|  NULL|      NULL|          NULL|       NULL|  NULL|       NULL|         NULL|         NULL|       NULL|   NULL|        NULL|            NULL|              NULL|\n",
            "|     5345|  15566269|  Chialuka|        787|   France|  Male| 25|     5|        0|            2|             0|        47307.9|     0|       NULL|NULL|  NULL|      NULL|          NULL|       NULL|  NULL|       NULL|         NULL|         NULL|       NULL|   NULL|        NULL|            NULL|              NULL|\n",
            "|      704|  15566292|Okwuadigbo|        574|    Spain|  Male| 36|     1|        0|            2|             1|       71709.12|     0|       NULL|NULL|  NULL|      NULL|          NULL|       NULL|  NULL|       NULL|         NULL|         NULL|       NULL|   NULL|        NULL|            NULL|              NULL|\n",
            "+---------+----------+----------+-----------+---------+------+---+------+---------+-------------+--------------+---------------+------+-----------+----+------+----------+--------------+-----------+------+-----------+-------------+-------------+-----------+-------+------------+----------------+------------------+\n",
            "only showing top 20 rows\n",
            "\n"
          ]
        }
      ]
    },
    {
      "cell_type": "markdown",
      "source": [
        "e) Cross Join\n",
        "Perform a cross join between credit_card_data and loan_data."
      ],
      "metadata": {
        "id": "q_d7HssbISQX"
      }
    },
    {
      "cell_type": "code",
      "source": [
        "cross_join = credit_card_data.crossJoin(loan_data)\n",
        "cross_join.show()"
      ],
      "metadata": {
        "colab": {
          "base_uri": "https://localhost:8080/"
        },
        "id": "YcE0qQToIT4v",
        "outputId": "04593216-cf0a-46df-8bb2-ae8319ed05e0"
      },
      "execution_count": null,
      "outputs": [
        {
          "output_type": "stream",
          "name": "stdout",
          "text": [
            "+---------+----------+--------+-----------+---------+------+---+------+-------+-------------+--------------+---------------+------+-----------+---+------+-------------------+--------------+-----------+------+-----------+-------------+------------------+-----------+-------+------------+----------------+------------------+\n",
            "|RowNumber|CustomerId| Surname|CreditScore|Geography|Gender|Age|Tenure|Balance|NumOfProducts|IsActiveMember|EstimatedSalary|Exited|Customer_ID|Age|Gender|         Occupation|Marital Status|Family Size|Income|Expenditure|Use Frequency|     Loan Category|Loan Amount|Overdue| Debt Record| Returned Cheque| Dishonour of Bill|\n",
            "+---------+----------+--------+-----------+---------+------+---+------+-------+-------------+--------------+---------------+------+-----------+---+------+-------------------+--------------+-----------+------+-----------+-------------+------------------+-----------+-------+------------+----------------+------------------+\n",
            "|        1|  15634602|Hargrave|        619|   France|Female| 42|     2|      0|            1|             1|      101348.88|     1|    IB14001| 30|  MALE|       BANK MANAGER|        SINGLE|          4| 50000|      22199|            6|           HOUSING| 10,00,000 |      5|      42,898|               6|                 9|\n",
            "|        1|  15634602|Hargrave|        619|   France|Female| 42|     2|      0|            1|             1|      101348.88|     1|    IB14008| 44|  MALE|          PROFESSOR|       MARRIED|          6| 51000|      19999|            4|          SHOPPING|     50,000|      3|      33,999|               1|                 5|\n",
            "|        1|  15634602|Hargrave|        619|   France|Female| 42|     2|      0|            1|             1|      101348.88|     1|    IB14012| 30|FEMALE|            DENTIST|        SINGLE|          3| 58450|      27675|            5|        TRAVELLING|     75,000|      6|      20,876|               3|                 1|\n",
            "|        1|  15634602|Hargrave|        619|   France|Female| 42|     2|      0|            1|             1|      101348.88|     1|    IB14018| 29|  MALE|            TEACHER|       MARRIED|          5| 45767|      12787|            3|         GOLD LOAN|  6,00,000 |      7|      11,000|               0|                 4|\n",
            "|        1|  15634602|Hargrave|        619|   France|Female| 42|     2|      0|            1|             1|      101348.88|     1|    IB14022| 34|  MALE|             POLICE|        SINGLE|          4| 43521|      11999|            3|        AUTOMOBILE|  2,00,000 |      2|      43,898|               1|                 2|\n",
            "|        1|  15634602|Hargrave|        619|   France|Female| 42|     2|      0|            1|             1|      101348.88|     1|    IB14024| 55|FEMALE|              NURSE|       MARRIED|          6| 34999|      19888|            4|        AUTOMOBILE|     47,787|      1|      50,000|               0|                 3|\n",
            "|        1|  15634602|Hargrave|        619|   France|Female| 42|     2|      0|            1|             1|      101348.88|     1|    IB14025| 39|FEMALE|            TEACHER|       MARRIED|          6| 46619|      18675|            4|           HOUSING| 12,09,867 |      8|      29,999|               6|                 8|\n",
            "|        1|  15634602|Hargrave|        619|   France|Female| 42|     2|      0|            1|             1|      101348.88|     1|    IB14027| 51|  MALE|     SYSTEM MANAGER|       MARRIED|          3| 49999|      19111|            5|       RESTAURANTS|     60,676|      8|      13,000|               2|                 5|\n",
            "|        1|  15634602|Hargrave|        619|   France|Female| 42|     2|      0|            1|             1|      101348.88|     1|    IB14029| 24|FEMALE|            TEACHER|        SINGLE|          3| 45008|      17454|            4|        AUTOMOBILE|  3,99,435 |      9|      51,987|               4|                 7|\n",
            "|        1|  15634602|Hargrave|        619|   France|Female| 42|     2|      0|            1|             1|      101348.88|     1|    IB14031| 37|FEMALE|  SOFTWARE ENGINEER|       MARRIED|          5| 55999|      23999|            5|        AUTOMOBILE|     60,999|      2|           0|               5|                 3|\n",
            "|        1|  15634602|Hargrave|        619|   France|Female| 42|     2|      0|            1|             1|      101348.88|     1|    IB14032| 24|  MALE|       DATA ANALYST|        SINGLE|          4| 60111|      28999|            6|        AUTOMOBILE|     35,232|      5|      33,333|               1|                 2|\n",
            "|        1|  15634602|Hargrave|        619|   France|Female| 42|     2|      0|            1|             1|      101348.88|     1|    IB14034| 32|  MALE|   PRODUCT ENGINEER|       MARRIED|          6|  NULL|      29000|            7|COMPUTER SOFTWARES|     80,660|      6|       4,500|               5|                 4|\n",
            "|        1|  15634602|Hargrave|        619|   France|Female| 42|     2|      0|            1|             1|      101348.88|     1|    IB14037| 54|FEMALE|            TEACHER|       MARRIED|          5| 48099|      19999|            4|       RESTAURANTS|     30,999|      1|      12,000|               7|                 5|\n",
            "|        1|  15634602|Hargrave|        619|   France|Female| 42|     2|      0|            1|             1|      101348.88|     1|    IB14039| 45|  MALE|    ACCOUNT MANAGER|       MARRIED|          7| 45777|      18452|            4|         GOLD LOAN|  9,87,611 |      7|      39,999|               8|                 1|\n",
            "|        1|  15634602|Hargrave|        619|   France|Female| 42|     2|      0|            1|             1|      101348.88|     1|    IB14041| 59|FEMALE|ASSISTANT PROFESSOR|       MARRIED|          4| 50999|      22999|            5|  EDUCATIONAL LOAN|  5,99,934 |      3|       9,000|               9|                 9|\n",
            "|        1|  15634602|Hargrave|        619|   France|Female| 42|     2|      0|            1|             1|      101348.88|     1|    IB14042| 25|FEMALE|             DOCTOR|        SINGLE|          4| 60111|      27111|            5|        TRAVELLING| 12,90,929 |      4|      18,000|               1|                 0|\n",
            "|        1|  15634602|Hargrave|        619|   France|Female| 42|     2|      0|            1|             1|      101348.88|     1|    IB14045| 31|  MALE|       STORE KEEPER|        SINGLE|          5| 40999|      11999|            3|       BOOK STORES|  1,67,654 |      1|       4,500|               0|                 1|\n",
            "|        1|  15634602|Hargrave|        619|   France|Female| 42|     2|      0|            1|             1|      101348.88|     1|    IB14049| 49|  MALE|       BANK MANAGER|       MARRIED|          4| 45999|      14500|            4|        TRAVELLING|     79,999|      4|       6,700|               7|                 3|\n",
            "|        1|  15634602|Hargrave|        619|   France|Female| 42|     2|      0|            1|             1|      101348.88|     1|    IB14050| 56|  MALE|     CIVIL ENGINEER|       MARRIED|          4|  NULL|      13999|            3|           HOUSING| 10,65,577 |      6|      19,999|               4|                 2|\n",
            "|        1|  15634602|Hargrave|        619|   France|Female| 42|     2|      0|            1|             1|      101348.88|     1|    IB14054| 58|FEMALE|             DOCTOR|       MARRIED|          5| 60000|      25000|            5|           HOUSING|  9,00,000 |      5|      21,000|               9|                 0|\n",
            "+---------+----------+--------+-----------+---------+------+---+------+-------+-------------+--------------+---------------+------+-----------+---+------+-------------------+--------------+-----------+------+-----------+-------------+------------------+-----------+-------+------------+----------------+------------------+\n",
            "only showing top 20 rows\n",
            "\n"
          ]
        }
      ]
    },
    {
      "cell_type": "code",
      "source": [
        "query = \"\"\"\n",
        "SELECT *\n",
        "FROM credit_card c\n",
        "CROSS JOIN loan l\n",
        "\"\"\"\n",
        "\n",
        "spark.sql(query).show()"
      ],
      "metadata": {
        "colab": {
          "base_uri": "https://localhost:8080/"
        },
        "id": "Yt2PmRA8IYBX",
        "outputId": "e023fdf8-9ae1-409f-c6b1-ad623bee5fcc"
      },
      "execution_count": null,
      "outputs": [
        {
          "output_type": "stream",
          "name": "stdout",
          "text": [
            "+---------+----------+--------+-----------+---------+------+---+------+-------+-------------+--------------+---------------+------+-----------+---+------+-------------------+--------------+-----------+------+-----------+-------------+------------------+-----------+-------+------------+----------------+------------------+\n",
            "|RowNumber|CustomerId| Surname|CreditScore|Geography|Gender|Age|Tenure|Balance|NumOfProducts|IsActiveMember|EstimatedSalary|Exited|Customer_ID|Age|Gender|         Occupation|Marital Status|Family Size|Income|Expenditure|Use Frequency|     Loan Category|Loan Amount|Overdue| Debt Record| Returned Cheque| Dishonour of Bill|\n",
            "+---------+----------+--------+-----------+---------+------+---+------+-------+-------------+--------------+---------------+------+-----------+---+------+-------------------+--------------+-----------+------+-----------+-------------+------------------+-----------+-------+------------+----------------+------------------+\n",
            "|        1|  15634602|Hargrave|        619|   France|Female| 42|     2|      0|            1|             1|      101348.88|     1|    IB14001| 30|  MALE|       BANK MANAGER|        SINGLE|          4| 50000|      22199|            6|           HOUSING| 10,00,000 |      5|      42,898|               6|                 9|\n",
            "|        1|  15634602|Hargrave|        619|   France|Female| 42|     2|      0|            1|             1|      101348.88|     1|    IB14008| 44|  MALE|          PROFESSOR|       MARRIED|          6| 51000|      19999|            4|          SHOPPING|     50,000|      3|      33,999|               1|                 5|\n",
            "|        1|  15634602|Hargrave|        619|   France|Female| 42|     2|      0|            1|             1|      101348.88|     1|    IB14012| 30|FEMALE|            DENTIST|        SINGLE|          3| 58450|      27675|            5|        TRAVELLING|     75,000|      6|      20,876|               3|                 1|\n",
            "|        1|  15634602|Hargrave|        619|   France|Female| 42|     2|      0|            1|             1|      101348.88|     1|    IB14018| 29|  MALE|            TEACHER|       MARRIED|          5| 45767|      12787|            3|         GOLD LOAN|  6,00,000 |      7|      11,000|               0|                 4|\n",
            "|        1|  15634602|Hargrave|        619|   France|Female| 42|     2|      0|            1|             1|      101348.88|     1|    IB14022| 34|  MALE|             POLICE|        SINGLE|          4| 43521|      11999|            3|        AUTOMOBILE|  2,00,000 |      2|      43,898|               1|                 2|\n",
            "|        1|  15634602|Hargrave|        619|   France|Female| 42|     2|      0|            1|             1|      101348.88|     1|    IB14024| 55|FEMALE|              NURSE|       MARRIED|          6| 34999|      19888|            4|        AUTOMOBILE|     47,787|      1|      50,000|               0|                 3|\n",
            "|        1|  15634602|Hargrave|        619|   France|Female| 42|     2|      0|            1|             1|      101348.88|     1|    IB14025| 39|FEMALE|            TEACHER|       MARRIED|          6| 46619|      18675|            4|           HOUSING| 12,09,867 |      8|      29,999|               6|                 8|\n",
            "|        1|  15634602|Hargrave|        619|   France|Female| 42|     2|      0|            1|             1|      101348.88|     1|    IB14027| 51|  MALE|     SYSTEM MANAGER|       MARRIED|          3| 49999|      19111|            5|       RESTAURANTS|     60,676|      8|      13,000|               2|                 5|\n",
            "|        1|  15634602|Hargrave|        619|   France|Female| 42|     2|      0|            1|             1|      101348.88|     1|    IB14029| 24|FEMALE|            TEACHER|        SINGLE|          3| 45008|      17454|            4|        AUTOMOBILE|  3,99,435 |      9|      51,987|               4|                 7|\n",
            "|        1|  15634602|Hargrave|        619|   France|Female| 42|     2|      0|            1|             1|      101348.88|     1|    IB14031| 37|FEMALE|  SOFTWARE ENGINEER|       MARRIED|          5| 55999|      23999|            5|        AUTOMOBILE|     60,999|      2|           0|               5|                 3|\n",
            "|        1|  15634602|Hargrave|        619|   France|Female| 42|     2|      0|            1|             1|      101348.88|     1|    IB14032| 24|  MALE|       DATA ANALYST|        SINGLE|          4| 60111|      28999|            6|        AUTOMOBILE|     35,232|      5|      33,333|               1|                 2|\n",
            "|        1|  15634602|Hargrave|        619|   France|Female| 42|     2|      0|            1|             1|      101348.88|     1|    IB14034| 32|  MALE|   PRODUCT ENGINEER|       MARRIED|          6|  NULL|      29000|            7|COMPUTER SOFTWARES|     80,660|      6|       4,500|               5|                 4|\n",
            "|        1|  15634602|Hargrave|        619|   France|Female| 42|     2|      0|            1|             1|      101348.88|     1|    IB14037| 54|FEMALE|            TEACHER|       MARRIED|          5| 48099|      19999|            4|       RESTAURANTS|     30,999|      1|      12,000|               7|                 5|\n",
            "|        1|  15634602|Hargrave|        619|   France|Female| 42|     2|      0|            1|             1|      101348.88|     1|    IB14039| 45|  MALE|    ACCOUNT MANAGER|       MARRIED|          7| 45777|      18452|            4|         GOLD LOAN|  9,87,611 |      7|      39,999|               8|                 1|\n",
            "|        1|  15634602|Hargrave|        619|   France|Female| 42|     2|      0|            1|             1|      101348.88|     1|    IB14041| 59|FEMALE|ASSISTANT PROFESSOR|       MARRIED|          4| 50999|      22999|            5|  EDUCATIONAL LOAN|  5,99,934 |      3|       9,000|               9|                 9|\n",
            "|        1|  15634602|Hargrave|        619|   France|Female| 42|     2|      0|            1|             1|      101348.88|     1|    IB14042| 25|FEMALE|             DOCTOR|        SINGLE|          4| 60111|      27111|            5|        TRAVELLING| 12,90,929 |      4|      18,000|               1|                 0|\n",
            "|        1|  15634602|Hargrave|        619|   France|Female| 42|     2|      0|            1|             1|      101348.88|     1|    IB14045| 31|  MALE|       STORE KEEPER|        SINGLE|          5| 40999|      11999|            3|       BOOK STORES|  1,67,654 |      1|       4,500|               0|                 1|\n",
            "|        1|  15634602|Hargrave|        619|   France|Female| 42|     2|      0|            1|             1|      101348.88|     1|    IB14049| 49|  MALE|       BANK MANAGER|       MARRIED|          4| 45999|      14500|            4|        TRAVELLING|     79,999|      4|       6,700|               7|                 3|\n",
            "|        1|  15634602|Hargrave|        619|   France|Female| 42|     2|      0|            1|             1|      101348.88|     1|    IB14050| 56|  MALE|     CIVIL ENGINEER|       MARRIED|          4|  NULL|      13999|            3|           HOUSING| 10,65,577 |      6|      19,999|               4|                 2|\n",
            "|        1|  15634602|Hargrave|        619|   France|Female| 42|     2|      0|            1|             1|      101348.88|     1|    IB14054| 58|FEMALE|             DOCTOR|       MARRIED|          5| 60000|      25000|            5|           HOUSING|  9,00,000 |      5|      21,000|               9|                 0|\n",
            "+---------+----------+--------+-----------+---------+------+---+------+-------+-------------+--------------+---------------+------+-----------+---+------+-------------------+--------------+-----------+------+-----------+-------------+------------------+-----------+-------+------------+----------------+------------------+\n",
            "only showing top 20 rows\n",
            "\n"
          ]
        }
      ]
    },
    {
      "cell_type": "markdown",
      "source": [
        "3. Filters\n"
      ],
      "metadata": {
        "id": "oxBquLviIfKu"
      }
    },
    {
      "cell_type": "markdown",
      "source": [
        "Filter loan_data for customers with a Expenditure greater than 15,000"
      ],
      "metadata": {
        "id": "ybDk1YylP69J"
      }
    },
    {
      "source": [
        "filtered_loan = loan_data.filter(\n",
        "    (loan_data['Expenditure'] > 15000)\n",
        ")\n",
        "filtered_loan.show()"
      ],
      "cell_type": "code",
      "metadata": {
        "colab": {
          "base_uri": "https://localhost:8080/"
        },
        "id": "9rmcj3BfLJ0M",
        "outputId": "437405ed-8ff0-4785-fb6c-9a5b4a325252"
      },
      "execution_count": null,
      "outputs": [
        {
          "output_type": "stream",
          "name": "stdout",
          "text": [
            "+-----------+---+------+-------------------+--------------+-----------+------+-----------+-------------+------------------+-----------+-------+------------+----------------+------------------+\n",
            "|Customer_ID|Age|Gender|         Occupation|Marital Status|Family Size|Income|Expenditure|Use Frequency|     Loan Category|Loan Amount|Overdue| Debt Record| Returned Cheque| Dishonour of Bill|\n",
            "+-----------+---+------+-------------------+--------------+-----------+------+-----------+-------------+------------------+-----------+-------+------------+----------------+------------------+\n",
            "|    IB14001| 30|  MALE|       BANK MANAGER|        SINGLE|          4| 50000|      22199|            6|           HOUSING| 10,00,000 |      5|      42,898|               6|                 9|\n",
            "|    IB14008| 44|  MALE|          PROFESSOR|       MARRIED|          6| 51000|      19999|            4|          SHOPPING|     50,000|      3|      33,999|               1|                 5|\n",
            "|    IB14012| 30|FEMALE|            DENTIST|        SINGLE|          3| 58450|      27675|            5|        TRAVELLING|     75,000|      6|      20,876|               3|                 1|\n",
            "|    IB14024| 55|FEMALE|              NURSE|       MARRIED|          6| 34999|      19888|            4|        AUTOMOBILE|     47,787|      1|      50,000|               0|                 3|\n",
            "|    IB14025| 39|FEMALE|            TEACHER|       MARRIED|          6| 46619|      18675|            4|           HOUSING| 12,09,867 |      8|      29,999|               6|                 8|\n",
            "|    IB14027| 51|  MALE|     SYSTEM MANAGER|       MARRIED|          3| 49999|      19111|            5|       RESTAURANTS|     60,676|      8|      13,000|               2|                 5|\n",
            "|    IB14029| 24|FEMALE|            TEACHER|        SINGLE|          3| 45008|      17454|            4|        AUTOMOBILE|  3,99,435 |      9|      51,987|               4|                 7|\n",
            "|    IB14031| 37|FEMALE|  SOFTWARE ENGINEER|       MARRIED|          5| 55999|      23999|            5|        AUTOMOBILE|     60,999|      2|           0|               5|                 3|\n",
            "|    IB14032| 24|  MALE|       DATA ANALYST|        SINGLE|          4| 60111|      28999|            6|        AUTOMOBILE|     35,232|      5|      33,333|               1|                 2|\n",
            "|    IB14034| 32|  MALE|   PRODUCT ENGINEER|       MARRIED|          6|  NULL|      29000|            7|COMPUTER SOFTWARES|     80,660|      6|       4,500|               5|                 4|\n",
            "|    IB14037| 54|FEMALE|            TEACHER|       MARRIED|          5| 48099|      19999|            4|       RESTAURANTS|     30,999|      1|      12,000|               7|                 5|\n",
            "|    IB14039| 45|  MALE|    ACCOUNT MANAGER|       MARRIED|          7| 45777|      18452|            4|         GOLD LOAN|  9,87,611 |      7|      39,999|               8|                 1|\n",
            "|    IB14041| 59|FEMALE|ASSISTANT PROFESSOR|       MARRIED|          4| 50999|      22999|            5|  EDUCATIONAL LOAN|  5,99,934 |      3|       9,000|               9|                 9|\n",
            "|    IB14042| 25|FEMALE|             DOCTOR|        SINGLE|          4| 60111|      27111|            5|        TRAVELLING| 12,90,929 |      4|      18,000|               1|                 0|\n",
            "|    IB14054| 58|FEMALE|             DOCTOR|       MARRIED|          5| 60000|      25000|            5|           HOUSING|  9,00,000 |      5|      21,000|               9|                 0|\n",
            "|    IB14057| 25|  MALE|    AIRPORT OFFICER|        SINGLE|          4| 40000|      18888|            3|       RESTAURANTS|  4,00,000 |      8|      11,111|               1|                 7|\n",
            "|    IB14070| 40|  MALE|       PUBLIC WORKS|       MARRIED|          4| 38000|      20000|            3|         GOLD LOAN|  4,00,000 |      9|      19,954|               3|                 2|\n",
            "|    IB14078| 45|FEMALE|    FIRE DEPARTMENT|       MARRIED|          4| 40000|      18888|            4|        AUTOMOBILE|     70,000|      1|           0|               2|                 1|\n",
            "|    IB14082| 60|FEMALE|            TEACHER|       MARRIED|          5| 70000|      40000|            9|         GOLD LOAN|  2,57,789 |      4|      10,058|               4|                 3|\n",
            "|    IB14089| 25|  MALE|          PROFESSOR|        SINGLE|          5| 62145|      31254|            4|       BOOK STORES| 12,45,789 |      6|      48,596|               6|                 5|\n",
            "+-----------+---+------+-------------------+--------------+-----------+------+-----------+-------------+------------------+-----------+-------+------------+----------------+------------------+\n",
            "only showing top 20 rows\n",
            "\n"
          ]
        }
      ]
    },
    {
      "cell_type": "code",
      "source": [
        "query = \"\"\"\n",
        "SELECT *\n",
        "FROM loan\n",
        "WHERE Expenditure > 15000\n",
        "\"\"\"\n",
        "\n",
        "spark.sql(query).show()"
      ],
      "metadata": {
        "colab": {
          "base_uri": "https://localhost:8080/"
        },
        "id": "rciod2OqLtT8",
        "outputId": "ed38bd5c-ca09-4342-dcae-a46e76776e62"
      },
      "execution_count": null,
      "outputs": [
        {
          "output_type": "stream",
          "name": "stdout",
          "text": [
            "+-----------+---+------+-------------------+--------------+-----------+------+-----------+-------------+------------------+-----------+-------+------------+----------------+------------------+\n",
            "|Customer_ID|Age|Gender|         Occupation|Marital Status|Family Size|Income|Expenditure|Use Frequency|     Loan Category|Loan Amount|Overdue| Debt Record| Returned Cheque| Dishonour of Bill|\n",
            "+-----------+---+------+-------------------+--------------+-----------+------+-----------+-------------+------------------+-----------+-------+------------+----------------+------------------+\n",
            "|    IB14001| 30|  MALE|       BANK MANAGER|        SINGLE|          4| 50000|      22199|            6|           HOUSING| 10,00,000 |      5|      42,898|               6|                 9|\n",
            "|    IB14008| 44|  MALE|          PROFESSOR|       MARRIED|          6| 51000|      19999|            4|          SHOPPING|     50,000|      3|      33,999|               1|                 5|\n",
            "|    IB14012| 30|FEMALE|            DENTIST|        SINGLE|          3| 58450|      27675|            5|        TRAVELLING|     75,000|      6|      20,876|               3|                 1|\n",
            "|    IB14024| 55|FEMALE|              NURSE|       MARRIED|          6| 34999|      19888|            4|        AUTOMOBILE|     47,787|      1|      50,000|               0|                 3|\n",
            "|    IB14025| 39|FEMALE|            TEACHER|       MARRIED|          6| 46619|      18675|            4|           HOUSING| 12,09,867 |      8|      29,999|               6|                 8|\n",
            "|    IB14027| 51|  MALE|     SYSTEM MANAGER|       MARRIED|          3| 49999|      19111|            5|       RESTAURANTS|     60,676|      8|      13,000|               2|                 5|\n",
            "|    IB14029| 24|FEMALE|            TEACHER|        SINGLE|          3| 45008|      17454|            4|        AUTOMOBILE|  3,99,435 |      9|      51,987|               4|                 7|\n",
            "|    IB14031| 37|FEMALE|  SOFTWARE ENGINEER|       MARRIED|          5| 55999|      23999|            5|        AUTOMOBILE|     60,999|      2|           0|               5|                 3|\n",
            "|    IB14032| 24|  MALE|       DATA ANALYST|        SINGLE|          4| 60111|      28999|            6|        AUTOMOBILE|     35,232|      5|      33,333|               1|                 2|\n",
            "|    IB14034| 32|  MALE|   PRODUCT ENGINEER|       MARRIED|          6|  NULL|      29000|            7|COMPUTER SOFTWARES|     80,660|      6|       4,500|               5|                 4|\n",
            "|    IB14037| 54|FEMALE|            TEACHER|       MARRIED|          5| 48099|      19999|            4|       RESTAURANTS|     30,999|      1|      12,000|               7|                 5|\n",
            "|    IB14039| 45|  MALE|    ACCOUNT MANAGER|       MARRIED|          7| 45777|      18452|            4|         GOLD LOAN|  9,87,611 |      7|      39,999|               8|                 1|\n",
            "|    IB14041| 59|FEMALE|ASSISTANT PROFESSOR|       MARRIED|          4| 50999|      22999|            5|  EDUCATIONAL LOAN|  5,99,934 |      3|       9,000|               9|                 9|\n",
            "|    IB14042| 25|FEMALE|             DOCTOR|        SINGLE|          4| 60111|      27111|            5|        TRAVELLING| 12,90,929 |      4|      18,000|               1|                 0|\n",
            "|    IB14054| 58|FEMALE|             DOCTOR|       MARRIED|          5| 60000|      25000|            5|           HOUSING|  9,00,000 |      5|      21,000|               9|                 0|\n",
            "|    IB14057| 25|  MALE|    AIRPORT OFFICER|        SINGLE|          4| 40000|      18888|            3|       RESTAURANTS|  4,00,000 |      8|      11,111|               1|                 7|\n",
            "|    IB14070| 40|  MALE|       PUBLIC WORKS|       MARRIED|          4| 38000|      20000|            3|         GOLD LOAN|  4,00,000 |      9|      19,954|               3|                 2|\n",
            "|    IB14078| 45|FEMALE|    FIRE DEPARTMENT|       MARRIED|          4| 40000|      18888|            4|        AUTOMOBILE|     70,000|      1|           0|               2|                 1|\n",
            "|    IB14082| 60|FEMALE|            TEACHER|       MARRIED|          5| 70000|      40000|            9|         GOLD LOAN|  2,57,789 |      4|      10,058|               4|                 3|\n",
            "|    IB14089| 25|  MALE|          PROFESSOR|        SINGLE|          5| 62145|      31254|            4|       BOOK STORES| 12,45,789 |      6|      48,596|               6|                 5|\n",
            "+-----------+---+------+-------------------+--------------+-----------+------+-----------+-------------+------------------+-----------+-------+------------+----------------+------------------+\n",
            "only showing top 20 rows\n",
            "\n"
          ]
        }
      ]
    },
    {
      "cell_type": "markdown",
      "source": [
        "Filter Customers with Balance Greater than 5000 and Active Member"
      ],
      "metadata": {
        "id": "TbQoT-t6P9ph"
      }
    },
    {
      "cell_type": "code",
      "source": [
        "# Filter customers with Balance > 5000 and IsActiveMember = 1 (active member)\n",
        "filtered_data = credit_card_data.filter(\n",
        "    (credit_card_data['Balance'] > 5000) & (credit_card_data['IsActiveMember'] == 1)\n",
        ")\n",
        "filtered_data.show()"
      ],
      "metadata": {
        "colab": {
          "base_uri": "https://localhost:8080/"
        },
        "id": "0N20BhEnP_DB",
        "outputId": "e9897e57-71e1-45b2-ac79-3c0c75eb20e6"
      },
      "execution_count": null,
      "outputs": [
        {
          "output_type": "stream",
          "name": "stdout",
          "text": [
            "+---------+----------+-------------+-----------+---------+------+---+------+---------+-------------+--------------+---------------+------+\n",
            "|RowNumber|CustomerId|      Surname|CreditScore|Geography|Gender|Age|Tenure|  Balance|NumOfProducts|IsActiveMember|EstimatedSalary|Exited|\n",
            "+---------+----------+-------------+-----------+---------+------+---+------+---------+-------------+--------------+---------------+------+\n",
            "|        2|  15647311|         Hill|        608|    Spain|Female| 41|     1| 83807.86|            1|             1|      112542.58|     0|\n",
            "|        5|  15737888|     Mitchell|        850|    Spain|Female| 43|     2|125510.82|            1|             1|        79084.1|     0|\n",
            "|        9|  15792365|           He|        501|   France|  Male| 44|     4|142051.07|            2|             1|        74940.5|     0|\n",
            "|       10|  15592389|           H?|        684|   France|  Male| 27|     2|134603.88|            1|             1|       71725.73|     0|\n",
            "|       16|  15643966|      Goforth|        616|  Germany|  Male| 45|     3|143129.41|            2|             1|       64327.26|     0|\n",
            "|       27|  15736816|        Young|        756|  Germany|  Male| 36|     2|136815.64|            1|             1|      170041.95|     0|\n",
            "|       29|  15728693|   McWilliams|        574|  Germany|Female| 43|     3|141349.43|            1|             1|      100187.43|     0|\n",
            "|       30|  15656300|     Lucciano|        411|   France|  Male| 29|     0| 59697.17|            2|             1|       53483.21|     0|\n",
            "|       32|  15706552|Odinakachukwu|        533|   France|  Male| 36|     7|  85311.7|            1|             1|      156731.91|     0|\n",
            "|       37|  15788448|       Watson|        490|    Spain|  Male| 31|     3|145260.23|            1|             1|      114066.77|     0|\n",
            "|       38|  15729599|      Lorenzo|        804|    Spain|  Male| 33|     7|  76548.6|            1|             1|       98453.45|     0|\n",
            "|       40|  15585768|      Cameron|        582|  Germany|  Male| 41|     6| 70349.48|            2|             1|      178074.04|     0|\n",
            "|       43|  15687946|      Osborne|        556|   France|Female| 61|     2|117419.35|            1|             1|       94153.83|     0|\n",
            "|       45|  15684171|      Bianchi|        660|    Spain|Female| 61|     5|155931.11|            1|             1|      158338.39|     0|\n",
            "|       46|  15754849|        Tyler|        776|  Germany|Female| 32|     4|109421.13|            2|             1|      126517.46|     0|\n",
            "|       47|  15602280|       Martin|        829|  Germany|Female| 27|     9|112045.67|            1|             1|      119708.21|     1|\n",
            "|       48|  15771573|      Okagbue|        637|  Germany|Female| 39|     9| 137843.8|            1|             1|       117622.8|     1|\n",
            "|       49|  15766205|          Yin|        550|  Germany|  Male| 38|     2|103391.38|            1|             1|       90878.13|     0|\n",
            "|       56|  15760861|    Phillipps|        619|   France|  Male| 43|     1|125211.92|            1|             1|      113410.49|     0|\n",
            "|       60|  15804771|    Velazquez|        614|   France|  Male| 51|     4| 40685.92|            1|             1|       46775.28|     0|\n",
            "+---------+----------+-------------+-----------+---------+------+---+------+---------+-------------+--------------+---------------+------+\n",
            "only showing top 20 rows\n",
            "\n"
          ]
        }
      ]
    },
    {
      "cell_type": "code",
      "source": [
        "query = \"\"\"\n",
        "SELECT *\n",
        "FROM credit_card\n",
        "WHERE Balance > 5000 AND IsActiveMember = 1\n",
        "\"\"\"\n",
        "spark.sql(query).show()"
      ],
      "metadata": {
        "colab": {
          "base_uri": "https://localhost:8080/"
        },
        "id": "jhdoy9tPQBvp",
        "outputId": "84190012-f911-48d0-ba1d-96f6a137d39a"
      },
      "execution_count": null,
      "outputs": [
        {
          "output_type": "stream",
          "name": "stdout",
          "text": [
            "+---------+----------+-------------+-----------+---------+------+---+------+---------+-------------+--------------+---------------+------+\n",
            "|RowNumber|CustomerId|      Surname|CreditScore|Geography|Gender|Age|Tenure|  Balance|NumOfProducts|IsActiveMember|EstimatedSalary|Exited|\n",
            "+---------+----------+-------------+-----------+---------+------+---+------+---------+-------------+--------------+---------------+------+\n",
            "|        2|  15647311|         Hill|        608|    Spain|Female| 41|     1| 83807.86|            1|             1|      112542.58|     0|\n",
            "|        5|  15737888|     Mitchell|        850|    Spain|Female| 43|     2|125510.82|            1|             1|        79084.1|     0|\n",
            "|        9|  15792365|           He|        501|   France|  Male| 44|     4|142051.07|            2|             1|        74940.5|     0|\n",
            "|       10|  15592389|           H?|        684|   France|  Male| 27|     2|134603.88|            1|             1|       71725.73|     0|\n",
            "|       16|  15643966|      Goforth|        616|  Germany|  Male| 45|     3|143129.41|            2|             1|       64327.26|     0|\n",
            "|       27|  15736816|        Young|        756|  Germany|  Male| 36|     2|136815.64|            1|             1|      170041.95|     0|\n",
            "|       29|  15728693|   McWilliams|        574|  Germany|Female| 43|     3|141349.43|            1|             1|      100187.43|     0|\n",
            "|       30|  15656300|     Lucciano|        411|   France|  Male| 29|     0| 59697.17|            2|             1|       53483.21|     0|\n",
            "|       32|  15706552|Odinakachukwu|        533|   France|  Male| 36|     7|  85311.7|            1|             1|      156731.91|     0|\n",
            "|       37|  15788448|       Watson|        490|    Spain|  Male| 31|     3|145260.23|            1|             1|      114066.77|     0|\n",
            "|       38|  15729599|      Lorenzo|        804|    Spain|  Male| 33|     7|  76548.6|            1|             1|       98453.45|     0|\n",
            "|       40|  15585768|      Cameron|        582|  Germany|  Male| 41|     6| 70349.48|            2|             1|      178074.04|     0|\n",
            "|       43|  15687946|      Osborne|        556|   France|Female| 61|     2|117419.35|            1|             1|       94153.83|     0|\n",
            "|       45|  15684171|      Bianchi|        660|    Spain|Female| 61|     5|155931.11|            1|             1|      158338.39|     0|\n",
            "|       46|  15754849|        Tyler|        776|  Germany|Female| 32|     4|109421.13|            2|             1|      126517.46|     0|\n",
            "|       47|  15602280|       Martin|        829|  Germany|Female| 27|     9|112045.67|            1|             1|      119708.21|     1|\n",
            "|       48|  15771573|      Okagbue|        637|  Germany|Female| 39|     9| 137843.8|            1|             1|       117622.8|     1|\n",
            "|       49|  15766205|          Yin|        550|  Germany|  Male| 38|     2|103391.38|            1|             1|       90878.13|     0|\n",
            "|       56|  15760861|    Phillipps|        619|   France|  Male| 43|     1|125211.92|            1|             1|      113410.49|     0|\n",
            "|       60|  15804771|    Velazquez|        614|   France|  Male| 51|     4| 40685.92|            1|             1|       46775.28|     0|\n",
            "+---------+----------+-------------+-----------+---------+------+---+------+---------+-------------+--------------+---------------+------+\n",
            "only showing top 20 rows\n",
            "\n"
          ]
        }
      ]
    },
    {
      "cell_type": "markdown",
      "source": [
        "4. GroupBy and Aggregations\n",
        "Find the total loan amount and average income by loan category."
      ],
      "metadata": {
        "id": "4Sw4eEptJZa2"
      }
    },
    {
      "cell_type": "code",
      "source": [
        "grouped_loan = loan_data.groupBy(['Loan Category']).agg(\n",
        "    {'Loan Amount': \"sum\", \"Income\": \"avg\"}\n",
        ")\n",
        "grouped_loan.show()"
      ],
      "metadata": {
        "colab": {
          "base_uri": "https://localhost:8080/"
        },
        "id": "f-09TyZJJZ0u",
        "outputId": "e61bb95d-859d-4108-9a93-a6295df84f7a"
      },
      "execution_count": null,
      "outputs": [
        {
          "output_type": "stream",
          "name": "stdout",
          "text": [
            "+------------------+------------------+----------------+\n",
            "|     Loan Category|       avg(Income)|sum(Loan Amount)|\n",
            "+------------------+------------------+----------------+\n",
            "|           HOUSING| 74728.19354838709|            NULL|\n",
            "|        TRAVELLING| 57016.58490566038|            NULL|\n",
            "|       BOOK STORES|50903.142857142855|            NULL|\n",
            "|       AGRICULTURE|60372.666666666664|            NULL|\n",
            "|         GOLD LOAN| 70838.31506849315|            NULL|\n",
            "|  EDUCATIONAL LOAN| 62057.64705882353|            NULL|\n",
            "|        AUTOMOBILE| 68285.63157894737|            NULL|\n",
            "|          BUSINESS| 70246.54166666667|            NULL|\n",
            "|COMPUTER SOFTWARES|134376.66666666666|            NULL|\n",
            "|           DINNING| 67617.54545454546|            NULL|\n",
            "|          SHOPPING|       50466.34375|            NULL|\n",
            "|       RESTAURANTS|55228.794871794875|            NULL|\n",
            "|       ELECTRONICS| 54728.42857142857|            NULL|\n",
            "|          BUILDING| 69700.16666666667|            NULL|\n",
            "|        RESTAURANT|           64647.1|            NULL|\n",
            "|   HOME APPLIANCES| 58895.42857142857|            NULL|\n",
            "+------------------+------------------+----------------+\n",
            "\n"
          ]
        }
      ]
    },
    {
      "cell_type": "code",
      "source": [
        "query = \"\"\"\n",
        "    SELECT\n",
        "        `Loan Category`,\n",
        "        SUM(`Loan Amount`) AS Total_Loan_Amount,\n",
        "        AVG(`Income`) AS Average_Income\n",
        "    FROM loan\n",
        "    GROUP BY `Loan Category`\n",
        "\"\"\"\n",
        "\n",
        "spark.sql(query).show()"
      ],
      "metadata": {
        "colab": {
          "base_uri": "https://localhost:8080/"
        },
        "id": "xRaRObLKJtgO",
        "outputId": "8dc762c6-1e30-4fb1-f5d5-9910427f491d"
      },
      "execution_count": null,
      "outputs": [
        {
          "output_type": "stream",
          "name": "stdout",
          "text": [
            "+------------------+-----------------+------------------+\n",
            "|     Loan Category|Total_Loan_Amount|    Average_Income|\n",
            "+------------------+-----------------+------------------+\n",
            "|           HOUSING|             NULL| 74728.19354838709|\n",
            "|        TRAVELLING|             NULL| 57016.58490566038|\n",
            "|       BOOK STORES|             NULL|50903.142857142855|\n",
            "|       AGRICULTURE|             NULL|60372.666666666664|\n",
            "|         GOLD LOAN|             NULL| 70838.31506849315|\n",
            "|  EDUCATIONAL LOAN|             NULL| 62057.64705882353|\n",
            "|        AUTOMOBILE|             NULL| 68285.63157894737|\n",
            "|          BUSINESS|             NULL| 70246.54166666667|\n",
            "|COMPUTER SOFTWARES|             NULL|134376.66666666666|\n",
            "|           DINNING|             NULL| 67617.54545454546|\n",
            "|          SHOPPING|             NULL|       50466.34375|\n",
            "|       RESTAURANTS|             NULL|55228.794871794875|\n",
            "|       ELECTRONICS|             NULL| 54728.42857142857|\n",
            "|          BUILDING|             NULL| 69700.16666666667|\n",
            "|        RESTAURANT|             NULL|           64647.1|\n",
            "|   HOME APPLIANCES|             NULL| 58895.42857142857|\n",
            "+------------------+-----------------+------------------+\n",
            "\n"
          ]
        }
      ]
    },
    {
      "cell_type": "markdown",
      "source": [
        "Group by Marital Status, Calculating the Average Income and Maximum Loan Amount"
      ],
      "metadata": {
        "id": "11Xk6sl7Qml4"
      }
    },
    {
      "cell_type": "code",
      "source": [
        "grouped_loan = loan_data.groupBy('Marital Status').agg(\n",
        "    {'Income': 'avg', 'Loan Amount': 'max'}\n",
        ")\n",
        "grouped_loan.show()"
      ],
      "metadata": {
        "colab": {
          "base_uri": "https://localhost:8080/"
        },
        "id": "fsJoMnsHQm8w",
        "outputId": "8f055bdf-a92d-46eb-cb15-31102948c9fb"
      },
      "execution_count": null,
      "outputs": [
        {
          "output_type": "stream",
          "name": "stdout",
          "text": [
            "+--------------+-----------------+----------------+\n",
            "|Marital Status|      avg(Income)|max(Loan Amount)|\n",
            "+--------------+-----------------+----------------+\n",
            "|       MARRIED|71465.57846153846|         999,698|\n",
            "|        SINGLE|61234.74825174825|         964,109|\n",
            "+--------------+-----------------+----------------+\n",
            "\n"
          ]
        }
      ]
    },
    {
      "cell_type": "code",
      "source": [
        "query = \"\"\"\n",
        "SELECT `Marital Status`,\n",
        "       AVG(Income) AS Avg_Income,\n",
        "       MAX(`Loan Amount`) AS Max_Loan_Amount\n",
        "FROM loan\n",
        "GROUP BY `Marital Status`\n",
        "\"\"\"\n",
        "spark.sql(query).show()"
      ],
      "metadata": {
        "colab": {
          "base_uri": "https://localhost:8080/"
        },
        "id": "BWMG7AsfQpcf",
        "outputId": "6010c978-1719-406e-bd89-daec7ee51f68"
      },
      "execution_count": null,
      "outputs": [
        {
          "output_type": "stream",
          "name": "stdout",
          "text": [
            "+--------------+-----------------+---------------+\n",
            "|Marital Status|       Avg_Income|Max_Loan_Amount|\n",
            "+--------------+-----------------+---------------+\n",
            "|       MARRIED|71465.57846153846|        999,698|\n",
            "|        SINGLE|61234.74825174825|        964,109|\n",
            "+--------------+-----------------+---------------+\n",
            "\n"
          ]
        }
      ]
    }
  ]
}