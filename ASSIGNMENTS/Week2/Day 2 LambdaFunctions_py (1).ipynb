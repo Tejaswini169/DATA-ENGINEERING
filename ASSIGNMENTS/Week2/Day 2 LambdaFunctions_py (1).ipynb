{
  "nbformat": 4,
  "nbformat_minor": 0,
  "metadata": {
    "colab": {
      "provenance": []
    },
    "kernelspec": {
      "name": "python3",
      "display_name": "Python 3"
    },
    "language_info": {
      "name": "python"
    }
  },
  "cells": [
    {
      "cell_type": "markdown",
      "source": [
        "\n",
        "Name:Tejaswini Gokanakonda\n",
        "\n",
        "Roll no:DE142\n",
        "\n",
        "Date:12-11-2024 :"
      ],
      "metadata": {
        "id": "kdy6SIb0okq7"
      }
    },
    {
      "cell_type": "code",
      "execution_count": 1,
      "metadata": {
        "colab": {
          "base_uri": "https://localhost:8080/",
          "height": 0
        },
        "id": "41OmLKcokoqD",
        "outputId": "e3b99b4f-7c16-4f46-b6d3-e409a219a847"
      },
      "outputs": [
        {
          "output_type": "stream",
          "name": "stdout",
          "text": [
            "HEXFORHEXA\n"
          ]
        }
      ],
      "source": [
        "str1 = 'Hexforhexa'\n",
        "\n",
        "upper = lambda string: string.upper()\n",
        "print(upper(str1))"
      ]
    },
    {
      "cell_type": "markdown",
      "source": [],
      "metadata": {
        "id": "AHmw4HQSojes"
      }
    },
    {
      "cell_type": "code",
      "source": [
        "format_numeric = lambda num: f\"{num:e}\" if isinstance(num, int) else f\"{num:,.2f}\"\n",
        "\n",
        "print(\"Int formatting:\", format_numeric(1000000))\n",
        "print(\"float formatting:\", format_numeric(999999.789541235))"
      ],
      "metadata": {
        "colab": {
          "base_uri": "https://localhost:8080/",
          "height": 0
        },
        "id": "yd2w8brHlKKj",
        "outputId": "7cab465a-b582-4194-b480-c6bc45906076"
      },
      "execution_count": 2,
      "outputs": [
        {
          "output_type": "stream",
          "name": "stdout",
          "text": [
            "Int formatting: 1.000000e+06\n",
            "float formatting: 999,999.79\n"
          ]
        }
      ]
    },
    {
      "cell_type": "code",
      "source": [
        "def cube(y):\n",
        " return y*y*y\n",
        "\n",
        "lambda_cube = lambda y: y*y*y\n",
        "print(\"Using function defined with `def` keyword, cube:\", cube(5))\n",
        "print(\"Using lambda function, cube:\", lambda_cube(5))"
      ],
      "metadata": {
        "colab": {
          "base_uri": "https://localhost:8080/",
          "height": 0
        },
        "id": "c_N_O61olcga",
        "outputId": "aa277942-5fbb-4998-f36d-14df0af0594f"
      },
      "execution_count": 3,
      "outputs": [
        {
          "output_type": "stream",
          "name": "stdout",
          "text": [
            "Using function defined with `def` keyword, cube: 125\n",
            "Using lambda function, cube: 125\n"
          ]
        }
      ]
    },
    {
      "cell_type": "code",
      "source": [
        "is_even_list = [lambda arg=x: arg * 10 for x in range(1, 5)]\n",
        "for item in is_even_list:\n",
        " print(item())"
      ],
      "metadata": {
        "colab": {
          "base_uri": "https://localhost:8080/",
          "height": 0
        },
        "id": "PcvQNWpzl06m",
        "outputId": "754adff2-32fa-4331-9314-415a09129fe5"
      },
      "execution_count": 4,
      "outputs": [
        {
          "output_type": "stream",
          "name": "stdout",
          "text": [
            "10\n",
            "20\n",
            "30\n",
            "40\n"
          ]
        }
      ]
    },
    {
      "cell_type": "code",
      "source": [
        "Max = lambda a, b : a if(a > b) else b\n",
        "print(Max(1, 2))"
      ],
      "metadata": {
        "colab": {
          "base_uri": "https://localhost:8080/",
          "height": 0
        },
        "id": "Fd0ZsrZKmEI9",
        "outputId": "a3b4cc6c-5873-4dc2-ea28-31df3cce8818"
      },
      "execution_count": 5,
      "outputs": [
        {
          "output_type": "stream",
          "name": "stdout",
          "text": [
            "2\n"
          ]
        }
      ]
    },
    {
      "cell_type": "code",
      "source": [
        "List = [[2,3,4],[1, 4, 16, 64],[3, 6, 9, 12]]\n",
        "\n",
        "sortList = lambda x: (sorted(i) for i in x)\n",
        "secondLargest = lambda x, f : [y[len(y)-2] for y in f(x)]\n",
        "res = secondLargest(List, sortList)\n",
        "\n",
        "print(res)"
      ],
      "metadata": {
        "colab": {
          "base_uri": "https://localhost:8080/",
          "height": 0
        },
        "id": "apt2Y9hImijj",
        "outputId": "43fcdf20-5b2f-4176-8cf6-6b531fb123f7"
      },
      "execution_count": 6,
      "outputs": [
        {
          "output_type": "stream",
          "name": "stdout",
          "text": [
            "[3, 16, 9]\n"
          ]
        }
      ]
    },
    {
      "cell_type": "code",
      "source": [
        "li = [5, 7, 22, 97, 54, 62, 77, 23, 73, 61]\n",
        "\n",
        "final_list = list(filter(lambda x: (x % 2 != 0), li))\n",
        "print(final_list)"
      ],
      "metadata": {
        "colab": {
          "base_uri": "https://localhost:8080/",
          "height": 0
        },
        "id": "HLVwOWZym4nR",
        "outputId": "960be969-8f85-4531-fb17-f22375fdb7f0"
      },
      "execution_count": 7,
      "outputs": [
        {
          "output_type": "stream",
          "name": "stdout",
          "text": [
            "[5, 7, 97, 77, 23, 73, 61]\n"
          ]
        }
      ]
    },
    {
      "cell_type": "code",
      "source": [
        "ages = [13, 90, 17, 59, 21, 60, 5]\n",
        "adults = list(filter(lambda age: age > 18, ages))\n",
        "\n",
        "print(adults)"
      ],
      "metadata": {
        "colab": {
          "base_uri": "https://localhost:8080/",
          "height": 0
        },
        "id": "BWCtdhBJnKQ3",
        "outputId": "1b321d87-cf95-4cba-998a-0288e5e21ab6"
      },
      "execution_count": 8,
      "outputs": [
        {
          "output_type": "stream",
          "name": "stdout",
          "text": [
            "[90, 59, 21, 60]\n"
          ]
        }
      ]
    },
    {
      "cell_type": "code",
      "source": [
        "li = [5, 7, 22, 97, 54, 62, 77, 23, 73, 61]\n",
        "\n",
        "\n",
        "\n",
        "final_list = list(filter(lambda x: (x * 2) % 10 != 0, li))\n",
        "print(final_list)\n",
        "\n",
        "final_list = list(filter(lambda x: x % 2 != 0, map(lambda x: x*2, li)))\n",
        "print(final_list)"
      ],
      "metadata": {
        "colab": {
          "base_uri": "https://localhost:8080/"
        },
        "id": "Ss9fsapl0-16",
        "outputId": "21b85a43-7b2b-4e43-c2d8-b2534f366c0e"
      },
      "execution_count": 10,
      "outputs": [
        {
          "output_type": "stream",
          "name": "stdout",
          "text": [
            "[7, 22, 97, 54, 62, 77, 23, 73, 61]\n",
            "[]\n"
          ]
        }
      ]
    },
    {
      "cell_type": "code",
      "source": [
        "animals = ['dog', 'cat', 'parrot', 'rabbit']\n",
        "uppered_animals = list(map(lambda animal: animal.upper(), animals))\n",
        "\n",
        "print(uppered_animals)"
      ],
      "metadata": {
        "colab": {
          "base_uri": "https://localhost:8080/"
        },
        "id": "fK0VO_5V1pWI",
        "outputId": "4ea7eb3a-5435-4fe4-93ee-e5f867a94a24"
      },
      "execution_count": 11,
      "outputs": [
        {
          "output_type": "stream",
          "name": "stdout",
          "text": [
            "['DOG', 'CAT', 'PARROT', 'RABBIT']\n"
          ]
        }
      ]
    },
    {
      "cell_type": "code",
      "source": [
        "from functools import reduce\n",
        "li = [5, 8, 10, 20, 50, 100]\n",
        "# The lambda function should accept only two arguments, x and y.\n",
        "sum = reduce((lambda x, y: x + y), li)\n",
        "print(sum)"
      ],
      "metadata": {
        "colab": {
          "base_uri": "https://localhost:8080/"
        },
        "id": "3nq_1Mo02kLo",
        "outputId": "c8be9a6d-e530-4194-d1f9-1f3fb799aee7"
      },
      "execution_count": 13,
      "outputs": [
        {
          "output_type": "stream",
          "name": "stdout",
          "text": [
            "193\n"
          ]
        }
      ]
    },
    {
      "cell_type": "code",
      "source": [
        "import functools\n",
        "lis = [1, 3, 5, 6, 2, ]\n",
        "print(\"The maximum element of the list is : \", end=\"\")\n",
        "print(functools.reduce(lambda a, b: a if a > b else b, lis))"
      ],
      "metadata": {
        "colab": {
          "base_uri": "https://localhost:8080/"
        },
        "id": "4YeMei7p274l",
        "outputId": "6c158a31-ed79-457a-c66c-078da6702d89"
      },
      "execution_count": 14,
      "outputs": [
        {
          "output_type": "stream",
          "name": "stdout",
          "text": [
            "The maximum element of the list is : 6\n"
          ]
        }
      ]
    }
  ]
}