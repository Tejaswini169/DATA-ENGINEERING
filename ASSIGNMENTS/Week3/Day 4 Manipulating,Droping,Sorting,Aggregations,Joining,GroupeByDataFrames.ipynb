{
  "nbformat": 4,
  "nbformat_minor": 0,
  "metadata": {
    "colab": {
      "provenance": []
    },
    "kernelspec": {
      "name": "python3",
      "display_name": "Python 3"
    },
    "language_info": {
      "name": "python"
    }
  },
  "cells": [
    {
      "cell_type": "markdown",
      "source": [
        "Name: Tejaswini Gokanakonda\n",
        "\n",
        "Roll No:DE142\n",
        "\n",
        "Date:21-11-2024"
      ],
      "metadata": {
        "id": "MMl16uiJGyE1"
      }
    },
    {
      "cell_type": "code",
      "execution_count": 1,
      "metadata": {
        "colab": {
          "base_uri": "https://localhost:8080/"
        },
        "id": "3TBEVq8VFhpe",
        "outputId": "8ff69849-e77f-41b1-8d91-95dab41fe97b"
      },
      "outputs": [
        {
          "output_type": "stream",
          "name": "stdout",
          "text": [
            "root\n",
            " |-- employee_name: string (nullable = true)\n",
            " |-- department: string (nullable = true)\n",
            " |-- state: string (nullable = true)\n",
            " |-- salary: long (nullable = true)\n",
            " |-- age: long (nullable = true)\n",
            " |-- bonus: long (nullable = true)\n",
            "\n",
            "+-------------+----------+-----+------+---+-----+\n",
            "|employee_name|department|state|salary|age|bonus|\n",
            "+-------------+----------+-----+------+---+-----+\n",
            "|        James|     Sales|   NY| 90000| 34|10000|\n",
            "|      Michael|     Sales|   NY| 86000| 56|20000|\n",
            "|       Robert|     Sales|   CA| 81000| 30|23000|\n",
            "|        Maria|   Finance|   CA| 90000| 24|23000|\n",
            "|        Raman|   Finance|   CA| 99000| 40|24000|\n",
            "|        Scott|   Finance|   NY| 83000| 36|19000|\n",
            "|          Jen|   Finance|   NY| 79000| 53|15000|\n",
            "|         Jeff| Marketing|   CA| 80000| 25|18000|\n",
            "|        Kumar| Marketing|   NY| 91000| 50|21000|\n",
            "+-------------+----------+-----+------+---+-----+\n",
            "\n"
          ]
        }
      ],
      "source": [
        "from pyspark.sql import SparkSession\n",
        "\n",
        "\n",
        "# Initialize SparkSession\n",
        "spark = SparkSession.builder \\\n",
        ".appName(\"example\") \\\n",
        ".getOrCreate()\n",
        "# Data\n",
        "simpleData = [(\"James\",\"Sales\",\"NY\",90000,34,10000),\n",
        "(\"Michael\",\"Sales\",\"NY\",86000,56,20000),\n",
        "(\"Robert\",\"Sales\",\"CA\",81000,30,23000),\n",
        "(\"Maria\",\"Finance\",\"CA\",90000,24,23000),\n",
        "(\"Raman\",\"Finance\",\"CA\",99000,40,24000),\n",
        "(\"Scott\",\"Finance\",\"NY\",83000,36,19000),\n",
        "(\"Jen\",\"Finance\",\"NY\",79000,53,15000),\n",
        "(\"Jeff\",\"Marketing\",\"CA\",80000,25,18000),\n",
        "(\"Kumar\",\"Marketing\",\"NY\",91000,50,21000)\n",
        "]\n",
        "# Create DataFrame\n",
        "schema = [\"employee_name\",\"department\",\"state\",\"salary\",\"age\",\"bonus\"]\n",
        "df = spark.createDataFrame(data=simpleData, schema = schema)\n",
        "df.printSchema()\n",
        "df.show()"
      ]
    },
    {
      "cell_type": "code",
      "source": [
        "# groupby with sum of salaries\n",
        "sumdata = df.groupBy(\"department\").sum(\"salary\")\n",
        "sumdata.show()"
      ],
      "metadata": {
        "colab": {
          "base_uri": "https://localhost:8080/"
        },
        "id": "hu9Tar--Ijom",
        "outputId": "3b06c81d-0934-4131-b5b7-9d18dc4d5d19"
      },
      "execution_count": 2,
      "outputs": [
        {
          "output_type": "stream",
          "name": "stdout",
          "text": [
            "+----------+-----------+\n",
            "|department|sum(salary)|\n",
            "+----------+-----------+\n",
            "|     Sales|     257000|\n",
            "|   Finance|     351000|\n",
            "| Marketing|     171000|\n",
            "+----------+-----------+\n",
            "\n"
          ]
        }
      ]
    },
    {
      "cell_type": "code",
      "source": [
        "df.groupBy(\"department\").min(\"salary\").show()\n",
        "df.groupBy(\"department\").max(\"salary\").show()\n",
        "df.groupBy(\"department\").avg(\"salary\").show()\n",
        "df.groupBy(\"department\").mean(\"salary\").show()\n",
        "df.groupBy(\"department\").count().show()"
      ],
      "metadata": {
        "colab": {
          "base_uri": "https://localhost:8080/"
        },
        "id": "pI6-6zIOKrUU",
        "outputId": "3670347a-3811-4525-bf8a-126a93904ce7"
      },
      "execution_count": 3,
      "outputs": [
        {
          "output_type": "stream",
          "name": "stdout",
          "text": [
            "+----------+-----------+\n",
            "|department|min(salary)|\n",
            "+----------+-----------+\n",
            "|     Sales|      81000|\n",
            "|   Finance|      79000|\n",
            "| Marketing|      80000|\n",
            "+----------+-----------+\n",
            "\n",
            "+----------+-----------+\n",
            "|department|max(salary)|\n",
            "+----------+-----------+\n",
            "|     Sales|      90000|\n",
            "|   Finance|      99000|\n",
            "| Marketing|      91000|\n",
            "+----------+-----------+\n",
            "\n",
            "+----------+-----------------+\n",
            "|department|      avg(salary)|\n",
            "+----------+-----------------+\n",
            "|     Sales|85666.66666666667|\n",
            "|   Finance|          87750.0|\n",
            "| Marketing|          85500.0|\n",
            "+----------+-----------------+\n",
            "\n",
            "+----------+-----------------+\n",
            "|department|      avg(salary)|\n",
            "+----------+-----------------+\n",
            "|     Sales|85666.66666666667|\n",
            "|   Finance|          87750.0|\n",
            "| Marketing|          85500.0|\n",
            "+----------+-----------------+\n",
            "\n",
            "+----------+-----+\n",
            "|department|count|\n",
            "+----------+-----+\n",
            "|     Sales|    3|\n",
            "|   Finance|    4|\n",
            "| Marketing|    2|\n",
            "+----------+-----+\n",
            "\n"
          ]
        }
      ]
    },
    {
      "cell_type": "code",
      "source": [
        "#grouping by multiple columns\n",
        "df.groupBy(\"employee_name\",\"department\").min(\"salary\").show()\n",
        "df.groupBy(\"employee_name\",\"department\").max(\"salary\").show()\n",
        "df.groupBy(\"employee_name\",\"department\").avg(\"salary\").show()\n",
        "df.groupBy(\"employee_name\",\"department\").mean(\"salary\").show()\n",
        "df.groupBy(\"employee_name\",\"department\").count().show()\n"
      ],
      "metadata": {
        "colab": {
          "base_uri": "https://localhost:8080/"
        },
        "id": "JVMLbOZQMbJE",
        "outputId": "082a1a61-e565-45bf-ffd4-cbec43f82e43"
      },
      "execution_count": 4,
      "outputs": [
        {
          "output_type": "stream",
          "name": "stdout",
          "text": [
            "+-------------+----------+-----------+\n",
            "|employee_name|department|min(salary)|\n",
            "+-------------+----------+-----------+\n",
            "|      Michael|     Sales|      86000|\n",
            "|        James|     Sales|      90000|\n",
            "|        Maria|   Finance|      90000|\n",
            "|       Robert|     Sales|      81000|\n",
            "|          Jen|   Finance|      79000|\n",
            "|        Raman|   Finance|      99000|\n",
            "|         Jeff| Marketing|      80000|\n",
            "|        Scott|   Finance|      83000|\n",
            "|        Kumar| Marketing|      91000|\n",
            "+-------------+----------+-----------+\n",
            "\n",
            "+-------------+----------+-----------+\n",
            "|employee_name|department|max(salary)|\n",
            "+-------------+----------+-----------+\n",
            "|      Michael|     Sales|      86000|\n",
            "|        James|     Sales|      90000|\n",
            "|        Maria|   Finance|      90000|\n",
            "|       Robert|     Sales|      81000|\n",
            "|          Jen|   Finance|      79000|\n",
            "|        Raman|   Finance|      99000|\n",
            "|         Jeff| Marketing|      80000|\n",
            "|        Scott|   Finance|      83000|\n",
            "|        Kumar| Marketing|      91000|\n",
            "+-------------+----------+-----------+\n",
            "\n",
            "+-------------+----------+-----------+\n",
            "|employee_name|department|avg(salary)|\n",
            "+-------------+----------+-----------+\n",
            "|      Michael|     Sales|    86000.0|\n",
            "|        James|     Sales|    90000.0|\n",
            "|        Maria|   Finance|    90000.0|\n",
            "|       Robert|     Sales|    81000.0|\n",
            "|          Jen|   Finance|    79000.0|\n",
            "|        Raman|   Finance|    99000.0|\n",
            "|         Jeff| Marketing|    80000.0|\n",
            "|        Scott|   Finance|    83000.0|\n",
            "|        Kumar| Marketing|    91000.0|\n",
            "+-------------+----------+-----------+\n",
            "\n",
            "+-------------+----------+-----------+\n",
            "|employee_name|department|avg(salary)|\n",
            "+-------------+----------+-----------+\n",
            "|      Michael|     Sales|    86000.0|\n",
            "|        James|     Sales|    90000.0|\n",
            "|        Maria|   Finance|    90000.0|\n",
            "|       Robert|     Sales|    81000.0|\n",
            "|          Jen|   Finance|    79000.0|\n",
            "|        Raman|   Finance|    99000.0|\n",
            "|         Jeff| Marketing|    80000.0|\n",
            "|        Scott|   Finance|    83000.0|\n",
            "|        Kumar| Marketing|    91000.0|\n",
            "+-------------+----------+-----------+\n",
            "\n",
            "+-------------+----------+-----+\n",
            "|employee_name|department|count|\n",
            "+-------------+----------+-----+\n",
            "|      Michael|     Sales|    1|\n",
            "|        James|     Sales|    1|\n",
            "|        Maria|   Finance|    1|\n",
            "|       Robert|     Sales|    1|\n",
            "|          Jen|   Finance|    1|\n",
            "|        Raman|   Finance|    1|\n",
            "|         Jeff| Marketing|    1|\n",
            "|        Scott|   Finance|    1|\n",
            "|        Kumar| Marketing|    1|\n",
            "+-------------+----------+-----+\n",
            "\n"
          ]
        }
      ]
    },
    {
      "cell_type": "code",
      "source": [
        "#using pivot function\n",
        "df.groupBy(\"department\").sum(\"salary\").show()\n",
        "df.groupBy(\"department\").pivot(\"employee_name\").sum(\"salary\").show()"
      ],
      "metadata": {
        "colab": {
          "base_uri": "https://localhost:8080/"
        },
        "id": "tXDsPeLFNk7x",
        "outputId": "bfdf0628-43f5-4c63-bbc3-9af39339deff"
      },
      "execution_count": 5,
      "outputs": [
        {
          "output_type": "stream",
          "name": "stdout",
          "text": [
            "+----------+-----------+\n",
            "|department|sum(salary)|\n",
            "+----------+-----------+\n",
            "|     Sales|     257000|\n",
            "|   Finance|     351000|\n",
            "| Marketing|     171000|\n",
            "+----------+-----------+\n",
            "\n",
            "+----------+-----+-----+-----+-----+-----+-------+-----+------+-----+\n",
            "|department|James| Jeff|  Jen|Kumar|Maria|Michael|Raman|Robert|Scott|\n",
            "+----------+-----+-----+-----+-----+-----+-------+-----+------+-----+\n",
            "|     Sales|90000| NULL| NULL| NULL| NULL|  86000| NULL| 81000| NULL|\n",
            "|   Finance| NULL| NULL|79000| NULL|90000|   NULL|99000|  NULL|83000|\n",
            "| Marketing| NULL|80000| NULL|91000| NULL|   NULL| NULL|  NULL| NULL|\n",
            "+----------+-----+-----+-----+-----+-----+-------+-----+------+-----+\n",
            "\n"
          ]
        }
      ]
    },
    {
      "cell_type": "code",
      "source": [
        "from pyspark.sql import SparkSession\n",
        "\n",
        "\n",
        "# Initialize SparkSession\n",
        "spark = SparkSession.builder \\\n",
        ".appName(\"example\") \\\n",
        ".getOrCreate()\n",
        "# Data\n",
        "simpleData = [(\"James\",\"Sales\",\"NY\",90000,34,10000),\n",
        "(\"Michael\",\"Sales\",\"NY\",86000,56,20000),\n",
        "(\"Robert\",\"Sales\",\"CA\",81000,None,23000),\n",
        "(\"Maria\",\"Finance\",\"CA\",90000,24,23000),\n",
        "(\"Raman\",\"Finance\",\"CA\",99000,40,None),\n",
        "(\"Scott\",\"Finance\",\"NY\",None,36,44000),\n",
        "(\"Jen\",\"Finance\",\"NY\",55000,53,15000),\n",
        "(\"Jeff\",None,\"CA\",80000,25,18000),\n",
        "(\"null\",\"Marketing\",\"NY\",91000,50,21000)\n",
        "]\n",
        "# Create DataFrame\n",
        "schema = [\"employee_name\",\"department\",\"state\",\"salary\",\"age\",\"bonus\"]\n",
        "dfa = spark.createDataFrame(data=simpleData, schema = schema)\n",
        "dfa.na.drop().show()\n",
        "\n"
      ],
      "metadata": {
        "colab": {
          "base_uri": "https://localhost:8080/"
        },
        "id": "SZCzgeMoOdz5",
        "outputId": "9c37aee7-c8e7-4085-fcc4-98b53fc795f9"
      },
      "execution_count": 6,
      "outputs": [
        {
          "output_type": "stream",
          "name": "stdout",
          "text": [
            "+-------------+----------+-----+------+---+-----+\n",
            "|employee_name|department|state|salary|age|bonus|\n",
            "+-------------+----------+-----+------+---+-----+\n",
            "|        James|     Sales|   NY| 90000| 34|10000|\n",
            "|      Michael|     Sales|   NY| 86000| 56|20000|\n",
            "|        Maria|   Finance|   CA| 90000| 24|23000|\n",
            "|          Jen|   Finance|   NY| 55000| 53|15000|\n",
            "|         null| Marketing|   NY| 91000| 50|21000|\n",
            "+-------------+----------+-----+------+---+-----+\n",
            "\n"
          ]
        }
      ]
    },
    {
      "cell_type": "code",
      "source": [
        "from pyspark.sql import SparkSession\n",
        "\n",
        "\n",
        "# Initialize SparkSession\n",
        "spark = SparkSession.builder \\\n",
        ".appName(\"example\") \\\n",
        ".getOrCreate()\n",
        "# Data\n",
        "simpleData = [(\"James\",\"Sales\",\"NY\",90000,34,10000),\n",
        "(\"Michael\",\"Sales\",\"NY\",86000,56,20000),\n",
        "(\"Robert\",\"Sales\",\"CA\",81000,None,23000),\n",
        "(\"Maria\",\"Finance\",\"CA\",90000,24,23000),\n",
        "(\"Raman\",\"Finance\",\"CA\",99000,40,None),\n",
        "(\"Scott\",\"Finance\",\"NY\",None,36,44000),\n",
        "(\"Jen\",\"Finance\",\"NY\",55000,53,15000),\n",
        "(\"Jeff\",None,\"CA\",80000,25,18000),\n",
        "(\"null\",\"Marketing\",\"NY\",91000,50,21000)\n",
        "]\n",
        "# Create DataFrame\n",
        "schema = [\"employee_name\",\"department\",\"state\",\"salary\",\"age\",\"bonus\"]\n",
        "dfa = spark.createDataFrame(data=simpleData, schema = schema)\n",
        "dfa.show()"
      ],
      "metadata": {
        "colab": {
          "base_uri": "https://localhost:8080/"
        },
        "id": "PiSXPhUsSlC-",
        "outputId": "3413ba94-f050-4f17-d392-db79da50f71a"
      },
      "execution_count": 7,
      "outputs": [
        {
          "output_type": "stream",
          "name": "stdout",
          "text": [
            "+-------------+----------+-----+------+----+-----+\n",
            "|employee_name|department|state|salary| age|bonus|\n",
            "+-------------+----------+-----+------+----+-----+\n",
            "|        James|     Sales|   NY| 90000|  34|10000|\n",
            "|      Michael|     Sales|   NY| 86000|  56|20000|\n",
            "|       Robert|     Sales|   CA| 81000|NULL|23000|\n",
            "|        Maria|   Finance|   CA| 90000|  24|23000|\n",
            "|        Raman|   Finance|   CA| 99000|  40| NULL|\n",
            "|        Scott|   Finance|   NY|  NULL|  36|44000|\n",
            "|          Jen|   Finance|   NY| 55000|  53|15000|\n",
            "|         Jeff|      NULL|   CA| 80000|  25|18000|\n",
            "|         null| Marketing|   NY| 91000|  50|21000|\n",
            "+-------------+----------+-----+------+----+-----+\n",
            "\n"
          ]
        }
      ]
    },
    {
      "cell_type": "code",
      "source": [
        "df.groupBy(\"department\").agg(({\"salary\":\"sum\"})).show()\n",
        "df.agg(({\"salary\":\"sum\"})).show()  # Without group using agg on salary colums\n"
      ],
      "metadata": {
        "colab": {
          "base_uri": "https://localhost:8080/"
        },
        "id": "QUKNGYcRTTJc",
        "outputId": "2b3ad116-8b1d-4642-ea0f-70a2f5b08dde"
      },
      "execution_count": 8,
      "outputs": [
        {
          "output_type": "stream",
          "name": "stdout",
          "text": [
            "+----------+-----------+\n",
            "|department|sum(salary)|\n",
            "+----------+-----------+\n",
            "|     Sales|     257000|\n",
            "|   Finance|     351000|\n",
            "| Marketing|     171000|\n",
            "+----------+-----------+\n",
            "\n",
            "+-----------+\n",
            "|sum(salary)|\n",
            "+-----------+\n",
            "|     779000|\n",
            "+-----------+\n",
            "\n"
          ]
        }
      ]
    },
    {
      "cell_type": "code",
      "source": [
        "df.show()"
      ],
      "metadata": {
        "colab": {
          "base_uri": "https://localhost:8080/"
        },
        "id": "6KheTeXFUcLk",
        "outputId": "f6055f06-da8a-48fb-d7c6-2904f46f2d54"
      },
      "execution_count": 9,
      "outputs": [
        {
          "output_type": "stream",
          "name": "stdout",
          "text": [
            "+-------------+----------+-----+------+---+-----+\n",
            "|employee_name|department|state|salary|age|bonus|\n",
            "+-------------+----------+-----+------+---+-----+\n",
            "|        James|     Sales|   NY| 90000| 34|10000|\n",
            "|      Michael|     Sales|   NY| 86000| 56|20000|\n",
            "|       Robert|     Sales|   CA| 81000| 30|23000|\n",
            "|        Maria|   Finance|   CA| 90000| 24|23000|\n",
            "|        Raman|   Finance|   CA| 99000| 40|24000|\n",
            "|        Scott|   Finance|   NY| 83000| 36|19000|\n",
            "|          Jen|   Finance|   NY| 79000| 53|15000|\n",
            "|         Jeff| Marketing|   CA| 80000| 25|18000|\n",
            "|        Kumar| Marketing|   NY| 91000| 50|21000|\n",
            "+-------------+----------+-----+------+---+-----+\n",
            "\n"
          ]
        }
      ]
    },
    {
      "cell_type": "code",
      "source": [
        "df.sort(\"bonus\").show()\n",
        "df.sort(df[\"salary\"].desc()).show()\n",
        "df.orderBy(\"salary\").show()"
      ],
      "metadata": {
        "colab": {
          "base_uri": "https://localhost:8080/"
        },
        "id": "GRj-CdBiU094",
        "outputId": "1ffd7296-2bc0-45fb-894a-b285ea00ccb6"
      },
      "execution_count": 10,
      "outputs": [
        {
          "output_type": "stream",
          "name": "stdout",
          "text": [
            "+-------------+----------+-----+------+---+-----+\n",
            "|employee_name|department|state|salary|age|bonus|\n",
            "+-------------+----------+-----+------+---+-----+\n",
            "|        James|     Sales|   NY| 90000| 34|10000|\n",
            "|          Jen|   Finance|   NY| 79000| 53|15000|\n",
            "|         Jeff| Marketing|   CA| 80000| 25|18000|\n",
            "|        Scott|   Finance|   NY| 83000| 36|19000|\n",
            "|      Michael|     Sales|   NY| 86000| 56|20000|\n",
            "|        Kumar| Marketing|   NY| 91000| 50|21000|\n",
            "|       Robert|     Sales|   CA| 81000| 30|23000|\n",
            "|        Maria|   Finance|   CA| 90000| 24|23000|\n",
            "|        Raman|   Finance|   CA| 99000| 40|24000|\n",
            "+-------------+----------+-----+------+---+-----+\n",
            "\n",
            "+-------------+----------+-----+------+---+-----+\n",
            "|employee_name|department|state|salary|age|bonus|\n",
            "+-------------+----------+-----+------+---+-----+\n",
            "|        Raman|   Finance|   CA| 99000| 40|24000|\n",
            "|        Kumar| Marketing|   NY| 91000| 50|21000|\n",
            "|        James|     Sales|   NY| 90000| 34|10000|\n",
            "|        Maria|   Finance|   CA| 90000| 24|23000|\n",
            "|      Michael|     Sales|   NY| 86000| 56|20000|\n",
            "|        Scott|   Finance|   NY| 83000| 36|19000|\n",
            "|       Robert|     Sales|   CA| 81000| 30|23000|\n",
            "|         Jeff| Marketing|   CA| 80000| 25|18000|\n",
            "|          Jen|   Finance|   NY| 79000| 53|15000|\n",
            "+-------------+----------+-----+------+---+-----+\n",
            "\n",
            "+-------------+----------+-----+------+---+-----+\n",
            "|employee_name|department|state|salary|age|bonus|\n",
            "+-------------+----------+-----+------+---+-----+\n",
            "|          Jen|   Finance|   NY| 79000| 53|15000|\n",
            "|         Jeff| Marketing|   CA| 80000| 25|18000|\n",
            "|       Robert|     Sales|   CA| 81000| 30|23000|\n",
            "|        Scott|   Finance|   NY| 83000| 36|19000|\n",
            "|      Michael|     Sales|   NY| 86000| 56|20000|\n",
            "|        James|     Sales|   NY| 90000| 34|10000|\n",
            "|        Maria|   Finance|   CA| 90000| 24|23000|\n",
            "|        Kumar| Marketing|   NY| 91000| 50|21000|\n",
            "|        Raman|   Finance|   CA| 99000| 40|24000|\n",
            "+-------------+----------+-----+------+---+-----+\n",
            "\n"
          ]
        }
      ]
    }
  ]
}