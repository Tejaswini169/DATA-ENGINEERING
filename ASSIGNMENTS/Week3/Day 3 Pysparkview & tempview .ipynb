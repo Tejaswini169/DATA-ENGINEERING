{
  "cells": [
    {
      "cell_type": "markdown",
      "source": [
        "Name : Tejaswini Gokanakonda\n",
        "\n",
        "Roll No:DE142\n",
        "\n",
        "Date : 20-11-2024\n"
      ],
      "metadata": {
        "id": "ngQStRGsHjkP"
      }
    },
    {
      "cell_type": "code",
      "execution_count": null,
      "metadata": {
        "application/vnd.databricks.v1+cell": {
          "cellMetadata": {
            "byteLimit": 2048000,
            "rowLimit": 10000
          },
          "inputWidgets": {},
          "nuid": "598be1d7-4a52-4479-95c6-947750cbe6d1",
          "showTitle": false,
          "tableResultSettingsMap": {},
          "title": ""
        },
        "id": "Y-Cp_ylvHjBb",
        "outputId": "bd173a65-7969-40bd-d5d3-0ee481d690f1"
      },
      "outputs": [
        {
          "output_type": "stream",
          "name": "stdout",
          "text": [
            "+---------+--------+-------+-----+\n|firstname|lastname|country|state|\n+---------+--------+-------+-----+\n|    James|   Smith|    USA|   CA|\n|  Michael|    Rose|    USA|   NY|\n|   Robert|Williams|    USA|   CA|\n|    Maria|   Jones|    USA|   FL|\n+---------+--------+-------+-----+\n\n"
          ]
        }
      ],
      "source": [
        "from pyspark.sql import SparkSession\n",
        "# Create spark session\n",
        "spark = SparkSession \\\n",
        ".builder \\\n",
        ".appName(\"SparkByExamples.com\") \\\n",
        ".enableHiveSupport() \\\n",
        ".getOrCreate()\n",
        "data = [(\"James\",\"Smith\",\"USA\",\"CA\"),\n",
        "(\"Michael\",\"Rose\",\"USA\",\"NY\"),\n",
        "(\"Robert\",\"Williams\",\"USA\",\"CA\"),\n",
        "(\"Maria\",\"Jones\",\"USA\",\"FL\")\n",
        "]\n",
        "columns = [\"firstname\",\"lastname\",\"country\",\"state\"]\n",
        "# Create dataframe\n",
        "sampleDF = spark.sparkContext.parallelize(data).toDF(columns)\n",
        "sampleDF.createOrReplaceTempView(\"Person\")\n",
        "sampleDF.createOrReplaceTempView(\"mydata\")\n",
        "sampleDF.show()"
      ]
    },
    {
      "cell_type": "code",
      "execution_count": null,
      "metadata": {
        "application/vnd.databricks.v1+cell": {
          "cellMetadata": {
            "byteLimit": 2048000,
            "rowLimit": 10000
          },
          "inputWidgets": {},
          "nuid": "2e79a4c6-9143-49e8-abb2-06d40ce62e1c",
          "showTitle": false,
          "tableResultSettingsMap": {},
          "title": ""
        },
        "id": "Dm0f5g1WHjBd",
        "outputId": "a67a2456-3916-4482-94d1-71c56483121d"
      },
      "outputs": [
        {
          "output_type": "stream",
          "name": "stdout",
          "text": [
            "+---------+--------+-------+-----+\n|firstname|lastname|country|state|\n+---------+--------+-------+-----+\n|    James|   Smith|    USA|   CA|\n|  Michael|    Rose|    USA|   NY|\n|   Robert|Williams|    USA|   CA|\n|    Maria|   Jones|    USA|   FL|\n+---------+--------+-------+-----+\n\n+---------+--------+-------+-----+\n|firstname|lastname|country|state|\n+---------+--------+-------+-----+\n|    James|   Smith|    USA|   CA|\n|  Michael|    Rose|    USA|   NY|\n|   Robert|Williams|    USA|   CA|\n|    Maria|   Jones|    USA|   FL|\n+---------+--------+-------+-----+\n\n"
          ]
        }
      ],
      "source": [
        "spark.sql(\"select * from person\").show()\n",
        "spark.sql(\"select * from mydata\").show()"
      ]
    }
  ],
  "metadata": {
    "application/vnd.databricks.v1+notebook": {
      "dashboards": [],
      "environmentMetadata": null,
      "language": "python",
      "notebookMetadata": {
        "pythonIndentUnit": 2
      },
      "notebookName": "Pyspark view and temp view",
      "widgets": {}
    },
    "colab": {
      "provenance": []
    }
  },
  "nbformat": 4,
  "nbformat_minor": 0
}